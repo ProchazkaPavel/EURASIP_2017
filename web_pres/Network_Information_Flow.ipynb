{
 "cells": [
  {
   "cell_type": "markdown",
   "metadata": {},
   "source": [
    "<!--\n",
    "Pavel Prochazka \n",
    "pavel@prochazka.info\n",
    "v0.2.0 10.12.2016\n",
    "-->"
   ]
  },
  {
   "cell_type": "markdown",
   "metadata": {},
   "source": [
    "#Symmetric Wireless Butterfly Network -- Information Flow"
   ]
  },
  {
   "cell_type": "markdown",
   "metadata": {},
   "source": [
    "Prior the introduction of the constellation design in butterfly nework, let introduce the system model and pure network information flow. The symmetric butterfly network consists of 2 sources ($S_{A}$, $S_B$), one relay ($R$) and 2 destinations ($D_A$, $D_B$). The Source $S_{A}$ (likewise for $S_{B}$) wants to transmit their data $d_{A}$ to its respective destination $D_{A}$. There are no direct links $S_A\\to D_A$ and $S_B\\to D_B$ and thus the information must be passed through the relay."
   ]
  },
  {
   "cell_type": "markdown",
   "metadata": {},
   "source": [
    "For efficient utilization of broadcast nature of the physical layer, it is assumed that there are 2 time slots for the communication: 1) <em>MAC stage</em>, where both sources transmit and the remaining nodes receive, that is $S_A,S_B\\to R$, $S_A\\to D_B$ and $S_B\\to D_A$ links, 2) <em>BC stage</em>, where Relay transmits and both destinations receive, that is $R\\to D_A, D_B$ links. \n",
    "<!--Our motivation is to efficiently utilize the side links ($S_A\\to D_B$ and $S_B\\to D_A$) in the MAC stage.-->"
   ]
  },
  {
   "cell_type": "code",
   "execution_count": 8,
   "metadata": {
    "collapsed": true
   },
   "outputs": [],
   "source": [
    "# Initialization\n",
    "import numpy as np \n",
    "import matplotlib.pyplot as plt\n",
    "\n",
    "# General Definition\n",
    "N = 3 # N bits of data assumed in both sources\n",
    "Aq = 2**N # Cardinality of alphabet in sources\n",
    "L = 1 # Length of data vector"
   ]
  },
  {
   "cell_type": "markdown",
   "metadata": {},
   "source": [
    "##Maximal Utilization of Side Links (Network Coding)"
   ]
  },
  {
   "cell_type": "markdown",
   "metadata": {},
   "source": [
    "If the side links allow to pass at least the same information as the relay to destination links, a network coding paradigm can be utilized, which can be demonstrated as:"
   ]
  },
  {
   "cell_type": "code",
   "execution_count": 9,
   "metadata": {
    "collapsed": false
   },
   "outputs": [],
   "source": [
    "# Source data\n",
    "dA = np.random.randint(Aq, size=L) # random data in source A\n",
    "dB = np.random.randint(Aq, size=L) # ranodm data in source B"
   ]
  },
  {
   "cell_type": "markdown",
   "metadata": {},
   "source": [
    "After the MAC phase: $d_A$, $d_B$ are availble in $R$, $d_A$ is available in $D_B$ and $d_B$ is available in $D_A$. Now relay applies a network function (GF addition in this case)."
   ]
  },
  {
   "cell_type": "code",
   "execution_count": 10,
   "metadata": {
    "collapsed": true
   },
   "outputs": [],
   "source": [
    "# Relay processing (network coding)\n",
    "dR = dA ^ dB # Exclusive OR network function (GF addition in our case)"
   ]
  },
  {
   "cell_type": "markdown",
   "metadata": {},
   "source": [
    "The relay data $D_R$ are available in both destinations after BC phase. Both destinations then use the data available from the MAC stage to recover desired data as:"
   ]
  },
  {
   "cell_type": "code",
   "execution_count": 11,
   "metadata": {
    "collapsed": false
   },
   "outputs": [],
   "source": [
    "# Destination A processing\n",
    "est_dA = dR ^ dB # dR is available from the BC phase and dB from the MAC phase\n",
    "# Destination B processing\n",
    "est_dB = dR ^ dA"
   ]
  },
  {
   "cell_type": "markdown",
   "metadata": {},
   "source": [
    "One can assure that data are estimated properly in both destination"
   ]
  },
  {
   "cell_type": "code",
   "execution_count": 12,
   "metadata": {
    "collapsed": false
   },
   "outputs": [
    {
     "name": "stdout",
     "output_type": "stream",
     "text": [
      "Number of errors in Da:0\n",
      "Number of errors in Db:0\n"
     ]
    }
   ],
   "source": [
    "print 'Number of errors in Da:%d'%(np.sum(dA!=est_dA))\n",
    "print 'Number of errors in Db:%d'%(np.sum(dB!=est_dB))"
   ]
  },
  {
   "cell_type": "markdown",
   "metadata": {
    "collapsed": true
   },
   "source": [
    "##No Use of Side Links (Routing)"
   ]
  },
  {
   "cell_type": "markdown",
   "metadata": {},
   "source": [
    "A conventional routing approach pass all information through the relay. The relay processing is thus:"
   ]
  },
  {
   "cell_type": "code",
   "execution_count": 13,
   "metadata": {
    "collapsed": true
   },
   "outputs": [],
   "source": [
    "# Relay processing (routing)\n",
    "dR = (dA, dB) # Joint pair"
   ]
  },
  {
   "cell_type": "markdown",
   "metadata": {},
   "source": [
    "After the BC stage, both destination have directly form their desired data."
   ]
  },
  {
   "cell_type": "code",
   "execution_count": 14,
   "metadata": {
    "collapsed": false
   },
   "outputs": [],
   "source": [
    "# Destination A processing\n",
    "est_dA = dR[0] # dR is available from the BC phase and dB from the MAC phase\n",
    "# Destination B processing\n",
    "est_dB = dR[1]"
   ]
  },
  {
   "cell_type": "markdown",
   "metadata": {},
   "source": [
    "And not surprisingly"
   ]
  },
  {
   "cell_type": "code",
   "execution_count": 15,
   "metadata": {
    "collapsed": false
   },
   "outputs": [
    {
     "name": "stdout",
     "output_type": "stream",
     "text": [
      "Number of errors in Da:0\n",
      "Number of errors in Db:0\n"
     ]
    }
   ],
   "source": [
    "print 'Number of errors in Da:%d'%(np.sum(dA!=est_dA))\n",
    "print 'Number of errors in Db:%d'%(np.sum(dB!=est_dB))"
   ]
  },
  {
   "cell_type": "markdown",
   "metadata": {},
   "source": [
    "##Demands on Individual Links Capacities"
   ]
  },
  {
   "cell_type": "markdown",
   "metadata": {},
   "source": [
    "It can be easily shown that both aforementioned scenarios need to reliably transmit $2N$ bits/symbol from sources to relay (that is the pair  $d_A, d_B$). While the routing does not need any information passed through the side links, the network coding needs reliable transmission of $N$ bits/symbol by each side link ($d_A$ in $S_A\\to D_B$ link and $d_B$ in $S_B\\to D_A$). On the other hand, the demand on BC channel is $2N$ bits/symbol in case of routing $d_R = (d_A, d_B)$, while network coding needs only $N$ bits/symbol $d_R = d_A\\oplus d_B$, where $\\oplus$ denotes GF addtion."
   ]
  },
  {
   "cell_type": "markdown",
   "metadata": {},
   "source": [
    "One can see that utilization of the side link can be highly beneficial in butterfly network, since it is inherently presented (for free). A considereble amount of energy can be saved by reducing the relay data cardinality, that is channels ($R\\to D_A, D_B$) capacity demands. The main area of interest of this work is in case, where side links cannot reliably carry all N bits, but only a portion of that. The crucial question is how to take at least partially the advantage of network coding paradigm in that case."
   ]
  },
  {
   "cell_type": "markdown",
   "metadata": {},
   "source": [
    "##Partial Utilization of Site Links"
   ]
  },
  {
   "cell_type": "markdown",
   "metadata": {},
   "source": [
    "Suppose that site channels support reliable transmission of $N_b\\le N$ bits. One can consider the network coding paradigm upon these $N_b$ bits and the remaining part $N_s = N - N_b$ must be passed fully through the relay. Thus both routing and network coding are simultaneously used. "
   ]
  },
  {
   "cell_type": "code",
   "execution_count": 16,
   "metadata": {
    "collapsed": true
   },
   "outputs": [],
   "source": [
    "# Definition of parameters for partial utilization of Side Links\n",
    "Nb = 2 # Nb bits can be reliably passed through the side channels\n",
    "Ns = N - Nb # Ns bits must be passed fully through the relay\n",
    "Aq_b = 2**Nb # Cardinality of alphabet in sources\n",
    "Aq_s = 2**Ns # Cardinality of alphabet in sources"
   ]
  },
  {
   "cell_type": "markdown",
   "metadata": {},
   "source": [
    "The $N$-bit source data are split to two parts: 1) $N_b$-bit <em>basic part</em> that is supposed to use the network coding paradigm for maximal utilization of the side links and 2) $N_s$-bit <em>superposed part</em> that will be routed through the relay."
   ]
  },
  {
   "cell_type": "code",
   "execution_count": 23,
   "metadata": {
    "collapsed": false
   },
   "outputs": [],
   "source": [
    "# Source data\n",
    "dA_b = np.random.randint(Aq_b, size=L)  # basic part of source A data\n",
    "dA_s = np.random.randint(Aq_s, size=L)  # superposed part of source A data\n",
    "dB_b = np.random.randint(Aq_b, size=L)  # basic part of source B data\n",
    "dB_s = np.random.randint(Aq_s, size=L)  # superposed part of source B data\n",
    "dA = (dA_s, dA_b) # source A data\n",
    "dB = (dB_s, dB_b) # source B data"
   ]
  },
  {
   "cell_type": "markdown",
   "metadata": {},
   "source": [
    "The relay data consists of the tupple given by both superposed parts from sources and the network coded basic parts, that is $d_R = (d_A^s, d_B^s, d_A^b \\oplus d_B^b)$."
   ]
  },
  {
   "cell_type": "code",
   "execution_count": 24,
   "metadata": {
    "collapsed": true
   },
   "outputs": [],
   "source": [
    "# Relay processing (network coding)\n",
    "dR = (dA_s, dB_s, dA_b ^ dB_b) # Exclusive OR network function (GF addition in our case)"
   ]
  },
  {
   "cell_type": "markdown",
   "metadata": {},
   "source": [
    "The destinations reliably receive basic parts from complementary sources in MAC stage and the relay data. The superposed part of the desired data is directly available in relay data and basic part is recovered as in case of network coding."
   ]
  },
  {
   "cell_type": "code",
   "execution_count": 25,
   "metadata": {
    "collapsed": true
   },
   "outputs": [],
   "source": [
    "# Destination A processing \n",
    "est_dA_b = dR[2] ^ dB_b # inverse of network function for basic part\n",
    "est_dA_s = dR[0] # inverse of network function for basic part\n",
    "est_dA = (est_dA_s, est_dA_b)\n",
    "\n",
    "# Destination B processing\n",
    "est_dB_b = dR[2] ^ dA_b # inverse of network function for basic part\n",
    "est_dB_s = dR[1] # inverse of network function for basic part\n",
    "est_dB = (est_dB_s, est_dB_b)"
   ]
  },
  {
   "cell_type": "markdown",
   "metadata": {},
   "source": [
    "One can again ensure that no error occured in destinations. Note that this error-free data recovery in both destinations is conditioned by reliability of <em>all</em> links. "
   ]
  },
  {
   "cell_type": "code",
   "execution_count": 26,
   "metadata": {
    "collapsed": false
   },
   "outputs": [
    {
     "name": "stdout",
     "output_type": "stream",
     "text": [
      "Number of errors in Da:0\n",
      "Number of errors in Db:0\n"
     ]
    }
   ],
   "source": [
    "print 'Number of errors in Da:%d'%(np.sum(dA!=est_dA))\n",
    "print 'Number of errors in Db:%d'%(np.sum(dB!=est_dB))"
   ]
  },
  {
   "cell_type": "markdown",
   "metadata": {},
   "source": [
    "Both network coding and routing can be seen as special cases of this generalized approach, where $N_s=0$ for Network Coding and $N_b=0$ for routing. This approach maximally uses the site channels by $N_b$ bits and reduces the requests to $R\\to D_A, D_B$ links to $N_b+2N_s$ bits per symbol. Further sections introduce and investigate the constellation design taking into account this approach."
   ]
  },
  {
   "cell_type": "markdown",
   "metadata": {},
   "source": [
    "##References:"
   ]
  },
  {
   "cell_type": "code",
   "execution_count": null,
   "metadata": {
    "collapsed": true
   },
   "outputs": [],
   "source": []
  }
 ],
 "metadata": {
  "kernelspec": {
   "display_name": "Python 2",
   "language": "python",
   "name": "python2"
  },
  "language_info": {
   "codemirror_mode": {
    "name": "ipython",
    "version": 2
   },
   "file_extension": ".py",
   "mimetype": "text/x-python",
   "name": "python",
   "nbconvert_exporter": "python",
   "pygments_lexer": "ipython2",
   "version": "2.7.10"
  }
 },
 "nbformat": 4,
 "nbformat_minor": 0
}
