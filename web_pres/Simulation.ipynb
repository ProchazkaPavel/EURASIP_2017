{
 "cells": [
  {
   "cell_type": "markdown",
   "metadata": {},
   "source": [
    "<!--\n",
    "Pavel Prochazka \n",
    "pavel@prochazka.info\n",
    "v0.2.0 21.12.2016\n",
    "-->"
   ]
  },
  {
   "cell_type": "markdown",
   "metadata": {},
   "source": [
    "#Numerical Simulation"
   ]
  },
  {
   "cell_type": "markdown",
   "metadata": {},
   "source": [
    "This section aims with the implementation of the system according to the network information flow introduced in the first section with constellation design shown in the second section and demodulation technique shown in the third section."
   ]
  },
  {
   "cell_type": "markdown",
   "metadata": {},
   "source": [
    "##Gaussian Noise"
   ]
  },
  {
   "cell_type": "markdown",
   "metadata": {},
   "source": [
    "Starting with Gaussian noise description, the quality of all links are described by signal to noise ratio (SNR or $\\gamma$) that is unambiguously related to variance of the Gaussian noise ($\\sigma_W^2$), since unit power restriction is assumed in all transmiting nodes. The relation\n",
    "$$\\sigma_W^2 = 10^{\\frac{\\gamma}{10}}$$ is described as:"
   ]
  },
  {
   "cell_type": "code",
   "execution_count": 8,
   "metadata": {
    "collapsed": true
   },
   "outputs": [],
   "source": [
    "def SNR2sigma2w(SNR):\n",
    "    alpha = 10**(float(SNR)/10)\n",
    "    return 1.0/alpha"
   ]
  },
  {
   "cell_type": "markdown",
   "metadata": {},
   "source": [
    "The complex valued zero mean AWGN is then generated according to its pdf $$p(w)=\\frac{1}{\\sigma_W\\pi}\\exp\\left(-\\frac{|w|^2}{\\sigma_W^2}\\right)$$ as:"
   ]
  },
  {
   "cell_type": "code",
   "execution_count": 9,
   "metadata": {
    "collapsed": false
   },
   "outputs": [],
   "source": [
    "import numpy as np\n",
    "SNR = 8 # Signal to noise ratio\n",
    "L = 1000 # Vector length\n",
    "sigma2w = SNR2sigma2w(SNR)\n",
    "# Samples of complex valued Gaussian noise\n",
    "w = np.sqrt(sigma2w/2) * (np.random.randn(L) + 1j * np.random.randn(L))"
   ]
  },
  {
   "cell_type": "markdown",
   "metadata": {},
   "source": [
    "One can ensure that the properties of the generated noise fit the assumptions (the mean should tend to zero and mean energy to $\\sigma_W^2$ with increasing $L$:"
   ]
  },
  {
   "cell_type": "code",
   "execution_count": 13,
   "metadata": {
    "collapsed": false
   },
   "outputs": [
    {
     "name": "stdout",
     "output_type": "stream",
     "text": [
      "Empirical mean:(-0.01 + 0.00i)\n",
      "Empirical mean energy:0.162,\n",
      "Sigma2w:0.158\n"
     ]
    }
   ],
   "source": [
    "print 'Empirical mean:({0.real:.2f} + {0.imag:.2f}i)'.format(1./L * np.sum(w))\n",
    "print 'Empirical mean energy:%.3f,'%(1./L * np.sum(np.abs(w)**2))\n",
    "print 'Sigma2w:%.3f'%sigma2w"
   ]
  },
  {
   "cell_type": "markdown",
   "metadata": {},
   "source": [
    "## Constellation Design in Use"
   ]
  },
  {
   "cell_type": "markdown",
   "metadata": {},
   "source": [
    "When everything is prepared, we can start with the implementation:"
   ]
  },
  {
   "cell_type": "markdown",
   "metadata": {},
   "source": [
    "It should be stressed that the constellations depend on global state knowledge."
   ]
  },
  {
   "cell_type": "code",
   "execution_count": 50,
   "metadata": {
    "collapsed": false
   },
   "outputs": [],
   "source": [
    "# Definitions\n",
    "Nb = 1 # Nb bits can be reliably passed through the side channels\n",
    "Ns = 1 # Ns bits must be passed fully through the relay\n",
    "Aq_b = 2**Nb # Cardinality of alphabet in sources\n",
    "Aq_s = 2**Ns # Cardinality of alphabet in sources\n",
    "L = 1000\n",
    "\n",
    "gMAC = 18 # SNR of sources to relay channel  [dB]\n",
    "gBC = 18 # SNR of relay dastinations channel [dB]\n",
    "gHSI = 20 # SNR of sources to complementary destinations (site) channel  [dB]\n",
    "\n",
    "# Channel gains (due to symetry symmetry, only destination A\n",
    "# is considered)\n",
    "hAR = 1. # sA to relay\n",
    "hBR = 1. # sB to relay\n",
    "hRA = 1. # relay to dA\n",
    "hBA = 1. # sB to dA\n",
    "\n",
    "# Evaluation of Gaussian variances\n",
    "sigma2wMAC = SNR2sigma2w(gMAC)\n",
    "sigma2wBC = SNR2sigma2w(gBC)\n",
    "sigma2wHSI = SNR2sigma2w(gHSI)\n",
    "\n",
    "# Evaluation of proper constellations\n",
    "from Constellation_Design_lib import const_design_XOR\n",
    "(sA_const, sB_const, basic_part, superposed_part, relay_const, alpha) = \\\n",
    "            const_design_XOR(Nb, Ns, hAR/hBR)"
   ]
  },
  {
   "cell_type": "code",
   "execution_count": 42,
   "metadata": {
    "collapsed": false
   },
   "outputs": [],
   "source": [
    "# Source data\n",
    "dAb = np.random.randint(Aq_b, size=L)  # basic part of source A data\n",
    "dAs = np.random.randint(Aq_s, size=L)  # superposed part of source A data\n",
    "dBb = np.random.randint(Aq_b, size=L)  # basic part of source B data\n",
    "dBs = np.random.randint(Aq_s, size=L)  # superposed part of source B data\n",
    "dA = (dAs, dAb) # source A data\n",
    "dB = (dBs, dBb) # source B data\n",
    "\n",
    "# Constellation mappers\n",
    "sAb = basic_part[dAb]\n",
    "sBb = basic_part[dBb]\n",
    "sAs = superposed_part[dAs]\n",
    "sBs = 1j*superposed_part[dBs]\n",
    "sA = sAs + sAb # Modulated data sA\n",
    "sB = sBs + sBb # Modulated data sB\n",
    "#import matplotlib.pyplot as plt\n",
    "#plt.plot(np.real(sB), np.imag(sB), 'x')\n",
    "#plt.show()"
   ]
  },
  {
   "cell_type": "markdown",
   "metadata": {},
   "source": [
    "The transmission within the links in the MAC stage can are evaluated as:"
   ]
  },
  {
   "cell_type": "code",
   "execution_count": 47,
   "metadata": {
    "collapsed": true
   },
   "outputs": [],
   "source": [
    "# Sources to relay channel\n",
    "wR = np.sqrt(sigma2wMAC/2) * (np.random.randn(L) + 1j * np.random.randn(L))\n",
    "xR = hAR * sA + hBR * sB + wR \n",
    "\n",
    "# Site Link \n",
    "wDA_M = np.sqrt(sigma2wHSI/2) * (np.random.randn(L) + 1j * np.random.randn(L))\n",
    "zA = hBA * sB + wDA_M"
   ]
  },
  {
   "cell_type": "markdown",
   "metadata": {},
   "source": [
    "The destination stores the observation for later processing. The relay provides first demodulation to decode the network data that are then modulated to relay symbols. "
   ]
  },
  {
   "cell_type": "code",
   "execution_count": 46,
   "metadata": {
    "collapsed": false
   },
   "outputs": [
    {
     "name": "stdout",
     "output_type": "stream",
     "text": [
      "nerr in relay: dAs:0, dBs:0, db:0\n"
     ]
    }
   ],
   "source": [
    "# Demodulator in relay\n",
    "mudAs = np.zeros([L, Aq_s], float) # metric p(x|dAs)\n",
    "mudBs = np.zeros([L, Aq_s], float) # metric p(x|dBs)\n",
    "mudb = np.zeros([L, Aq_b], float) # metric p(x|dAb^dBb)\n",
    "\n",
    "for iAb in range(Aq_b):\n",
    "    for iAs in range(Aq_s):\n",
    "        for iBb in range(Aq_b):\n",
    "            for iBs in range(Aq_s):    \n",
    "                # Basic part index\n",
    "                ind_b = iAb ^ iBb\n",
    "                # likelihood p(x|dA,dB)\n",
    "                m = np.exp(-np.abs(xR - hAR * (basic_part[iAb] + superposed_part[iAs])\\\n",
    "                                - hBR * (basic_part[iBb] + 1j*superposed_part[iBs]))**2/sigma2wMAC)\n",
    "                # Marginalization - uniform data distribution assumed                \n",
    "                mudb[:, ind_b] += m \n",
    "                mudAs[:, iAs] += m\n",
    "                mudBs[:, iBs] += m\n",
    "est_dAs = np.argmax(mudAs, axis = 1) # decision\n",
    "est_dBs = np.argmax(mudBs, axis = 1) # decision\n",
    "est_db = np.argmax(mudb, axis = 1) # decision\n",
    "\n",
    "dR = (est_dAs, est_dBs, est_db)\n",
    "\n",
    "print 'nerr in relay: dAs:%d, dBs:%d, db:%d'\\\n",
    "%(np.sum(est_dAs!=dAs), np.sum(est_dBs!=dBs), np.sum(est_db!=(dAb^dBb)))\n",
    "\n",
    "from Constellation_Design_lib import QAM\n",
    "rconst = QAM(2*Ns + Nb)[0] # Signal space mapping in Relay\n",
    "sR = rconst[est_dAs*(Aq_b+Aq_s) + est_dBs*Aq_b + est_db]"
   ]
  },
  {
   "cell_type": "code",
   "execution_count": 52,
   "metadata": {
    "collapsed": false
   },
   "outputs": [],
   "source": [
    "# BC stage (Relay to dA link)\n",
    "wDA_B = np.sqrt(sigma2wBC/2) * (np.random.randn(L) + 1j * np.random.randn(L))\n",
    "yA = hRA * sR + wDA_B # Destination A observation"
   ]
  },
  {
   "cell_type": "markdown",
   "metadata": {},
   "source": [
    "As it was already said, the relay first process the observation from BC stage to recover both superposed streams and the network function of the basic streams. The complementary superposed stream is used for interference cancellation to improve the site link quality. The complementary basic part is then decoded and the inteded data are then decoded as in the network information flow section."
   ]
  },
  {
   "cell_type": "code",
   "execution_count": null,
   "metadata": {
    "collapsed": true
   },
   "outputs": [],
   "source": [
    "# Demodulator Destination  A -- link from relay\n",
    "mudAs = np.zeros([L, Aq_s], float) # metric p(x|dAs)\n",
    "mudBs = np.zeros([L, Aq_s], float) # metric p(x|dBs)\n",
    "mudb = np.zeros([L, Aq_b], float) # metric p(x|dAb^dBb)\n",
    "\n",
    "for ib in range(Aq_b):\n",
    "    for iAs in range(Aq_s):        \n",
    "        for iBs in range(Aq_s):    \n",
    "            ind = iAs*(Aq_b+Aq_s) + iBs*Aq_b + ib\n",
    "            m = np.exp(-np.abs(yA - hRA * rconst[ind])**2/sigma2wBC)\n",
    "            # Marginalization - uniform data distribution assumed                \n",
    "            mudb[:, ib] += m \n",
    "            mudAs[:, iAs] += m\n",
    "            mudBs[:, iBs] += m\n",
    "est_dAs = np.argmax(mudAs, axis = 1) # decision\n",
    "est_dBs = np.argmax(mudBs, axis = 1) # decision\n",
    "est_db = np.argmax(mudb, axis = 1) # decision\n",
    "\n",
    "# Interference cancellation from est_dBs\n",
    "mudBb = np.zeros([L, Aq_b], float) # metric p(x|dBb)\n",
    "for iBb in range(Aq_b):\n",
    "    for iBs in range(Aq_b):\n",
    "    \n",
    "\n",
    "print 'nerr in relay: dAs:%d, dBs:%d, db:%d'\\\n",
    "%(np.sum(est_dAs!=dAs), np.sum(est_dBs!=dBs), np.sum(est_db!=(dAb^dBb)))\n"
   ]
  }
 ],
 "metadata": {
  "kernelspec": {
   "display_name": "Python 2",
   "language": "python",
   "name": "python2"
  },
  "language_info": {
   "codemirror_mode": {
    "name": "ipython",
    "version": 2
   },
   "file_extension": ".py",
   "mimetype": "text/x-python",
   "name": "python",
   "nbconvert_exporter": "python",
   "pygments_lexer": "ipython2",
   "version": "2.7.10"
  }
 },
 "nbformat": 4,
 "nbformat_minor": 0
}
