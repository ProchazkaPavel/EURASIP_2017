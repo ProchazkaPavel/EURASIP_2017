{
 "cells": [
  {
   "cell_type": "code",
   "execution_count": 2,
   "metadata": {
    "collapsed": true
   },
   "outputs": [],
   "source": [
    "import pandas as pd\n",
    "import matplotlib.pyplot as plt "
   ]
  },
  {
   "cell_type": "code",
   "execution_count": 2,
   "metadata": {
    "collapsed": false
   },
   "outputs": [],
   "source": [
    "la = ['scheme_a_HW_A1', 'scheme_a_HW_A', 'scheme_a_NS_A', 'scheme_a_TL_A', 'scheme_a_HW_B','scheme_a_NS_B','scheme_a_TL_B','scheme_a_HW_B1','scheme_a_NS_B1','scheme_a_TL_B1']\n",
    "lb = ['scheme_b_HW_A1', 'scheme_b_HW_A', 'scheme_b_NS_A', 'scheme_b_TL_A', 'scheme_b_HW_B','scheme_b_NS_B','scheme_b_TL_B','scheme_b_HW_B1','scheme_b_NS_B1','scheme_b_TL_B1']\n",
    "lMAC = ['FTL', 'ach_MAC']\n",
    "#lb = ['scheme_b_HW_A1', 'scheme_b_HW_A', 'scheme_b_NS_A', 'scheme_b_TL_A', 'scheme_b_HW_B','scheme_b_NS_B','scheme_b_NS_B1','scheme_b_TL_B','scheme_b_TL_B1','scheme_b_HW_B1']\n",
    "#lb = ['scheme_b_HW_A', 'scheme_b_NS_A', 'scheme_b_TL_A', 'scheme_b_HW_B','scheme_b_NS_B','scheme_b_NS_B1','scheme_b_TL_B','scheme_b_TL_B1']"
   ]
  },
  {
   "cell_type": "code",
   "execution_count": 9,
   "metadata": {
    "collapsed": false
   },
   "outputs": [],
   "source": [
    "marks = ['g-s', 'r-s', 'r-.v', 'r--', 'b-s', 'b-.v', 'b--','c-s','c-.v','c--','k-']\n",
    "marks_size = [7,7,12,12,9,12,12,7,12,12,7]\n",
    "plt.figure(figsize=(10,10))\n",
    "for j in range(len(la)):\n",
    "    lab = la[j]\n",
    "    df = pd.read_csv(lab,header=1,sep=',')  \n",
    "    #print df\n",
    "    ll = list(df.columns.values)\n",
    "    plt.plot([i for i in df[ll[0]]], [i for i in df[ll[3]]],marks[j], ms=marks_size[j], label = lab)\n",
    "plt.ylim([-1, 6])  \n",
    "plt.xlim([4.5,17])\n",
    "plt.legend(numpoints=1, loc = 4, ncol=2)\n",
    "plt.title('Scheme a results')\n",
    "plt.xlabel('$\\gamma_{MAC}$')\n",
    "plt.ylabel('Max Throughput')\n",
    "plt.grid()\n",
    "plt.savefig('scheme_a.png')\n",
    "plt.show()"
   ]
  },
  {
   "cell_type": "code",
   "execution_count": 30,
   "metadata": {
    "collapsed": false
   },
   "outputs": [],
   "source": [
    "lb = ['scheme_b_TL_B','scheme_b_TL_B1','scheme_b_HW_A', 'scheme_b_HW_A1',\n",
    "      'scheme_b_HW_B','scheme_b_HW_B1']\n",
    "       \n",
    "marks = ['b--', 'm--', 'r-v', 'g-v', 'b-v', 'm-v']\n",
    "marks_size = [10,10,10,10,10,10]\n",
    "#marks = ['g-s', 'r-s', 'r-.v', 'r--', 'b-s', 'b-.v', 'b--','m-s','m-.v','m--','k-']\n",
    "#marks_size = [7,7,12,12,9,12,12,7,12,12,7]\n",
    "plt.figure(figsize=(10,10))\n",
    "\n",
    "labs = ['upper bound: 3step + routing', 'upper bound: 3step + NC',\n",
    "        'HW: WPLNC, pre-rotation', 'HW: WPLNC, no pre-rotation', 'HW: 3step + routing',\n",
    "        'HW: 3step + NC']\n",
    "for j in range(len(lb)):\n",
    "    lab = lb[j]\n",
    "    df = pd.read_csv(lab,header=1,sep=',')  \n",
    "    #print df\n",
    "    ll = list(df.columns.values)\n",
    "    #print ll\n",
    "    plt.plot([i for i in df[ll[0]]], [i for i in df[ll[3]]],marks[j], ms=marks_size[j], label = labs[j])\n",
    "leg1 = plt.legend(numpoints=1, loc = 4, ncol=1)\n",
    "plt.gca().add_artist(leg1)\n",
    "pp = []\n",
    "for j in range(len(lb),len(lb)): \n",
    "    lab = lb[j]\n",
    "    df = pd.read_csv(lab,header=1,sep=',')  \n",
    "    #print df\n",
    "    ll = list(df.columns.values)\n",
    "    #print ll\n",
    "    pp.append(plt.plot([i for i in df[ll[0]]], [i for i in df[ll[3]]],marks[j], ms=marks_size[j], label = labs[j])[0])    \n",
    "#plt.legend(numpoints=1, loc = 2, ncol=2, handles=pp)\n",
    "\n",
    "    \n",
    "plt.ylim([-0.2, 4.5])   \n",
    "plt.xlim([3, 16])   \n",
    "\n",
    "\n",
    "plt.title('$\\gamma_{MAC}$, $\\gamma_{BC}=\\gamma_{MAC}+5$, $\\gamma_{HSI}=\\gamma_{MAC}-1$')\n",
    "plt.xlabel('$\\gamma_{MAC}$[dB]')\n",
    "plt.ylabel('Throughput[bits/channel use]')\n",
    "plt.grid()\n",
    "plt.savefig('scheme_b.eps')\n",
    "plt.show()"
   ]
  },
  {
   "cell_type": "code",
   "execution_count": null,
   "metadata": {
    "collapsed": true
   },
   "outputs": [],
   "source": []
  },
  {
   "cell_type": "code",
   "execution_count": 17,
   "metadata": {
    "collapsed": false
   },
   "outputs": [],
   "source": [
    "marks = ['g-s', 'r-s', 'r-.v', 'r--', 'b-s', 'b-.v', 'b--','m-s','m-.v','m--','k-']\n",
    "marks_size = [7,7,12,12,9,12,12,7,12,12,7]\n",
    "plt.figure(figsize=(10,10))\n",
    "\n",
    "for j in range(len(lb)):\n",
    "    lab = lb[j]\n",
    "    df = pd.read_csv(lab,header=1,sep=',')  \n",
    "    #print df\n",
    "    ll = list(df.columns.values)\n",
    "    #print ll\n",
    "    plt.plot([i for i in df[ll[0]]], [i for i in df[ll[3]]],marks[j], ms=marks_size[j], label = lab)\n",
    "plt.ylim([-1, 5])    \n",
    "plt.legend(numpoints=1, loc = 4, ncol=2)\n",
    "plt.title('Analysis Results for $\\gamma_{MAC}=\\gamma$, $\\gamma_{BC}=\\gamma+5$, $\\gamma_{HSI}=\\gamma-1$')\n",
    "plt.xlabel('$\\gamma$ [dB]')\n",
    "plt.ylabel('Max Throughput')\n",
    "plt.savefig('scheme_b.eps')\n",
    "plt.show()"
   ]
  },
  {
   "cell_type": "code",
   "execution_count": 14,
   "metadata": {
    "collapsed": false
   },
   "outputs": [],
   "source": [
    "marks = ['k-', 'b-s']\n",
    "marks_size = [7,7]\n",
    "plt.figure(figsize=(8,6))\n",
    "for j in range(len(lMAC)):\n",
    "    lab = lMAC[j]\n",
    "    df = pd.read_csv(lab,header=1,sep=',')  \n",
    "    #print df\n",
    "    ll = list(df.columns.values)\n",
    "    #print ll\n",
    "    plt.plot([i for i in df[ll[0]]], [i for i in df[ll[1]]],marks[j], ms=marks_size[j], label = lab)\n",
    "plt.ylim([1.5, 3.5])    \n",
    "plt.legend(numpoints=1, loc = 4, ncol=2)\n",
    "plt.title('Comparison of achieved sum-rate compared to 2nd-order cut set')\n",
    "plt.xlabel('SNR_MAC')\n",
    "plt.ylabel('Throughput')\n",
    "plt.savefig('Cap_Comp.png')\n",
    "plt.show()"
   ]
  },
  {
   "cell_type": "code",
   "execution_count": 9,
   "metadata": {
    "collapsed": false
   },
   "outputs": [
    {
     "data": {
      "text/plain": [
       "['SNR_MAC', ' SNR_BC', ' SNR_HSI', ' T   ', ' N', ' r ']"
      ]
     },
     "execution_count": 9,
     "metadata": {},
     "output_type": "execute_result"
    }
   ],
   "source": [
    "list(df.columns.values)"
   ]
  },
  {
   "cell_type": "code",
   "execution_count": null,
   "metadata": {
    "collapsed": false
   },
   "outputs": [],
   "source": []
  },
  {
   "cell_type": "code",
   "execution_count": 1,
   "metadata": {
    "collapsed": false
   },
   "outputs": [
    {
     "data": {
      "text/plain": [
       "u'/opt/userdata/PhD_study/software/gnuradio/DIWINE_DEMO/results'"
      ]
     },
     "execution_count": 1,
     "metadata": {},
     "output_type": "execute_result"
    }
   ],
   "source": [
    "pwd"
   ]
  },
  {
   "cell_type": "code",
   "execution_count": 9,
   "metadata": {
    "collapsed": true
   },
   "outputs": [],
   "source": [
    "df = pd.read_csv('scheme_b_HW_A',header=1,sep=',')"
   ]
  },
  {
   "cell_type": "code",
   "execution_count": 9,
   "metadata": {
    "collapsed": false
   },
   "outputs": [
    {
     "data": {
      "text/html": [
       "<div>\n",
       "<table border=\"1\" class=\"dataframe\">\n",
       "  <thead>\n",
       "    <tr style=\"text-align: right;\">\n",
       "      <th></th>\n",
       "      <th>SNR_MAC</th>\n",
       "      <th>SNR_BC</th>\n",
       "      <th>SNR_HSI</th>\n",
       "      <th>T</th>\n",
       "      <th>N</th>\n",
       "      <th>r</th>\n",
       "    </tr>\n",
       "  </thead>\n",
       "  <tbody>\n",
       "    <tr>\n",
       "      <th>0</th>\n",
       "      <td>15</td>\n",
       "      <td>20</td>\n",
       "      <td>14</td>\n",
       "      <td>1.8</td>\n",
       "      <td>2</td>\n",
       "      <td>0.9</td>\n",
       "    </tr>\n",
       "    <tr>\n",
       "      <th>1</th>\n",
       "      <td>13</td>\n",
       "      <td>18</td>\n",
       "      <td>12</td>\n",
       "      <td>1.8</td>\n",
       "      <td>2</td>\n",
       "      <td>0.9</td>\n",
       "    </tr>\n",
       "    <tr>\n",
       "      <th>2</th>\n",
       "      <td>11</td>\n",
       "      <td>16</td>\n",
       "      <td>10</td>\n",
       "      <td>1.8</td>\n",
       "      <td>2</td>\n",
       "      <td>0.9</td>\n",
       "    </tr>\n",
       "    <tr>\n",
       "      <th>3</th>\n",
       "      <td>9</td>\n",
       "      <td>14</td>\n",
       "      <td>8</td>\n",
       "      <td>1.4</td>\n",
       "      <td>2</td>\n",
       "      <td>0.7</td>\n",
       "    </tr>\n",
       "    <tr>\n",
       "      <th>4</th>\n",
       "      <td>7</td>\n",
       "      <td>12</td>\n",
       "      <td>6</td>\n",
       "      <td>0.8</td>\n",
       "      <td>2</td>\n",
       "      <td>0.4</td>\n",
       "    </tr>\n",
       "    <tr>\n",
       "      <th>5</th>\n",
       "      <td>4</td>\n",
       "      <td>10</td>\n",
       "      <td>3</td>\n",
       "      <td>0.0</td>\n",
       "      <td>0</td>\n",
       "      <td>0.0</td>\n",
       "    </tr>\n",
       "  </tbody>\n",
       "</table>\n",
       "</div>"
      ],
      "text/plain": [
       "   SNR_MAC   SNR_BC   SNR_HSI   T      N   r \n",
       "0       15       20        14    1.8   2  0.9\n",
       "1       13       18        12    1.8   2  0.9\n",
       "2       11       16        10    1.8   2  0.9\n",
       "3        9       14         8    1.4   2  0.7\n",
       "4        7       12         6    0.8   2  0.4\n",
       "5        4       10         3    0.0   0  0.0"
      ]
     },
     "execution_count": 9,
     "metadata": {},
     "output_type": "execute_result"
    }
   ],
   "source": [
    "df"
   ]
  },
  {
   "cell_type": "code",
   "execution_count": 13,
   "metadata": {
    "collapsed": true
   },
   "outputs": [],
   "source": [
    "#writer = ExcelWriter('scheme_b.xlsx')\n",
    "writer = pd.ExcelWriter('scheme_b.xlsx')\n",
    "for i in lb:\n",
    "    df = pd.read_csv(i,header=1,sep=',')\n",
    "    df.to_excel(writer,i)\n",
    "\n",
    "writer.save()\n"
   ]
  },
  {
   "cell_type": "code",
   "execution_count": null,
   "metadata": {
    "collapsed": true
   },
   "outputs": [],
   "source": []
  }
 ],
 "metadata": {
  "kernelspec": {
   "display_name": "Python 2",
   "language": "python",
   "name": "python2"
  },
  "language_info": {
   "codemirror_mode": {
    "name": "ipython",
    "version": 2
   },
   "file_extension": ".py",
   "mimetype": "text/x-python",
   "name": "python",
   "nbconvert_exporter": "python",
   "pygments_lexer": "ipython2",
   "version": "2.7.10"
  }
 },
 "nbformat": 4,
 "nbformat_minor": 0
}
