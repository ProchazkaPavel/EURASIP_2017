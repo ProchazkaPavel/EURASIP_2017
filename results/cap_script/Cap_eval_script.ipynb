{
 "cells": [
  {
   "cell_type": "code",
   "execution_count": 1,
   "metadata": {
    "collapsed": false
   },
   "outputs": [],
   "source": [
    "import sys\n",
    "sys.path.append(\"../../../../Eval_Framework/Pfiles/capacity_eval_lib\")\n",
    "sys.path.append(\"../../../../Eval_Framework/Pfiles/EXIT_chats\")\n",
    "sys.path.append(\"../../../../Eval_Framework/Pfiles/LDPC_lib\")\n",
    "from capacity_eval import *\n",
    "from scipy.optimize import linprog\n",
    "\n",
    "\n",
    "M = 10000\n",
    "SNRs_a = np.array([[16.4,16.9,19.7],[14.5,14.5,17.9], [12.4,12.5,16.2],[10.4,10.4,14], [8.2,8.4,12.3], [6.2,6.2,10.2]])\n",
    "pairs = np.array([(1,0),(2,0),(1,1),(1,2),(0,1),(0,2),(2,1)])\n",
    "\n",
    "#SNRs_b = np.array([[15.5,16.2,13.1],[13.4,14.7,10.3],[11.5,12.3,8.2],[9.5,10.2,6.7],[7.1,8.1,4],[5.1,6.4,1.8], [2.6,4.1,-1.3]])\n",
    "SNRs_b = np.array([[15., 20., 14.],[13., 18., 12.],[11., 16., 10.],[9., 14., 8.],[7., 12., 6],[4., 10., 3.],])\n"
   ]
  },
  {
   "cell_type": "code",
   "execution_count": null,
   "metadata": {
    "collapsed": true
   },
   "outputs": [],
   "source": [
    "# Proposed scheme\n",
    "for g in SNRs_b:    \n",
    "    print '\\nSNRs:%s'%(str(g))\n",
    "    for (Nb, Ns) in pairs:    \n",
    "        gMAC = g[0]\n",
    "        gBC = g[1]\n",
    "        gHSI = g[2]\n",
    "        cBC = eval_cap_BC(Nb, Ns, gBC, M)\n",
    "        cHSI = eval_cap_HSI(Nb, Ns, gHSI, M)\n",
    "#cMAC = eval_MAC_rand_phase(Nb, Ns, gMAC, M1 = 300, M2 = 300)\n",
    "\n",
    "        cMAC = eval_MAC(Nb, Ns, gMAC, M)\n",
    "#cMAC = np.array( [3.16984004,  2.5764985 ,  2.57675782,  1.51168887,  0.75597148,  0.75571739,  1.98341627])\n",
    "#cBC = 3.4487448266329639\n",
    "#cHSI = 1.613597068410328\n",
    "        r3 = cMAC[0]\n",
    "        r2As = cMAC[1]\n",
    "        r2Bs = cMAC[2]\n",
    "        r2b = cMAC[3]\n",
    "        r1As = cMAC[4]\n",
    "        r1Bs = cMAC[5]\n",
    "        r1b = cMAC[6]\n",
    "\n",
    "        Rbs = np.array([r2As,r2Bs]).min()\n",
    "        Rbss = np.array([r3, cBC]).min()\n",
    "        Rs = np.array([r1As, r1Bs]).min()\n",
    "        Rb = np.array([r1b, cHSI]).min()\n",
    "\n",
    "\n",
    "\n",
    "\n",
    "        c = [-1, -1]\n",
    "        A = [[2, 1], [1, 1], [1,0], [0,1]]\n",
    "\n",
    "        b = [Rbss, Rbs, Rs, Rb]\n",
    "        x0_bounds = (0, None)\n",
    "        x1_bounds = (0, None)\n",
    "        res = linprog(c, A_ub=A, b_ub=b, bounds=(x0_bounds, x1_bounds))\n",
    "        if Nb > 0:\n",
    "            rb = res.values()[4][1]/Nb\n",
    "        else:\n",
    "            rb = 0\n",
    "        if Ns > 0:    \n",
    "            rs = res.values()[4][0]/Ns\n",
    "        else:\n",
    "            rs = 0\n",
    "        T = 2*rb*Nb + rs*Ns\n",
    "        print 'T=%.2f, Nb=%d, Ns=%d, rb=%0.2f, rs=%0.2f'%(T, Nb, Ns, rb, rs)\n",
    "       "
   ]
  },
  {
   "cell_type": "code",
   "execution_count": 3,
   "metadata": {
    "collapsed": false
   },
   "outputs": [
    {
     "name": "stdout",
     "output_type": "stream",
     "text": [
      "\n",
      "SNRs:[ 15.  20.  14.]\n",
      "cap_B1:2.838, \t cap_b:3.001,  \t cap_fun:6.002\n",
      "\n",
      "SNRs:[ 13.  18.  12.]\n",
      "cap_B1:2.514, \t cap_b:2.675,  \t cap_fun:5.351\n",
      "\n",
      "SNRs:[ 11.  16.  10.]\n",
      "cap_B1:2.195, \t cap_b:2.354,  \t cap_fun:4.707\n",
      "\n",
      "SNRs:[  9.  14.   8.]\n",
      "cap_B1:1.882, \t cap_b:2.037,  \t cap_fun:4.075\n",
      "\n",
      "SNRs:[  7.  12.   6.]\n",
      "cap_B1:1.580, \t cap_b:1.730,  \t cap_fun:3.459\n",
      "\n",
      "SNRs:[  4.  10.   3.]\n",
      "cap_B1:1.158, \t cap_b:1.294,  \t cap_fun:2.588\n"
     ]
    }
   ],
   "source": [
    "f = open(\"scheme_b_FTL\",'w')\n",
    "f.write(\"#2nd order cut-set MAC\\ngMAC, \\tgBC, \\tgHSI, \\tCap_fun\\n\")\n",
    "fB = open(\"scheme_b_TL_B\",'w')\n",
    "fB.write(\"#B - TL\\n SNR_MAC, \\tSNR_BC, \\tSNR_HSI, \\tT\\n\")\n",
    "fB1 = open(\"scheme_b_TL_B1\",'w')\n",
    "fB1.write(\"#B1 - TL\\n SNR_MAC, \\tSNR_BC, \\tSNR_HSI, \\tT\\n\")\n",
    "\n",
    "  \n",
    "for g in SNRs_b:    \n",
    "    print '\\nSNRs:%s'%(str(g))\n",
    "    gMAC = g[0]\n",
    "    gBC = g[1]\n",
    "    gHSI = g[2]\n",
    "    cap_MAC = cap_eval_Gauss(gMAC+3)*0.5\n",
    "    cap_HSI = cap_eval_Gauss(gHSI+3)*0.5\n",
    "    cap_BC = cap_eval_Gauss(gBC)\n",
    "    cap_BC1 = cap_eval_Gauss(gBC) * 0.5\n",
    "    cap_B = np.min([cap_MAC, cap_BC1])\n",
    "    cap_B1 = np.min([cap_MAC, cap_HSI, cap_BC])\n",
    "    \n",
    "    print 'cap_B1:%.3f, \\t cap_b:%.3f,  \\t cap_fun:%.3f'%(cap_B1, cap_B, cap_MAC*2)\n",
    "    f.write(\"%.1f, \\t%.1f, \\t%.1f, \\t%.3f\\n\"%(gMAC, gBC, gHSI, cap_MAC*2))\n",
    "    fB.write(\"%.1f, \\t%.1f, \\t%.1f, \\t%.3f\\n\"%(gMAC, gBC, gHSI, cap_B))\n",
    "    fB1.write(\"%.1f, \\t%.1f, \\t%.1f, \\t%.3f\\n\"%(gMAC, gBC, gHSI, cap_B1))\n",
    "f.close()\n",
    "fB.close()\n",
    "fB1.close()\n",
    "    "
   ]
  },
  {
   "cell_type": "code",
   "execution_count": 11,
   "metadata": {
    "collapsed": false
   },
   "outputs": [
    {
     "data": {
      "text/plain": [
       "2.3858965294855752"
      ]
     },
     "execution_count": 11,
     "metadata": {},
     "output_type": "execute_result"
    }
   ],
   "source": [
    "cap_eval_Gauss(4.5+3)"
   ]
  },
  {
   "cell_type": "code",
   "execution_count": 19,
   "metadata": {
    "collapsed": true
   },
   "outputs": [],
   "source": [
    "m = 2\n",
    "M = 8\n",
    "N = 40\n",
    "cap_MAC = np.zeros(40)\n",
    "gMAC =  np.linspace(m,M,N)\n",
    "f = open(\"FTL\",'w')\n",
    "f.write(\"#2nd order cut-set MAC\\ngMAC, \\tFTL, \\trb\\n\")\n",
    "for i in range(N):\n",
    "    cap_MAC[i] = cap_eval_Gauss(gMAC[i]+1.76)\n",
    "    f.write(\"%.3f, \\t%.3f, \\t%.3f\\n\"%(gMAC[i], cap_MAC[i], cap_MAC[i]/4))\n",
    "f.close()"
   ]
  },
  {
   "cell_type": "code",
   "execution_count": 15,
   "metadata": {
    "collapsed": false
   },
   "outputs": [
    {
     "data": {
      "text/plain": [
       "[<matplotlib.lines.Line2D at 0x7f41c2a1f950>]"
      ]
     },
     "execution_count": 15,
     "metadata": {},
     "output_type": "execute_result"
    }
   ],
   "source": [
    "plt.plot(gMAC, cap_MAC)"
   ]
  },
  {
   "cell_type": "code",
   "execution_count": 16,
   "metadata": {
    "collapsed": true
   },
   "outputs": [],
   "source": [
    "plt.show()"
   ]
  },
  {
   "cell_type": "code",
   "execution_count": 7,
   "metadata": {
    "collapsed": false
   },
   "outputs": [
    {
     "data": {
      "text/plain": [
       "array([ 1.75567395,  1.79183386,  1.82836562,  1.86526361,  1.90252211,\n",
       "        1.94013533,  1.97809738,  2.01640231,  0.        ,  0.        ,\n",
       "        0.        ,  0.        ,  0.        ,  0.        ,  0.        ,\n",
       "        0.        ,  0.        ,  0.        ,  0.        ,  0.        ,\n",
       "        0.        ,  0.        ,  0.        ,  0.        ,  0.        ,\n",
       "        0.        ,  0.        ,  0.        ,  0.        ,  0.        ,\n",
       "        0.        ,  0.        ,  0.        ,  0.        ,  0.        ,\n",
       "        0.        ,  0.        ,  0.        ,  0.        ,  0.        ])"
      ]
     },
     "execution_count": 7,
     "metadata": {},
     "output_type": "execute_result"
    }
   ],
   "source": [
    "cap_MAC"
   ]
  },
  {
   "cell_type": "code",
   "execution_count": null,
   "metadata": {
    "collapsed": true
   },
   "outputs": [],
   "source": []
  }
 ],
 "metadata": {
  "kernelspec": {
   "display_name": "Python 2",
   "language": "python",
   "name": "python2"
  },
  "language_info": {
   "codemirror_mode": {
    "name": "ipython",
    "version": 2
   },
   "file_extension": ".py",
   "mimetype": "text/x-python",
   "name": "python",
   "nbconvert_exporter": "python",
   "pygments_lexer": "ipython2",
   "version": "2.7.10"
  }
 },
 "nbformat": 4,
 "nbformat_minor": 0
}
