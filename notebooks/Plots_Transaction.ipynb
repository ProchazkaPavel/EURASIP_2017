{
 "cells": [
  {
   "cell_type": "code",
   "execution_count": 1,
   "metadata": {
    "collapsed": false
   },
   "outputs": [],
   "source": [
    "from joblib import Parallel, delayed\n",
    "from mpl_toolkits.axes_grid1 import make_axes_locatable\n",
    "import pickle\n",
    "import matplotlib.pyplot as plt\n",
    "import numpy as np\n",
    "from matplotlib.patches import Ellipse, Polygon\n",
    "from matplotlib import colors\n",
    "\n",
    "plt.rcParams['ps.useafm'] = True\n",
    "plt.rcParams['pdf.use14corefonts'] = True\n",
    "plt.rcParams['text.usetex'] = True"
   ]
  },
  {
   "cell_type": "code",
   "execution_count": 2,
   "metadata": {
    "collapsed": false
   },
   "outputs": [],
   "source": [
    "import sys\n",
    "if 'lib' not in sys.path:\n",
    "    sys.path.append('lib')\n",
    "\n",
    "\n",
    "\n"
   ]
  },
  {
   "cell_type": "code",
   "execution_count": 3,
   "metadata": {
    "collapsed": false
   },
   "outputs": [],
   "source": [
    "from compare_QPSK import *"
   ]
  },
  {
   "cell_type": "markdown",
   "metadata": {},
   "source": [
    "#### Verifying the indexing of the constellation:"
   ]
  },
  {
   "cell_type": "code",
   "execution_count": 15,
   "metadata": {
    "collapsed": false
   },
   "outputs": [
    {
     "data": {
      "image/png": "[encoded data removed]",
      "text/plain": [
       "<matplotlib.figure.Figure at 0xafd9a84c>"
      ]
     },
     "metadata": {},
     "output_type": "display_data"
    }
   ],
   "source": [
    "## BitXOR\n",
    "Nb = 2\n",
    "Ns = 1\n",
    "(sourceA_const, sourceB_const, basic_part, relay_const, alpha) = const_design_XOR(Nb, Ns)\n",
    "ind_const = np.asarray([s1* 2**(Nb + Ns) + s2 * 2**(Nb) + (b1^b2) \\\n",
    "              for s1 in range(0, 2**Ns) for b1 in range(0, 2**Nb) \\\n",
    "              for s2 in range(0, 2**Ns) for b2 in range(0, 2**Nb)] )\n",
    "plt.plot(np.real(sourceA_const), np.imag(sourceA_const),'ro')\n",
    "plt.plot(np.real(sourceB_const), np.imag(sourceB_const),'gp')\n",
    "plt.plot(np.real(relay_const), np.imag(relay_const),'x',ms=7)\n",
    "vec = np.unique(np.round(relay_const,10))\n",
    "cnt = np.zeros(len(vec))\n",
    "for i in range(0,len(relay_const)):\n",
    "    arg = np.nonzero(np.abs(vec - relay_const[i]) < 1e-8)\n",
    "    shift = cnt[arg]\n",
    "    act_string = str(ind_const[i])\n",
    "#    act_string = \"\".join((str(i), str(dec2bin(i,((Nb+Ns)*2))), str(ind_const[i])))\n",
    "    plt.text(np.real(relay_const[i]), np.imag(relay_const[i]) + 0.05 * shift, act_string)\n",
    "    cnt[arg] += 1 \n",
    "#plt.legend(['Source A', 'Source B', 'Relay'])\n",
    "for i in QAM(4)[0]:\n",
    "    plt.plot(np.real(i), np.imag(i),'ks', ms=10)\n",
    "plt.show()"
   ]
  },
  {
   "cell_type": "code",
   "execution_count": 2,
   "metadata": {
    "collapsed": false
   },
   "outputs": [],
   "source": [
    "## ModSum\n",
    "Nb = 4\n",
    "Ns = 4\n",
    "(sourceA_const, sourceB_const, basic_part, relay_const,alpha) = const_design_MS(Nb, Ns)\n",
    "ind_const = np.asarray([s1* 2**(Nb + Ns) + s2 * 2**(Nb) + (np.mod(b1+b2, 2**Nb)) \\\n",
    "              for s1 in range(0, 2**Ns) for b1 in range(0, 2**Nb) \\\n",
    "              for s2 in range(0, 2**Ns) for b2 in range(0, 2**Nb)] )\n",
    "plt.plot(np.real(relay_const), np.imag(relay_const),'x')\n",
    "vec = np.unique(np.round(relay_const,10))\n",
    "cnt = np.zeros(len(vec))\n",
    "for i in range(0,len(relay_const)):\n",
    "    arg = np.nonzero(np.abs(vec - relay_const[i]) < 1e-8)\n",
    "    shift = cnt[arg]\n",
    "    act_string = str(ind_const[i])\n",
    "    #act_string = \"\".join((str(i), str(dec2bin(i,((Nb+Ns)*2))), str(ind_const[i])))\n",
    "    plt.text(np.real(relay_const[i]), np.imag(relay_const[i]) + 0.005 * shift, act_string)\n",
    "    cnt[arg] += 1 \n",
    "plt.show()"
   ]
  },
  {
   "cell_type": "code",
   "execution_count": 5,
   "metadata": {
    "collapsed": false
   },
   "outputs": [],
   "source": [
    "plt.plot(np.real(sourceA_const), np.imag(sourceA_const),'x')\n",
    "for i in range(0,len(sourceA_const)):    \n",
    "    act_string = \"\".join((str(i), str(dec2bin(i,Nb+Ns))))\n",
    "    plt.text(np.real(sourceA_const[-1-i]), np.imag(sourceA_const[-1-i]) + 0.05, act_string)\n",
    "plt.show()"
   ]
  },
  {
   "cell_type": "markdown",
   "metadata": {},
   "source": [
    "#### Drawing Minimal distance:"
   ]
  },
  {
   "cell_type": "code",
   "execution_count": 15,
   "metadata": {
    "collapsed": false
   },
   "outputs": [
    {
     "ename": "ValueError",
     "evalue": "zero-size array to reduction operation minimum which has no identity",
     "output_type": "error",
     "traceback": [
      "\u001b[1;31m---------------------------------------------------------------------------\u001b[0m\n\u001b[1;31mValueError\u001b[0m                                Traceback (most recent call last)",
      "\u001b[1;32m<ipython-input-15-e3e5bedb3414>\u001b[0m in \u001b[0;36m<module>\u001b[1;34m()\u001b[0m\n\u001b[0;32m      1\u001b[0m \u001b[1;31m## bit-wise XOR\u001b[0m\u001b[1;33m\u001b[0m\u001b[1;33m\u001b[0m\u001b[0m\n\u001b[0;32m      2\u001b[0m \u001b[0mN\u001b[0m \u001b[1;33m=\u001b[0m \u001b[1;36m2\u001b[0m\u001b[1;33m\u001b[0m\u001b[0m\n\u001b[1;32m----> 3\u001b[1;33m \u001b[0mdist\u001b[0m \u001b[1;33m=\u001b[0m \u001b[0mnp\u001b[0m\u001b[1;33m.\u001b[0m\u001b[0masarray\u001b[0m\u001b[1;33m(\u001b[0m\u001b[1;33m[\u001b[0m\u001b[1;33m[\u001b[0m\u001b[0mmin_dist_eval\u001b[0m\u001b[1;33m(\u001b[0m\u001b[0mi\u001b[0m\u001b[1;33m,\u001b[0m \u001b[0mN\u001b[0m\u001b[1;33m-\u001b[0m\u001b[0mi\u001b[0m\u001b[1;33m,\u001b[0m \u001b[0mphi\u001b[0m\u001b[1;33m,\u001b[0m \u001b[0mmapping\u001b[0m \u001b[1;33m=\u001b[0m \u001b[1;34m'XOR'\u001b[0m\u001b[1;33m)\u001b[0m        \u001b[1;32mfor\u001b[0m \u001b[0mphi\u001b[0m \u001b[1;32min\u001b[0m \u001b[0mnp\u001b[0m\u001b[1;33m.\u001b[0m\u001b[0marange\u001b[0m\u001b[1;33m(\u001b[0m\u001b[1;36m0\u001b[0m\u001b[1;33m,\u001b[0m\u001b[0mnp\u001b[0m\u001b[1;33m.\u001b[0m\u001b[0mpi\u001b[0m\u001b[1;33m*\u001b[0m\u001b[1;36m2\u001b[0m\u001b[1;33m,\u001b[0m\u001b[0mnp\u001b[0m\u001b[1;33m.\u001b[0m\u001b[0mpi\u001b[0m\u001b[1;33m/\u001b[0m\u001b[1;36m5\u001b[0m\u001b[1;33m)\u001b[0m\u001b[1;33m]\u001b[0m \u001b[1;32mfor\u001b[0m \u001b[0mi\u001b[0m \u001b[1;32min\u001b[0m \u001b[0mrange\u001b[0m\u001b[1;33m(\u001b[0m\u001b[1;36m0\u001b[0m\u001b[1;33m,\u001b[0m\u001b[0mN\u001b[0m\u001b[1;33m+\u001b[0m\u001b[1;36m1\u001b[0m\u001b[1;33m)\u001b[0m\u001b[1;33m]\u001b[0m\u001b[1;33m)\u001b[0m\u001b[1;33m\u001b[0m\u001b[0m\n\u001b[0m\u001b[0;32m      4\u001b[0m \u001b[1;32mfor\u001b[0m \u001b[0mi\u001b[0m \u001b[1;32min\u001b[0m \u001b[0mrange\u001b[0m\u001b[1;33m(\u001b[0m\u001b[1;36m0\u001b[0m\u001b[1;33m,\u001b[0m \u001b[0mN\u001b[0m\u001b[1;33m+\u001b[0m\u001b[1;36m1\u001b[0m\u001b[1;33m)\u001b[0m\u001b[1;33m:\u001b[0m\u001b[1;33m\u001b[0m\u001b[0m\n\u001b[0;32m      5\u001b[0m     \u001b[0mplt\u001b[0m\u001b[1;33m.\u001b[0m\u001b[0mplot\u001b[0m\u001b[1;33m(\u001b[0m\u001b[0mdist\u001b[0m\u001b[1;33m[\u001b[0m\u001b[0mi\u001b[0m\u001b[1;33m,\u001b[0m\u001b[1;33m:\u001b[0m\u001b[1;33m]\u001b[0m\u001b[1;33m)\u001b[0m\u001b[1;33m\u001b[0m\u001b[0m\n",
      "\u001b[1;32m/mnt/data/common_data/PhD_study/research/current/Const_Design_Butterfly/comp/compare_QPSK.py\u001b[0m in \u001b[0;36mmin_dist_eval\u001b[1;34m(Nb, Ns, phi, mapping)\u001b[0m\n\u001b[0;32m    353\u001b[0m          \u001b[1;32mfor\u001b[0m \u001b[0mi\u001b[0m \u001b[1;32min\u001b[0m \u001b[0mrange\u001b[0m\u001b[1;33m(\u001b[0m\u001b[1;36m0\u001b[0m\u001b[1;33m,\u001b[0m \u001b[0mlen\u001b[0m\u001b[1;33m(\u001b[0m\u001b[0mrelay_const\u001b[0m\u001b[1;33m)\u001b[0m\u001b[1;33m)\u001b[0m \u001b[1;32mfor\u001b[0m \u001b[0mj\u001b[0m \u001b[1;32min\u001b[0m \u001b[0mrange\u001b[0m\u001b[1;33m(\u001b[0m\u001b[0mi\u001b[0m\u001b[1;33m+\u001b[0m\u001b[1;36m1\u001b[0m\u001b[1;33m,\u001b[0m \u001b[0mlen\u001b[0m\u001b[1;33m(\u001b[0m\u001b[0mrelay_const\u001b[0m\u001b[1;33m)\u001b[0m\u001b[1;33m)\u001b[0m\u001b[0;31m\\\u001b[0m\u001b[1;33m\u001b[0m\u001b[0m\n\u001b[0;32m    354\u001b[0m          if relay_const[ind_const[i]] != relay_const[ind_const[j]]])\n\u001b[1;32m--> 355\u001b[1;33m   \u001b[1;32mreturn\u001b[0m \u001b[0mnp\u001b[0m\u001b[1;33m.\u001b[0m\u001b[0mmin\u001b[0m\u001b[1;33m(\u001b[0m\u001b[0mdist\u001b[0m\u001b[1;33m)\u001b[0m\u001b[1;33m\u001b[0m\u001b[0m\n\u001b[0m\u001b[0;32m    356\u001b[0m \u001b[1;33m\u001b[0m\u001b[0m\n\u001b[0;32m    357\u001b[0m \u001b[1;33m\u001b[0m\u001b[0m\n",
      "\u001b[1;32m/usr/lib64/python2.7/site-packages/numpy/core/fromnumeric.pyc\u001b[0m in \u001b[0;36mamin\u001b[1;34m(a, axis, out, keepdims)\u001b[0m\n\u001b[0;32m   2214\u001b[0m     \u001b[1;32melse\u001b[0m\u001b[1;33m:\u001b[0m\u001b[1;33m\u001b[0m\u001b[0m\n\u001b[0;32m   2215\u001b[0m         return _methods._amin(a, axis=axis,\n\u001b[1;32m-> 2216\u001b[1;33m                             out=out, keepdims=keepdims)\n\u001b[0m\u001b[0;32m   2217\u001b[0m \u001b[1;33m\u001b[0m\u001b[0m\n\u001b[0;32m   2218\u001b[0m \u001b[1;32mdef\u001b[0m \u001b[0malen\u001b[0m\u001b[1;33m(\u001b[0m\u001b[0ma\u001b[0m\u001b[1;33m)\u001b[0m\u001b[1;33m:\u001b[0m\u001b[1;33m\u001b[0m\u001b[0m\n",
      "\u001b[1;32m/usr/lib64/python2.7/site-packages/numpy/core/_methods.pyc\u001b[0m in \u001b[0;36m_amin\u001b[1;34m(a, axis, out, keepdims)\u001b[0m\n\u001b[0;32m     27\u001b[0m \u001b[1;33m\u001b[0m\u001b[0m\n\u001b[0;32m     28\u001b[0m \u001b[1;32mdef\u001b[0m \u001b[0m_amin\u001b[0m\u001b[1;33m(\u001b[0m\u001b[0ma\u001b[0m\u001b[1;33m,\u001b[0m \u001b[0maxis\u001b[0m\u001b[1;33m=\u001b[0m\u001b[0mNone\u001b[0m\u001b[1;33m,\u001b[0m \u001b[0mout\u001b[0m\u001b[1;33m=\u001b[0m\u001b[0mNone\u001b[0m\u001b[1;33m,\u001b[0m \u001b[0mkeepdims\u001b[0m\u001b[1;33m=\u001b[0m\u001b[0mFalse\u001b[0m\u001b[1;33m)\u001b[0m\u001b[1;33m:\u001b[0m\u001b[1;33m\u001b[0m\u001b[0m\n\u001b[1;32m---> 29\u001b[1;33m     \u001b[1;32mreturn\u001b[0m \u001b[0mumr_minimum\u001b[0m\u001b[1;33m(\u001b[0m\u001b[0ma\u001b[0m\u001b[1;33m,\u001b[0m \u001b[0maxis\u001b[0m\u001b[1;33m,\u001b[0m \u001b[0mNone\u001b[0m\u001b[1;33m,\u001b[0m \u001b[0mout\u001b[0m\u001b[1;33m,\u001b[0m \u001b[0mkeepdims\u001b[0m\u001b[1;33m)\u001b[0m\u001b[1;33m\u001b[0m\u001b[0m\n\u001b[0m\u001b[0;32m     30\u001b[0m \u001b[1;33m\u001b[0m\u001b[0m\n\u001b[0;32m     31\u001b[0m \u001b[1;32mdef\u001b[0m \u001b[0m_sum\u001b[0m\u001b[1;33m(\u001b[0m\u001b[0ma\u001b[0m\u001b[1;33m,\u001b[0m \u001b[0maxis\u001b[0m\u001b[1;33m=\u001b[0m\u001b[0mNone\u001b[0m\u001b[1;33m,\u001b[0m \u001b[0mdtype\u001b[0m\u001b[1;33m=\u001b[0m\u001b[0mNone\u001b[0m\u001b[1;33m,\u001b[0m \u001b[0mout\u001b[0m\u001b[1;33m=\u001b[0m\u001b[0mNone\u001b[0m\u001b[1;33m,\u001b[0m \u001b[0mkeepdims\u001b[0m\u001b[1;33m=\u001b[0m\u001b[0mFalse\u001b[0m\u001b[1;33m)\u001b[0m\u001b[1;33m:\u001b[0m\u001b[1;33m\u001b[0m\u001b[0m\n",
      "\u001b[1;31mValueError\u001b[0m: zero-size array to reduction operation minimum which has no identity"
     ]
    }
   ],
   "source": [
    "## bit-wise XOR\n",
    "N = 2\n",
    "dist = np.asarray([[min_dist_eval(i, N-i, phi, mapping = 'XOR') \\\n",
    "       for phi in np.arange(0,np.pi*2,np.pi/5)] for i in range(0,N+1)])\n",
    "for i in range(0, N+1):\n",
    "    plt.plot(dist[i,:])\n",
    "plt.show()"
   ]
  },
  {
   "cell_type": "code",
   "execution_count": 3,
   "metadata": {
    "collapsed": false
   },
   "outputs": [
    {
     "ename": "ValueError",
     "evalue": "zero-size array to reduction operation minimum which has no identity",
     "output_type": "error",
     "traceback": [
      "\u001b[1;31m---------------------------------------------------------------------------\u001b[0m\n\u001b[1;31mValueError\u001b[0m                                Traceback (most recent call last)",
      "\u001b[1;32m<ipython-input-3-1ddf08f995ef>\u001b[0m in \u001b[0;36m<module>\u001b[1;34m()\u001b[0m\n\u001b[0;32m      1\u001b[0m \u001b[1;31m## Mod-Sum\u001b[0m\u001b[1;33m\u001b[0m\u001b[1;33m\u001b[0m\u001b[0m\n\u001b[0;32m      2\u001b[0m \u001b[0mN\u001b[0m \u001b[1;33m=\u001b[0m \u001b[1;36m2\u001b[0m\u001b[1;33m\u001b[0m\u001b[0m\n\u001b[1;32m----> 3\u001b[1;33m \u001b[0mdist\u001b[0m \u001b[1;33m=\u001b[0m \u001b[0mnp\u001b[0m\u001b[1;33m.\u001b[0m\u001b[0masarray\u001b[0m\u001b[1;33m(\u001b[0m\u001b[1;33m[\u001b[0m\u001b[1;33m[\u001b[0m\u001b[0mmin_dist_eval\u001b[0m\u001b[1;33m(\u001b[0m\u001b[0mi\u001b[0m\u001b[1;33m,\u001b[0m \u001b[0mN\u001b[0m\u001b[1;33m-\u001b[0m\u001b[0mi\u001b[0m\u001b[1;33m,\u001b[0m \u001b[0mphi\u001b[0m\u001b[1;33m,\u001b[0m \u001b[0mmapping\u001b[0m \u001b[1;33m=\u001b[0m \u001b[1;34m'MS'\u001b[0m\u001b[1;33m)\u001b[0m        \u001b[1;32mfor\u001b[0m \u001b[0mphi\u001b[0m \u001b[1;32min\u001b[0m \u001b[0mnp\u001b[0m\u001b[1;33m.\u001b[0m\u001b[0marange\u001b[0m\u001b[1;33m(\u001b[0m\u001b[1;36m0\u001b[0m\u001b[1;33m,\u001b[0m\u001b[0mnp\u001b[0m\u001b[1;33m.\u001b[0m\u001b[0mpi\u001b[0m\u001b[1;33m*\u001b[0m\u001b[1;36m2\u001b[0m\u001b[1;33m,\u001b[0m\u001b[0mnp\u001b[0m\u001b[1;33m.\u001b[0m\u001b[0mpi\u001b[0m\u001b[1;33m/\u001b[0m\u001b[1;36m5\u001b[0m\u001b[1;33m)\u001b[0m\u001b[1;33m]\u001b[0m \u001b[1;32mfor\u001b[0m \u001b[0mi\u001b[0m \u001b[1;32min\u001b[0m \u001b[0mrange\u001b[0m\u001b[1;33m(\u001b[0m\u001b[1;36m0\u001b[0m\u001b[1;33m,\u001b[0m\u001b[0mN\u001b[0m\u001b[1;33m+\u001b[0m\u001b[1;36m1\u001b[0m\u001b[1;33m)\u001b[0m\u001b[1;33m]\u001b[0m\u001b[1;33m)\u001b[0m\u001b[1;33m\u001b[0m\u001b[0m\n\u001b[0m\u001b[0;32m      4\u001b[0m \u001b[1;32mfor\u001b[0m \u001b[0mi\u001b[0m \u001b[1;32min\u001b[0m \u001b[0mrange\u001b[0m\u001b[1;33m(\u001b[0m\u001b[1;36m0\u001b[0m\u001b[1;33m,\u001b[0m \u001b[0mN\u001b[0m\u001b[1;33m+\u001b[0m\u001b[1;36m1\u001b[0m\u001b[1;33m)\u001b[0m\u001b[1;33m:\u001b[0m\u001b[1;33m\u001b[0m\u001b[0m\n\u001b[0;32m      5\u001b[0m     \u001b[0mplt\u001b[0m\u001b[1;33m.\u001b[0m\u001b[0mplot\u001b[0m\u001b[1;33m(\u001b[0m\u001b[0mdist\u001b[0m\u001b[1;33m[\u001b[0m\u001b[0mi\u001b[0m\u001b[1;33m,\u001b[0m\u001b[1;33m:\u001b[0m\u001b[1;33m]\u001b[0m\u001b[1;33m)\u001b[0m\u001b[1;33m\u001b[0m\u001b[0m\n",
      "\u001b[1;32m/mnt/data/common_data/PhD_study/research/current/Const_Design_Butterfly/comp/compare_QPSK.py\u001b[0m in \u001b[0;36mmin_dist_eval\u001b[1;34m(Nb, Ns, phi, mapping)\u001b[0m\n\u001b[0;32m    353\u001b[0m          \u001b[1;32mfor\u001b[0m \u001b[0mi\u001b[0m \u001b[1;32min\u001b[0m \u001b[0mrange\u001b[0m\u001b[1;33m(\u001b[0m\u001b[1;36m0\u001b[0m\u001b[1;33m,\u001b[0m \u001b[0mlen\u001b[0m\u001b[1;33m(\u001b[0m\u001b[0mrelay_const\u001b[0m\u001b[1;33m)\u001b[0m\u001b[1;33m)\u001b[0m \u001b[1;32mfor\u001b[0m \u001b[0mj\u001b[0m \u001b[1;32min\u001b[0m \u001b[0mrange\u001b[0m\u001b[1;33m(\u001b[0m\u001b[0mi\u001b[0m\u001b[1;33m+\u001b[0m\u001b[1;36m1\u001b[0m\u001b[1;33m,\u001b[0m \u001b[0mlen\u001b[0m\u001b[1;33m(\u001b[0m\u001b[0mrelay_const\u001b[0m\u001b[1;33m)\u001b[0m\u001b[1;33m)\u001b[0m\u001b[0;31m\\\u001b[0m\u001b[1;33m\u001b[0m\u001b[0m\n\u001b[0;32m    354\u001b[0m          if relay_const[ind_const[i]] != relay_const[ind_const[j]]])\n\u001b[1;32m--> 355\u001b[1;33m   \u001b[1;32mreturn\u001b[0m \u001b[0mnp\u001b[0m\u001b[1;33m.\u001b[0m\u001b[0mmin\u001b[0m\u001b[1;33m(\u001b[0m\u001b[0mdist\u001b[0m\u001b[1;33m)\u001b[0m\u001b[1;33m\u001b[0m\u001b[0m\n\u001b[0m\u001b[0;32m    356\u001b[0m \u001b[1;33m\u001b[0m\u001b[0m\n\u001b[0;32m    357\u001b[0m \u001b[1;33m\u001b[0m\u001b[0m\n",
      "\u001b[1;32m/usr/lib64/python2.7/site-packages/numpy/core/fromnumeric.pyc\u001b[0m in \u001b[0;36mamin\u001b[1;34m(a, axis, out, keepdims)\u001b[0m\n\u001b[0;32m   2214\u001b[0m     \u001b[1;32melse\u001b[0m\u001b[1;33m:\u001b[0m\u001b[1;33m\u001b[0m\u001b[0m\n\u001b[0;32m   2215\u001b[0m         return _methods._amin(a, axis=axis,\n\u001b[1;32m-> 2216\u001b[1;33m                             out=out, keepdims=keepdims)\n\u001b[0m\u001b[0;32m   2217\u001b[0m \u001b[1;33m\u001b[0m\u001b[0m\n\u001b[0;32m   2218\u001b[0m \u001b[1;32mdef\u001b[0m \u001b[0malen\u001b[0m\u001b[1;33m(\u001b[0m\u001b[0ma\u001b[0m\u001b[1;33m)\u001b[0m\u001b[1;33m:\u001b[0m\u001b[1;33m\u001b[0m\u001b[0m\n",
      "\u001b[1;32m/usr/lib64/python2.7/site-packages/numpy/core/_methods.pyc\u001b[0m in \u001b[0;36m_amin\u001b[1;34m(a, axis, out, keepdims)\u001b[0m\n\u001b[0;32m     27\u001b[0m \u001b[1;33m\u001b[0m\u001b[0m\n\u001b[0;32m     28\u001b[0m \u001b[1;32mdef\u001b[0m \u001b[0m_amin\u001b[0m\u001b[1;33m(\u001b[0m\u001b[0ma\u001b[0m\u001b[1;33m,\u001b[0m \u001b[0maxis\u001b[0m\u001b[1;33m=\u001b[0m\u001b[0mNone\u001b[0m\u001b[1;33m,\u001b[0m \u001b[0mout\u001b[0m\u001b[1;33m=\u001b[0m\u001b[0mNone\u001b[0m\u001b[1;33m,\u001b[0m \u001b[0mkeepdims\u001b[0m\u001b[1;33m=\u001b[0m\u001b[0mFalse\u001b[0m\u001b[1;33m)\u001b[0m\u001b[1;33m:\u001b[0m\u001b[1;33m\u001b[0m\u001b[0m\n\u001b[1;32m---> 29\u001b[1;33m     \u001b[1;32mreturn\u001b[0m \u001b[0mumr_minimum\u001b[0m\u001b[1;33m(\u001b[0m\u001b[0ma\u001b[0m\u001b[1;33m,\u001b[0m \u001b[0maxis\u001b[0m\u001b[1;33m,\u001b[0m \u001b[0mNone\u001b[0m\u001b[1;33m,\u001b[0m \u001b[0mout\u001b[0m\u001b[1;33m,\u001b[0m \u001b[0mkeepdims\u001b[0m\u001b[1;33m)\u001b[0m\u001b[1;33m\u001b[0m\u001b[0m\n\u001b[0m\u001b[0;32m     30\u001b[0m \u001b[1;33m\u001b[0m\u001b[0m\n\u001b[0;32m     31\u001b[0m \u001b[1;32mdef\u001b[0m \u001b[0m_sum\u001b[0m\u001b[1;33m(\u001b[0m\u001b[0ma\u001b[0m\u001b[1;33m,\u001b[0m \u001b[0maxis\u001b[0m\u001b[1;33m=\u001b[0m\u001b[0mNone\u001b[0m\u001b[1;33m,\u001b[0m \u001b[0mdtype\u001b[0m\u001b[1;33m=\u001b[0m\u001b[0mNone\u001b[0m\u001b[1;33m,\u001b[0m \u001b[0mout\u001b[0m\u001b[1;33m=\u001b[0m\u001b[0mNone\u001b[0m\u001b[1;33m,\u001b[0m \u001b[0mkeepdims\u001b[0m\u001b[1;33m=\u001b[0m\u001b[0mFalse\u001b[0m\u001b[1;33m)\u001b[0m\u001b[1;33m:\u001b[0m\u001b[1;33m\u001b[0m\u001b[0m\n",
      "\u001b[1;31mValueError\u001b[0m: zero-size array to reduction operation minimum which has no identity"
     ]
    }
   ],
   "source": [
    "## Mod-Sum\n",
    "N = 2\n",
    "dist = np.asarray([[min_dist_eval(i, N-i, phi, mapping = 'MS') \\\n",
    "       for phi in np.arange(0,np.pi*2,np.pi/5)] for i in range(0,N+1)])\n",
    "for i in range(0, N+1):\n",
    "    plt.plot(dist[i,:])\n",
    "plt.show()"
   ]
  },
  {
   "cell_type": "markdown",
   "metadata": {},
   "source": [
    "#### Overall throughput Evaluation:"
   ]
  },
  {
   "cell_type": "code",
   "execution_count": 15,
   "metadata": {
    "collapsed": false
   },
   "outputs": [],
   "source": [
    "SNR_HSI = np.arange(0,30,0.1)\n",
    "SNR_MAC = np.arange(0,30,0.1)\n",
    "len_frame = 768\n",
    "N = 4 # Number of maximum bits per symbol in BC stage\n",
    "\n",
    "tupples = np.asarray([(i,j) for i in range(0, N+1) for j in range(0, N-i+1) if i+2*j<=N])[1:] # all feassible Nb,Ns tupples\n",
    "through = []\n",
    "#through = [np.zeros([len(SNR_MAC), len(SNR_HSI)])] * (tupples.shape[0])\n",
    "for [Nb, Ns] in tupples:\n",
    "    through.append(Throughput_Eval_range(Nb, Ns, N, SNR_MAC, SNR_HSI, mapping='XOR', len_frame=len_frame))    "
   ]
  },
  {
   "cell_type": "code",
   "execution_count": 16,
   "metadata": {
    "collapsed": false
   },
   "outputs": [],
   "source": [
    "## Draw particular overall throughput + regions of dominance\n",
    "\n",
    "max_through = np.asarray(through).max(axis=0)\n",
    "map_max = (through == max_through)\n",
    "levs_total = np.arange(0,N+0.1,0.2)\n",
    "#CS1 = plt.contour(max_through,len(levs),\\\n",
    "#      levels=levs_total, colors='y',\\\n",
    "#      extent=[np.min(SNR_MAC), np.max(SNR_MAC), np.min(SNR_HSI),np.max(SNR_HSI)])\n",
    "#zc = CS1.collections[0:len(levs_total):5] #\n",
    "#plt.setp(zc, linewidth=4)\n",
    "#plt.xlabel('SNR MAC [dB]')\n",
    "#plt.ylabel('SNR HSI [dB]')\n",
    "#plt.clabel(CS1, levs[0::2], inline=1, fmt='%1.1f', fontsize=14)\n",
    "\n",
    "plt.imshow(max_through[-1::-1,:],\\\n",
    "extent=[np.min(SNR_MAC), np.max(SNR_MAC), np.min(SNR_HSI),np.max(SNR_HSI)]) # xmin, xmax, ymin, ymax\n",
    "plt.colorbar()\n",
    "plt.xlabel('SNR MAC [dB]')\n",
    "plt.ylabel('SNR HSI [dB]')\n",
    "\n",
    "\n",
    "for i in range(0, len(through)):\n",
    "    act_max = through[i]\n",
    "    act_range = np.hstack([np.arange(0, i), np.arange(i+1, len(through))])\n",
    "    other_max = np.max(np.asarray(np.asarray(through)[act_range,:,:]),axis=0)\n",
    "    levs = [0]\n",
    "    CS = plt.contour(act_max-other_max,len(levs),\\\n",
    "                levels=levs, colors='k',\\\n",
    "                extent=[np.min(SNR_MAC), np.max(SNR_MAC), np.min(SNR_HSI),np.max(SNR_HSI)])\n",
    "    zc = CS.collections[0] # Stronger isolines\n",
    "    plt.setp(zc, linewidth=4)\n",
    "\n",
    "    \n",
    "    # Text description of regions\n",
    "    Nb = tupples[i, 0]\n",
    "    Ns = tupples[i, 1]\n",
    "    s = \"\".join(('(',str(Nb),',',str(Ns),')'))\n",
    "    line = np.arange(np.min(SNR_MAC), np.max(SNR_MAC),(SNR_MAC[-1]-SNR_MAC[0])/float(len(SNR_MAC)))\n",
    "    act_advantage = np.zeros(np.shape(max_through))\n",
    "    act_region = np.nonzero(max_through-other_max > 0)\n",
    "    act_advantage[act_region] = max_through[act_region]-other_max[act_region]\n",
    "\n",
    "    x = np.nonzero(act_advantage == np.max(act_advantage))[1][0]\n",
    "    y = np.nonzero(act_advantage == np.max(act_advantage))[0][0]\n",
    "    plt.text(line[x],line[y],s)\n",
    "\n",
    "plt.title('Throughput and strategy regions for XOR mapping')    \n",
    "plt.savefig('XOR_map.pdf')\n",
    "    \n",
    "plt.show()"
   ]
  },
  {
   "cell_type": "code",
   "execution_count": 17,
   "metadata": {
    "collapsed": false
   },
   "outputs": [],
   "source": [
    "## Draw throughput advantage of dominant region + regions of dominance \n",
    "plt.figure()\n",
    "max_through = np.asarray(through).max(axis=0)\n",
    "map_max = (through == max_through)\n",
    "region_advantage = np.zeros(np.shape(max_through))\n",
    "\n",
    "for i in range(0, len(through)):\n",
    "    act_max = through[i]\n",
    "    act_range = np.hstack([np.arange(0, i), np.arange(i+1, len(through))])\n",
    "    other_max = np.max(np.asarray(np.asarray(through)[act_range,:,:]),axis=0) \n",
    "    act_region = np.nonzero(max_through-other_max > 0)\n",
    "    region_advantage[act_region] = max_through[act_region]-other_max[act_region]\n",
    "\n",
    "    levs = [0]\n",
    "#    plt.contour(act_max - other_max)\n",
    "    CS = plt.contour(act_max-other_max,len(levs),\\\n",
    "                levels=levs, colors='k',\\\n",
    "                extent=[np.min(SNR_MAC), np.max(SNR_MAC), np.min(SNR_HSI),np.max(SNR_HSI)])\n",
    "    zc = CS.collections[0] # Stronger isolines\n",
    "    plt.setp(zc, linewidth=4)    \n",
    "\n",
    "plt.imshow(region_advantage[-1::-1,:],extent=[np.min(SNR_MAC), np.max(SNR_MAC), np.min(SNR_HSI),np.max(SNR_HSI)])\n",
    "plt.xlabel('SNR MAC [dB]')\n",
    "plt.ylabel('SNR HSI [dB]')\n",
    "plt.title('Throughput advantage of the dominant strategy')\n",
    "plt.colorbar()\n",
    "plt.savefig('XOR_map_advantage.pdf')\n",
    "plt.show()\n"
   ]
  },
  {
   "cell_type": "code",
   "execution_count": 5,
   "metadata": {
    "collapsed": false
   },
   "outputs": [],
   "source": [
    "## Draw particular overall throughput + regions of dominance\n",
    "\n",
    "max_through = np.asarray(through).max(axis=0)\n",
    "map_max = (through == max_through)\n",
    "levs_total = np.arange(0,N+0.1,0.2)\n",
    "region_advantage = np.zeros(np.shape(max_through))\n",
    "#CS1 = plt.contour(max_through,len(levs),\\\n",
    "#      levels=levs_total, colors='y',\\\n",
    "#      extent=[np.min(SNR_MAC), np.max(SNR_MAC), np.min(SNR_HSI),np.max(SNR_HSI)])\n",
    "#zc = CS1.collections[0:len(levs_total):5] #\n",
    "#plt.setp(zc, linewidth=4)\n",
    "#plt.xlabel('SNR MAC [dB]')\n",
    "#plt.ylabel('SNR HSI [dB]')\n",
    "#plt.clabel(CS1, levs[0::2], inline=1, fmt='%1.1f', fontsize=14)\n",
    "\n",
    "plt.imshow(max_through[-1::-1,:],\\\n",
    "extent=[np.min(SNR_MAC), np.max(SNR_MAC), np.min(SNR_HSI),np.max(SNR_HSI)]) # xmin, xmax, ymin, ymax\n",
    "plt.colorbar()\n",
    "plt.xlabel('SNR MAC [dB]')\n",
    "plt.ylabel('SNR HSI [dB]')\n",
    "\n",
    "\n",
    "for i in range(0, len(through)):\n",
    "    act_max = through[i]\n",
    "    act_range = np.hstack([np.arange(0, i), np.arange(i+1, len(through))])\n",
    "    other_max = np.max(np.asarray(np.asarray(through)[act_range,:,:]),axis=0)\n",
    "    levs = [0]\n",
    "    CS = plt.contour(act_max-other_max,len(levs),\\\n",
    "                levels=levs, colors='k',\\\n",
    "                extent=[np.min(SNR_MAC), np.max(SNR_MAC), np.min(SNR_HSI),np.max(SNR_HSI)])\n",
    "    zc = CS.collections[0] # Stronger isolines\n",
    "    plt.setp(zc, linewidth=4)\n",
    "    \n",
    "    act_region = np.nonzero(max_through-other_max > 0)\n",
    "    region_advantage[act_region] = max_through[act_region]-other_max[act_region]\n",
    "\n",
    "    \n",
    "    # Text description of regions\n",
    "    Nb = tupples[i, 0]\n",
    "    Ns = tupples[i, 1]\n",
    "    s = \"\".join(('(',str(Nb),',',str(Ns),')'))\n",
    "    line = np.arange(np.min(SNR_MAC), np.max(SNR_MAC),(SNR_MAC[-1]-SNR_MAC[0])/len(SNR_MAC))\n",
    "    act_advantage = np.zeros(np.shape(max_through))\n",
    "    act_region = np.nonzero(max_through-other_max > 0)\n",
    "    act_advantage[act_region] = max_through[act_region]-other_max[act_region]\n",
    "\n",
    "    x = np.nonzero(act_advantage == np.max(act_advantage))[1][0]\n",
    "    y = np.nonzero(act_advantage == np.max(act_advantage))[0][0]\n",
    "    plt.text(line[x],line[y],s)\n",
    "    \n",
    "\n",
    "#levs = np.arange(0.1,1,0.4)\n",
    "#CS = plt.contour(region_advantage,len(levs),\\\n",
    "#                levels=levs, colors='m',\\\n",
    "#                extent=[np.min(SNR_MAC), np.max(SNR_MAC), np.min(SNR_HSI),np.max(SNR_HSI)]) \n",
    "#zc = CS.collections # Stronger isolines\n",
    "#plt.setp(zc, linewidth=0.5)  \n",
    "#plt.clabel(CS, levs, inline=1, fmt='%1.1f', fontsize=10)\n",
    "plt.title('Throughput and strategy regions for Mod Sum')\n",
    "plt.savefig('../results/MS_basic.svg')\n",
    "plt.show()"
   ]
  },
  {
   "cell_type": "code",
   "execution_count": 13,
   "metadata": {
    "collapsed": false
   },
   "outputs": [],
   "source": [
    "## Draw particular overall throughput + regions of dominance\n",
    "\n",
    "max_through = np.asarray(through).max(axis=0)\n",
    "map_max = (through == max_through)\n",
    "levs_total = np.arange(0,N+0.1,0.2)\n",
    "region_advantage = np.zeros(np.shape(max_through))\n",
    "#CS1 = plt.contour(max_through,len(levs),\\\n",
    "#      levels=levs_total, colors='y',\\\n",
    "#      extent=[np.min(SNR_MAC), np.max(SNR_MAC), np.min(SNR_HSI),np.max(SNR_HSI)])\n",
    "#zc = CS1.collections[0:len(levs_total):5] #\n",
    "#plt.setp(zc, linewidth=4)\n",
    "#plt.xlabel('SNR MAC [dB]')\n",
    "#plt.ylabel('SNR HSI [dB]')\n",
    "#plt.clabel(CS1, levs[0::2], inline=1, fmt='%1.1f', fontsize=14)\n",
    "\n",
    "\n",
    "plt.xlabel('SNR MAC [dB]')\n",
    "plt.ylabel('SNR HSI [dB]')\n",
    "\n",
    "\n",
    "for i in range(0, len(through)):\n",
    "    act_max = through[i]\n",
    "    act_range = np.hstack([np.arange(0, i), np.arange(i+1, len(through))])\n",
    "    other_max = np.max(np.asarray(np.asarray(through)[act_range,:,:]),axis=0)\n",
    "    levs = [0]\n",
    "    CS = plt.contour(act_max-other_max,len(levs),\\\n",
    "                levels=levs, colors='k',\\\n",
    "                extent=[np.min(SNR_MAC), np.max(SNR_MAC), np.min(SNR_HSI),np.max(SNR_HSI)])\n",
    "    zc = CS.collections[0] # Stronger isolines\n",
    "    plt.setp(zc, linewidth=4)\n",
    "    \n",
    "    # Text description of regions\n",
    "    Nb = tupples[i, 0]\n",
    "    Ns = tupples[i, 1]\n",
    "    s = \"\".join(('(',str(Nb),',',str(Ns),')'))\n",
    "    line = np.arange(np.min(SNR_MAC), np.max(SNR_MAC),(SNR_MAC[-1]-SNR_MAC[0])/len(SNR_MAC))\n",
    "    act_advantage = np.zeros(np.shape(max_through))\n",
    "    act_region = np.nonzero(max_through-other_max > 0)\n",
    "    act_advantage[act_region] = max_through[act_region]-other_max[act_region]\n",
    "\n",
    "    x = np.nonzero(act_advantage == np.max(act_advantage))[1][0]\n",
    "    y = np.nonzero(act_advantage == np.max(act_advantage))[0][0]\n",
    "    if (x > 0) or (y>0):\n",
    "        plt.text(line[x],line[y],s)    \n",
    "   \n",
    "plt.title('Strategy region map for Mod Sum mapping')\n",
    "plt.savefig('../results/MS_map.pdf')\n",
    "plt.show()"
   ]
  },
  {
   "cell_type": "code",
   "execution_count": 18,
   "metadata": {
    "collapsed": false
   },
   "outputs": [
    {
     "name": "stderr",
     "output_type": "stream",
     "text": [
      "/usr/lib64/python2.7/site-packages/matplotlib/colorbar.py:215: UserWarning: Use the colorbar set_ticks() method instead.\n",
      "  warnings.warn(\"Use the colorbar set_ticks() method instead.\")\n"
     ]
    }
   ],
   "source": [
    "def Through_e(Nb,Ns):\n",
    "  print 'processing ', Nb, Ns\n",
    "  t = 0  \n",
    "  phi_axis = np.arange(0,2*np.pi,np.pi/60.)\n",
    "  for phi in phi_axis:\n",
    "    h_act = np.exp(1j * phi)\n",
    "#    print phi, h_act\n",
    "    t += Throughput_Eval_range_all(Nb, Ns, SNR_MAC, SNR_HSI, SNR_BC, 'XOR',len_frame, h_act, D='single')\n",
    "  return t/float(len(phi_axis))\n",
    "\n",
    "SNR_HSI = np.arange(0,30,0.1)\n",
    "SNR_MAC = np.arange(2,29,0.1)\n",
    "#SNR_BC = np.arange(15,21,1)\n",
    "SNR_BC = np.array([15,17,20,25])\n",
    "len_frame = 768\n",
    "N = 4 # Number of maximum bits per symbol in BC stage\n",
    "    \n",
    "tupples = np.asarray([(i,j) for i in range(0, N+1) for j in range(0, N-i+1) if i+2*j<=N])[1:] # all feassible Nb,Ns tupples\n",
    "through = []\n",
    "avg = 0 # Averaging\n",
    "par = 1 # Parralel evaluation\n",
    "#through = [np.zeros([len(SNR_MAC), len(SNR_HSI)])] * (tupples.shape[0])\n",
    "if avg == 0:\n",
    "  if par == 0:\n",
    "    for [Nb, Ns] in tupples:\n",
    "      through.append(Throughput_Eval_range_all(Nb, Ns, SNR_MAC, SNR_HSI, SNR_BC, 'XOR',len_frame, h=1., D='single'))\n",
    "  else:\n",
    "    through = Parallel(n_jobs=8)(delayed(Throughput_Eval_range_all)\\\n",
    "        (Nb, Ns, SNR_MAC, SNR_HSI, SNR_BC, 'XOR', len_frame, h=1., D='single') for (Nb, Ns) in tupples)\n",
    "\n",
    "elif avg == 1: # Uniform averaging \n",
    "  if par == 0:\n",
    "    for [Nb, Ns] in tupples:  \n",
    "      through.append(Through_e(Nb,Ns))\n",
    "  else:\n",
    "    through = Parallel(n_jobs=8)(delayed(Through_e)(Nb, Ns) for (Nb, Ns) in tupples)\n",
    "#    through.append(Throughput_Eval_range_all(Nb, Ns, SNR_MAC, SNR_HSI, SNR_BC, 'XOR',len_frame, h=1., D='single'))\n",
    "\n",
    "\n",
    "strategy = np.zeros([len(SNR_MAC), len(SNR_HSI), len(SNR_BC)],int)\n",
    "for i in range(len(through)):\n",
    "  act_range = np.hstack([np.arange(0, i), np.arange(i+1, len(through))])  \n",
    "#  print np.asarray(through)[act_range,:,:]\n",
    "  z,y,x = np.nonzero(through[i]>(np.max(np.asarray(through)[act_range,:,:,:], axis=0)))\n",
    "  for j in range(len(x)):\n",
    "    strategy[x[j], y[j],z[j]] = i\n",
    "#print strategy\n",
    "#print tupples\n",
    "\n",
    "for i in range(len(SNR_BC)):\n",
    "#  plt.figure(figsize=(15, 15))\n",
    "#  plt.figure(figsize=(8, 8))\n",
    "  plt.figure()    \n",
    "  max_through = np.asarray(through)[:,i,:,:].max(axis=0)\n",
    "  map_max = (through == max_through)\n",
    "  levs_total = np.arange(0,N+0.1,0.2)\n",
    " \n",
    "\n",
    "  ax = plt.gca()\n",
    "  im = ax.imshow(2*max_through[-1::-1,:],\\\n",
    "  extent=[np.min(SNR_MAC), np.max(SNR_MAC), np.min(SNR_HSI),np.max(SNR_HSI)],vmin=0, vmax=4) # xmin, xmax, ymin, ymax               \n",
    "#  extent=[np.min(SNR_MAC), np.max(SNR_MAC), np.min(SNR_HSI),np.max(SNR_HSI)]) # xmin, xmax, ymin, ymax  \n",
    "  \n",
    "  plt.xlabel('$\\gamma_{MAC}$ [dB]', fontsize=16)\n",
    "  plt.ylabel('$\\gamma_{HSI}$ [dB]', fontsize=16)\n",
    "  plt.title('$\\gamma_{BC}$='+str(SNR_BC[i])+' dB', fontsize=16)  \n",
    "  divider = make_axes_locatable(ax)\n",
    "  cax = divider.append_axes(\"right\", size=\"5%\", pad=0.2)\n",
    "\n",
    "  plt.colorbar(im, cax=cax)\n",
    "#  plt.colorbar()\n",
    "#  plt.title('Throughput for $\\gamma_{BC}$='+str(SNR_BC[i])+'dB')\n",
    "\n",
    "\n",
    "    \n",
    "  for j in range(0, len(through)):\n",
    "    act_max = through[j][i,:,:]\n",
    "    act_range = np.hstack([np.arange(0, j), np.arange(j+1, len(through))])\n",
    "    other_max = np.max(np.asarray(np.asarray(through)[act_range,i,:,:]),axis=0)\n",
    "    levs = [0]\n",
    "    CS = ax.contour(act_max-other_max,len(levs),\\\n",
    "                levels=levs, colors='k',\\\n",
    "                extent=[np.min(SNR_MAC), np.max(SNR_MAC), np.min(SNR_HSI),np.max(SNR_HSI)])\n",
    "    zc = CS.collections[0] # Stronger isolines\n",
    "    plt.setp(zc, linewidth=4)\n",
    "\n",
    "    \n",
    "    # Text description of regions\n",
    "    Nb = tupples[j, 0]\n",
    "    Ns = tupples[j, 1]\n",
    "    s = \"\".join(('(',str(Nb),',',str(Ns),')'))\n",
    "    lineX = np.arange(np.min(SNR_MAC), np.max(SNR_MAC),(SNR_MAC[-1]-SNR_MAC[0])/float(len(SNR_MAC)))\n",
    "    lineY = np.arange(np.min(SNR_HSI), np.max(SNR_HSI),(SNR_HSI[-1]-SNR_HSI[0])/float(len(SNR_HSI)))    \n",
    "    act_advantage = np.zeros(np.shape(max_through))\n",
    "    act_region = np.nonzero(max_through-other_max > 0)\n",
    "    act_advantage[act_region] = max_through[act_region]-other_max[act_region]\n",
    "\n",
    "    x = np.nonzero(act_advantage == np.max(act_advantage))[1][0]\n",
    "    y = np.nonzero(act_advantage == np.max(act_advantage))[0][0]\n",
    "    if ((x != 0) or (y != 0)):\n",
    "      ax.text(lineX[x]-2,lineY[y]+0.5,s,  bbox=dict(facecolor='white', edgecolor='black', pad=5.0))\n",
    "  \n",
    "  plt.xticks(np.arange(2,30,3))\n",
    "  plt.yticks(np.arange(0,31,3))  \n",
    "  ax.grid(None)\n",
    "  plt.savefig('../XOR_map_Througput_BC'+str(SNR_BC[i])+'.eps',bbox_inches='tight')\n",
    "plt.show()"
   ]
  },
  {
   "cell_type": "code",
   "execution_count": 19,
   "metadata": {
    "collapsed": false
   },
   "outputs": [
    {
     "ename": "NameError",
     "evalue": "name 'aa' is not defined",
     "output_type": "error",
     "traceback": [
      "\u001b[1;31m---------------------------------------------------------------------------\u001b[0m",
      "\u001b[1;31mNameError\u001b[0m                                 Traceback (most recent call last)",
      "\u001b[1;32m<ipython-input-19-3093ff3c5ccb>\u001b[0m in \u001b[0;36m<module>\u001b[1;34m()\u001b[0m\n\u001b[0;32m     30\u001b[0m \u001b[1;33m\u001b[0m\u001b[0m\n\u001b[0;32m     31\u001b[0m   \u001b[0max\u001b[0m \u001b[1;33m=\u001b[0m \u001b[0mplt\u001b[0m\u001b[1;33m.\u001b[0m\u001b[0mgca\u001b[0m\u001b[1;33m(\u001b[0m\u001b[1;33m)\u001b[0m\u001b[1;33m\u001b[0m\u001b[0m\n\u001b[1;32m---> 32\u001b[1;33m   \u001b[0mim\u001b[0m \u001b[1;33m=\u001b[0m \u001b[0max\u001b[0m\u001b[1;33m.\u001b[0m\u001b[0mimshow\u001b[0m\u001b[1;33m(\u001b[0m\u001b[0maa\u001b[0m\u001b[1;33m[\u001b[0m\u001b[0mi\u001b[0m\u001b[1;33m]\u001b[0m\u001b[1;33m[\u001b[0m\u001b[1;33m-\u001b[0m\u001b[1;36m1\u001b[0m\u001b[1;33m:\u001b[0m\u001b[1;33m:\u001b[0m\u001b[1;33m-\u001b[0m\u001b[1;36m1\u001b[0m\u001b[1;33m,\u001b[0m\u001b[1;33m:\u001b[0m\u001b[1;33m]\u001b[0m\u001b[1;33m-\u001b[0m\u001b[1;33m(\u001b[0m\u001b[1;36m2\u001b[0m\u001b[1;33m*\u001b[0m\u001b[0mmax_through\u001b[0m\u001b[1;33m[\u001b[0m\u001b[1;33m-\u001b[0m\u001b[1;36m1\u001b[0m\u001b[1;33m:\u001b[0m\u001b[1;33m:\u001b[0m\u001b[1;33m-\u001b[0m\u001b[1;36m1\u001b[0m\u001b[1;33m,\u001b[0m\u001b[1;33m:\u001b[0m\u001b[1;33m]\u001b[0m\u001b[1;33m)\u001b[0m\u001b[1;33m,\u001b[0m  \u001b[0mextent\u001b[0m\u001b[1;33m=\u001b[0m\u001b[1;33m[\u001b[0m\u001b[0mnp\u001b[0m\u001b[1;33m.\u001b[0m\u001b[0mmin\u001b[0m\u001b[1;33m(\u001b[0m\u001b[0mSNR_MAC\u001b[0m\u001b[1;33m)\u001b[0m\u001b[1;33m,\u001b[0m \u001b[0mnp\u001b[0m\u001b[1;33m.\u001b[0m\u001b[0mmax\u001b[0m\u001b[1;33m(\u001b[0m\u001b[0mSNR_MAC\u001b[0m\u001b[1;33m)\u001b[0m\u001b[1;33m,\u001b[0m \u001b[0mnp\u001b[0m\u001b[1;33m.\u001b[0m\u001b[0mmin\u001b[0m\u001b[1;33m(\u001b[0m\u001b[0mSNR_HSI\u001b[0m\u001b[1;33m)\u001b[0m\u001b[1;33m,\u001b[0m\u001b[0mnp\u001b[0m\u001b[1;33m.\u001b[0m\u001b[0mmax\u001b[0m\u001b[1;33m(\u001b[0m\u001b[0mSNR_HSI\u001b[0m\u001b[1;33m)\u001b[0m\u001b[1;33m]\u001b[0m\u001b[1;33m,\u001b[0m\u001b[0mvmin\u001b[0m\u001b[1;33m=\u001b[0m\u001b[1;36m0.75\u001b[0m\u001b[1;33m,\u001b[0m \u001b[0mvmax\u001b[0m\u001b[1;33m=\u001b[0m\u001b[1;36m2\u001b[0m\u001b[1;33m)\u001b[0m \u001b[1;31m# xmin, xmax, ymin, ymax\u001b[0m\u001b[1;33m\u001b[0m\u001b[0m\n\u001b[0m\u001b[0;32m     33\u001b[0m   \u001b[1;31m#extent=[np.min(SNR_MAC), np.max(SNR_MAC), np.min(SNR_HSI),np.max(SNR_HSI)],vmin=0, vmax=4) # xmin, xmax, ymin, ymax\u001b[0m\u001b[1;33m\u001b[0m\u001b[1;33m\u001b[0m\u001b[0m\n\u001b[0;32m     34\u001b[0m \u001b[1;33m\u001b[0m\u001b[0m\n",
      "\u001b[1;31mNameError\u001b[0m: name 'aa' is not defined"
     ]
    }
   ],
   "source": [
    "SNR_HSI = np.linspace(0,25,26)\n",
    "SNR_MAC = np.linspace(0,25,26)\n",
    "#SNR_BC = np.arange(15,21,1)\n",
    "SNR_BC = np.array([7.5, 15])\n",
    "len_frame = 768\n",
    "N = 4 # Number of maximum bits per symbol in BC stage\n",
    "    \n",
    "tupples = np.asarray([(i,j) for i in range(0, N+1) for j in range(0, N-i+1) if i+2*j<=N])[1:] # all feassible Nb,Ns tupples\n",
    "through = []\n",
    "\n",
    "par = 1 # Parralel evaluation\n",
    "#through = [np.zeros([len(SNR_MAC), len(SNR_HSI)])] * (tupples.shape[0])\n",
    "\n",
    "if par == 0:\n",
    "  for [Nb, Ns] in tupples:\n",
    "    through.append(Throughput_Eval_range_all(Nb, Ns, SNR_MAC, SNR_HSI, SNR_BC, 'XOR',len_frame, h=1., D='single'))\n",
    "else:\n",
    "  through = Parallel(n_jobs=8)(delayed(Throughput_Eval_range_all)\\\n",
    "      (Nb, Ns, SNR_MAC, SNR_HSI, SNR_BC, 'XOR', len_frame, h=1., D='single') for (Nb, Ns) in tupples)\n",
    "\n",
    "\n",
    "\n",
    "for i in range(len(SNR_BC)):\n",
    "#  plt.figure(figsize=(15, 15))\n",
    "#  plt.figure(figsize=(8, 8))\n",
    "  plt.figure()    \n",
    "  max_through = np.asarray(through)[:,i,:,:].max(axis=0)\n",
    "  map_max = (through == max_through)\n",
    "  levs_total = np.arange(0,N+0.1,0.2)\n",
    " \n",
    "\n",
    "  ax = plt.gca()\n",
    "  im = ax.imshow(aa[i][-1::-1,:]-(2*max_through[-1::-1,:]),\\\n",
    "  extent=[np.min(SNR_MAC), np.max(SNR_MAC), np.min(SNR_HSI),np.max(SNR_HSI)],vmin=0.75, vmax=2) # xmin, xmax, ymin, ymax                                \n",
    "  #extent=[np.min(SNR_MAC), np.max(SNR_MAC), np.min(SNR_HSI),np.max(SNR_HSI)],vmin=0, vmax=4) # xmin, xmax, ymin, ymax                   \n",
    "\n",
    "\n",
    "  \n",
    "  plt.xlabel('$\\gamma_{MAC}$ [dB]', fontsize=16)\n",
    "  plt.ylabel('$\\gamma_{HSI}$ [dB]', fontsize=16)\n",
    "  plt.title('$\\gamma_{BC}$='+str(SNR_BC[i])+' dB', fontsize=16)  \n",
    "  divider = make_axes_locatable(ax)\n",
    "  cax = divider.append_axes(\"right\", size=\"5%\", pad=0.2)\n",
    "\n",
    "  plt.colorbar(im, cax=cax)\n",
    "#  plt.colorbar()\n",
    "#  plt.title('Throughput for $\\gamma_{BC}$='+str(SNR_BC[i])+'dB')\n",
    "\n",
    "\n",
    "  \n",
    "  plt.xticks(np.arange(0,30,3))\n",
    "  plt.yticks(np.arange(0,30,3))  \n",
    "  ax.grid(None)\n",
    "  plt.savefig('../XOR_map_Througput_coding_Gain'+str(SNR_BC[i])+'.eps',bbox_inches='tight')\n",
    "plt.show()"
   ]
  },
  {
   "cell_type": "code",
   "execution_count": 34,
   "metadata": {
    "collapsed": false
   },
   "outputs": [
    {
     "data": {
      "text/plain": [
       "1.9583646846161389"
      ]
     },
     "execution_count": 34,
     "metadata": {},
     "output_type": "execute_result"
    }
   ],
   "source": [
    "np.max(aa[i][-1::-1,:]-(2*max_through[-1::-1,:]))"
   ]
  },
  {
   "cell_type": "markdown",
   "metadata": {},
   "source": [
    "#### Demodulation Mapping:"
   ]
  },
  {
   "cell_type": "code",
   "execution_count": null,
   "metadata": {
    "collapsed": false
   },
   "outputs": [
    {
     "data": {
      "text/plain": [
       "0"
      ]
     },
     "execution_count": 4,
     "metadata": {},
     "output_type": "execute_result"
    }
   ],
   "source": [
    "Nb = 3\n",
    "Ns = 3\n",
    "N = 100\n",
    "dA=np.random.randint(2**(Nb+Ns),size=N) # Random data\n",
    "dB=np.random.randint(2**(Nb+Ns),size=N)\n",
    "\n",
    "dAb = dA % (2**Nb) # Separation to basic and superposed part\n",
    "dBb = dB % (2**Nb)\n",
    "dAs = dA / (2**Nb)\n",
    "dBs = dB / (2**Nb)\n",
    "\n",
    "# Indexing the relay constelation\n",
    "ind_const = np.asarray([s1* 2**(Nb + Ns) + s2 * 2**(Nb) + (b1^b2) \\\n",
    "              for s1 in range(0, 2**Ns) for b1 in range(0, 2**Nb) \\\n",
    "              for s2 in range(0, 2**Ns) for b2 in range(0, 2**Nb)] )\n",
    "\n",
    "dR = dAs * 2**(Nb + Ns) + dBs * 2**(Nb) + (dAb^dBb) # The relay data\n",
    "\n",
    "(sourceA_const, sourceB_const, basic_part, relay_const, alpha) = const_design_XOR(Nb, Ns)\n",
    "in0 = sourceA_const[dA] + sourceB_const[dB]\n",
    "\n",
    "dist = np.asarray([np.abs(in0 - s0)**2 for s0 in relay_const] ) # Minimum distance based decision\n",
    "out = ind_const[np.argmin(dist, axis = 0)] \n",
    "#print dA, dB, dAb, dAs, dBb, dBs\n",
    "\n",
    "len((np.nonzero(out != dR)[0]))"
   ]
  },
  {
   "cell_type": "markdown",
   "metadata": {},
   "source": [
    "#### Evaluation of Throughput with Dependece on HSI for fixed MAC and BC"
   ]
  },
  {
   "cell_type": "code",
   "execution_count": 28,
   "metadata": {
    "collapsed": false
   },
   "outputs": [],
   "source": [
    "def eval_LB(SNR_MAC, SNR_BC):\n",
    "    SNR_HSI = np.linspace(0,20,21)\n",
    "\n",
    "    frame_len = 768.\n",
    "    num_frames = 10000\n",
    "    h = 1.\n",
    "    D = 'single' # Evaluation errors only in one destination\n",
    "    #D = 'both' # Evaluation errors in both destinations\n",
    "    mapping = 'XOR'\n",
    "    par = 1 # Parallel evaluation\n",
    "    pairs = [(0,2),(1,1),(2,0)]\n",
    "    if par == 1:\n",
    "        l = Parallel(n_jobs=8)(delayed(Throughput_Eval_range_all)(Nb, Ns, SNR_MAC, SNR_HSI, SNR_BC, mapping, frame_len, h ,D) for (Nb,Ns) in pairs)\n",
    "        line = [x.flatten() for x in l[-1::-1]] # Reverse order\n",
    "\n",
    "\n",
    "    if par == 0:\n",
    "        line = []         \n",
    "        for (Ns,Nb) in pairs:  \n",
    "            line.append(np.asarray(Throughput_Eval_range_all(Nb, Ns, SNR_MAC, SNR_HSI, SNR_BC, mapping, frame_len, h, D)).flatten())\n",
    "    return line\n",
    "    \n",
    "    \n",
    "\n",
    "# Evaluation\n",
    "SNR_MAC = [16]\n",
    "SNR_BC = [20]\n",
    "#SNR_HSI = np.linspace(7,25,20)\n",
    "SNR_HSI = np.linspace(0,20,21)\n",
    "\n",
    "frame_len = 768.\n",
    "num_frames = 10000\n",
    "h = 1.\n",
    "D = 'single' # Evaluation errors only in one destination\n",
    "#D = 'both' # Evaluation errors in both destinations\n",
    "mapping = 'XOR'\n",
    "par = 1 # Parallel evaluation\n",
    "pairs = [(0,2),(1,1),(2,0)]\n",
    "if par == 1:\n",
    "#  line = np.zeros([len(pairs), len(SNR_HSI)],float)\n",
    "#  line2 = np.zeros([len(pairs), len(SNR_HSI)],float)  \n",
    "  l = Parallel(n_jobs=8)(delayed(Throughput_Eval_range_all)(Nb, Ns, SNR_MAC, SNR_HSI, SNR_BC, mapping, frame_len, h ,D) for (Nb,Ns) in pairs)\n",
    "  line = [x.flatten() for x in l[-1::-1]] # Reverse order\n",
    "#  l2 = Parallel(n_jobs=8)(delayed(Throughput_Eval_Numerical)(Nb, Ns, mapping,frame_len , num_frames, SNR_HSI, SNR_MAC, SNR_BC, D) for (Nb,Ns) in pairs)\n",
    "#  line2 = [x.flatten() for x in l2[-1::-1]]\n",
    "\n",
    "\n",
    "if par == 0:\n",
    "  line = []\n",
    "  line2 = []\n",
    "  for (Ns,Nb) in pairs:  \n",
    "    line.append(np.asarray(Throughput_Eval_range_all(Nb, Ns, SNR_MAC, SNR_HSI, SNR_BC, mapping, frame_len, h, D)).flatten())\n",
    "#    line2.append(np.asarray(Throughput_Eval_Numerical(Nb, Ns, mapping,frame_len , num_frames, SNR_HSI, SNR_MAC, SNR_BC, D)).flatten())"
   ]
  },
  {
   "cell_type": "code",
   "execution_count": 91,
   "metadata": {
    "collapsed": false
   },
   "outputs": [],
   "source": [
    "# Plotting\n",
    "colors = ['red', 'green', 'blue','magenta']\n",
    "for i in range(len(pairs)):\n",
    "  (Ns,Nb) = pairs[i]\n",
    "  plt.plot(SNR_HSI, 2*line[i],color=colors[i],linestyle='-',label='$T_{\\mathrm{LB}}$ - ('+str(Nb)+', '+str(Ns)+')')\n",
    "  plt.plot(SNR_HSI, line2[i],color=colors[i],linestyle='--',lw=2,label='$T_{\\mathrm{sim}}$ - ('+str(Nb)+', '+str(Ns)+')')\n",
    "plt.plot(SNR_HSI, np.zeros(len(SNR_HSI)), linestyle='-', color='cyan', label='$T_{\\mathrm{ref}}$ - QPSK')\n",
    "plt.legend(loc=4)\n",
    "plt.xlabel('SNR HSI [dB]')\n",
    "plt.ylabel('Throughput [bits/channel use]')\n",
    "plt.xticks(np.linspace(0,20,21))\n",
    "plt.yticks(np.linspace(0,2,11))\n",
    "plt.grid()\n",
    "plt.title('Throughput for '+mapping+' mapping and Fixed $\\gamma_{MAC}$='+str(SNR_MAC[0])+'dB and $\\gamma_{BC}$='+str(SNR_BC[0])+'dB',y=1.02)\n",
    "plt.ylim([-0.05,np.max(line2)+0.05])\n",
    "plt.savefig('../results/Throughput_HSI_'+mapping+'_MAC'+str(SNR_MAC[0])+'_BC'+str(SNR_BC[0])+'_N'+str(sum(pairs[0]))+'.eps',bbox_inches='tight')\n",
    "plt.show()\n"
   ]
  },
  {
   "cell_type": "markdown",
   "metadata": {},
   "source": [
    "#### Data Collected from the HW Demonstrator - SNR_MAC=20, SNR_BC=20"
   ]
  },
  {
   "cell_type": "code",
   "execution_count": 51,
   "metadata": {
    "collapsed": false
   },
   "outputs": [
    {
     "data": {
      "image/png": "[encoded data removed]",
      "text/plain": [
       "<matplotlib.figure.Figure at 0xadb1b76c>"
      ]
     },
     "metadata": {},
     "output_type": "display_data"
    }
   ],
   "source": [
    "\n",
    "def double_arrowY(plt, x0, y0, x1, y1):\n",
    "  hw = 0.5; hl = 0.15\n",
    "  dx = x1 - x0; dy = y1 - y0\n",
    "  plt.arrow(x0, y0, dx, dy - hl, head_width=hw, head_length=hl, fc='k', ec='k')\n",
    "  plt.arrow(x1, y1, -dx, -dy + hl, head_width=hw, head_length=hl, fc='k', ec='k')\n",
    "\n",
    "def double_arrowX(plt, x0, y0, x1, y1):\n",
    "  hw = 0.06; hl = 0.5\n",
    "  dx = x1 - x0; dy = y1 - y0\n",
    "  plt.arrow(x0, y0, dx - hl, dy , head_width=hw, head_length=hl, fc='k', ec='k')\n",
    "  plt.arrow(x1, y1, -dx + hl, -dy, head_width=hw, head_length=hl, fc='k', ec='k')\n",
    "\n",
    "plt.figure(figsize=(6,4))\n",
    "#line2_20_20 = line2\n",
    "line_20_20 = eval_LB([20], [20]) #Analytical lower bound\n",
    "\n",
    "line2_20_20 = np.array([np.array([  0.00000000e+00,   0.00000000e+00,   0.00000000e+00,\n",
    "         0.00000000e+00,   0.00000000e+00,   0.00000000e+00,\n",
    "         0.00000000e+00,   0.00000000e+00,   2.00000000e-04,\n",
    "         4.70000000e-02,   6.12000000e-01,   1.48320000e+00,\n",
    "         1.90160000e+00,   1.98300000e+00,   1.99940000e+00,\n",
    "         2.00000000e+00,   2.00000000e+00,   2.00000000e+00,\n",
    "         2.00000000e+00,   2.00000000e+00,   2.00000000e+00]), np.array([ 0.    ,  0.    ,  0.    ,  0.    ,  0.    ,  0.    ,  0.0258,\n",
    "        0.333 ,  1.1336,  1.7384,  1.9502,  1.9942,  1.9996,  1.9998,\n",
    "        2.    ,  2.    ,  2.    ,  2.    ,  2.    ,  2.    ,  2.    ]), np.array([ 1.9912,  1.9912,  1.9892,  1.9922,  1.991 ,  1.9922,  1.9918,\n",
    "        1.9944,  1.9918,  1.9918,  1.99  ,  1.9934,  1.9914,  1.9934,\n",
    "        1.993 ,  1.9914,  1.9912,  1.9888,  1.9904,  1.9884,  1.9902])]\n",
    ")\n",
    "\n",
    "\n",
    "Nb1Ns1_real = np.array([[  0.   ,   0.   ],\n",
    "       [  2.   ,   0.   ],\n",
    "       [  4.   ,   0.   ],\n",
    "       [  5.   ,   0.   ],\n",
    "       [  5.5   ,   0.   ],\n",
    "       [  6.   ,   0.02 ],\n",
    "       [  6.5   ,   0.06 ],\n",
    "       [  7.   ,   0.36 ],\n",
    "       [  7.5   ,   0.66 ],\n",
    "       [  8.   ,   1.02 ],\n",
    "       [  8.5   ,   1.48 ],\n",
    "#       [  9.   ,   1.82 ],\n",
    "       [  9.5   ,   1.896],\n",
    "       [ 10.   ,   1.94 ],\n",
    "       [ 12.   ,   1.98 ],\n",
    "       [ 14.   ,   2.   ],\n",
    "       [ 16.   ,   2.   ],\n",
    "       [ 18.   ,   2.   ],\n",
    "       [ 20.   ,   2.   ]])\n",
    "\n",
    "Nb2Ns0_real = np.array([[  0.  ,   0.  ],\n",
    "       [  2.  ,   0.  ],\n",
    "       [  4.  ,   0.  ],\n",
    "       [  6.  ,   0.  ],\n",
    "       [  8.  ,   0.  ],\n",
    "       [  8.5  ,   0.  ],\n",
    "       [  9.  ,   0.08],\n",
    "       [  9.5  ,   0.32],\n",
    "       [ 10.  ,   0.72],\n",
    "       [ 10.5  ,   1.22],\n",
    "       [ 11.  ,   1.64],\n",
    "       [ 11.5  ,   1.76],\n",
    "       [ 12.  ,   1.9 ],\n",
    "       [ 12.5  ,   1.96],\n",
    "#       [ 13.  ,   1.96],\n",
    "       [ 13.5  ,   2.  ],\n",
    "       [ 14.  ,   2.  ],\n",
    "       [ 16.  ,   2.  ],\n",
    "       [ 18.  ,   2.  ],\n",
    "       [ 20.  ,   2.  ]])\n",
    "\n",
    "Nb0Ns2_real = np.array([[  0.  ,   2.],\n",
    "#       [ 10.  ,   2.  ],\n",
    "       [ 20.  ,   2.  ]])\n",
    "\n",
    "\n",
    "# Plotting\n",
    "colors = ['red', 'green', 'blue']\n",
    "for i in range(len(pairs)):\n",
    "  (Ns,Nb) = pairs[i]\n",
    "  plt.plot(SNR_HSI, 2*line_20_20[i],color=colors[i],linestyle='-',label='$T_{\\mathrm{LB}}$ - ('+str(Nb)+', '+str(Ns)+')')\n",
    "  plt.plot(SNR_HSI, line2_20_20[i],color=colors[i],linestyle='--',lw=2,label='$T_{\\mathrm{sim}}$ - ('+str(Nb)+', '+str(Ns)+')')\n",
    "plt.plot(SNR_HSI, np.zeros(len(SNR_HSI)), linestyle='-', color='cyan', label='$T_{\\mathrm{ref}}$ - QPSK')\n",
    "#plt.plot(Nb2Ns0_real[:,0],Nb2Ns0_real[:,1], color='red',linestyle=':',ms=5,lw=3, label='$T_{\\mathrm{USRP}}$ - (2,0)')\n",
    "#plt.plot(Nb1Ns1_real[:,0],Nb1Ns1_real[:,1], color='green',linestyle=':',ms=5,lw=3, label='$T_{\\mathrm{USRP}}$ - (1,1)')\n",
    "#plt.plot(Nb0Ns2_real[:,0],Nb0Ns2_real[:,1], color='blue',linestyle=':',ms=5,lw=3, label='$T_{\\mathrm{USRP}}$ - (0,2)')\n",
    "plt.plot(Nb2Ns0_real[:,0],Nb2Ns0_real[:,1], 'rs:',ms=5,lw=3, label='$T_{\\mathrm{USRP}}$ - (2,0)')\n",
    "plt.plot(Nb1Ns1_real[:,0],Nb1Ns1_real[:,1], 'gh:',ms=5,lw=3, label='$T_{\\mathrm{USRP}}$ - (1,1)')\n",
    "plt.plot(Nb0Ns2_real[:,0],Nb0Ns2_real[:,1], 'bo:',ms=5,lw=3, label='$T_{\\mathrm{USRP}}$ - (0,2)')\n",
    "plt.legend(loc=4,numpoints=1)\n",
    "\n",
    "double_arrowY(plt, 2.5, 0, 2.5, 2)\n",
    "#double_arrowY(plt, 11.5, 0, 11.5, 2)\n",
    "double_arrowX(plt, 8, 1, 10.5, 1)\n",
    "plt.text(3,0.4,'Throughput gain',  bbox=dict(facecolor='white', edgecolor='black', pad=6.0))\n",
    "#plt.text(12,1.65,'Throughput gain',  bbox=dict(facecolor='white', edgecolor='black', pad=10.0))\n",
    "plt.text(7,1.15,'SNR gain',  bbox=dict(facecolor='white', edgecolor='black', pad=6.0))\n",
    "\n",
    "plt.xlabel('$\\gamma_{HSI}$ [dB]')\n",
    "plt.ylabel('Throughput [bits/channel use]')\n",
    "plt.xticks(np.linspace(0,20,21))\n",
    "plt.yticks(np.linspace(0,2,11))\n",
    "plt.grid()\n",
    "#plt.title('Throughput for '+mapping+' mapping and Fixed $\\gamma_{MAC}$='+str(SNR_MAC[0])+'dB and $\\gamma_{BC}$='+str(SNR_BC[0])+'dB',y=1.02)\n",
    "plt.ylim([-0.05,2+0.05])\n",
    "plt.savefig('Throughput_HSI_'+mapping+'_MAC'+str(20)+'_BC'+str(20)+'_N'+str(sum(pairs[0]))+'.eps',bbox_inches='tight')\n",
    "plt.show()"
   ]
  },
  {
   "cell_type": "markdown",
   "metadata": {},
   "source": [
    "#### Data Collected from the HW Demonstrator - SNR_MAC=20, SNR_BC=16"
   ]
  },
  {
   "cell_type": "code",
   "execution_count": 52,
   "metadata": {
    "collapsed": false
   },
   "outputs": [
    {
     "data": {
      "image/png": "[encoded data removed]",
      "text/plain": [
       "<matplotlib.figure.Figure at 0xaee81aec>"
      ]
     },
     "metadata": {},
     "output_type": "display_data"
    }
   ],
   "source": [
    "#line2_20_16 = line2\n",
    "line_20_16= eval_LB([20], [16]) #Analytical lower bound\n",
    "\n",
    "line2_20_16 = np.array([np.array([  0.00000000e+00,   0.00000000e+00,   0.00000000e+00,\n",
    "         0.00000000e+00,   0.00000000e+00,   0.00000000e+00,\n",
    "         0.00000000e+00,   0.00000000e+00,   2.00000000e-04,\n",
    "         4.70000000e-02,   6.12000000e-01,   1.48320000e+00,\n",
    "         1.90160000e+00,   1.98300000e+00,   1.99940000e+00,\n",
    "         2.00000000e+00,   2.00000000e+00,   2.00000000e+00,\n",
    "         2.00000000e+00,   2.00000000e+00,   2.00000000e+00]), np.array([ 0.    ,  0.    ,  0.    ,  0.    ,  0.    ,  0.    ,  0.0222,\n",
    "        0.287 ,  0.9748,  1.4952,  1.6578,  1.704 ,  1.7128,  1.7098,\n",
    "        1.7094,  1.7194,  1.725 ,  1.7058,  1.7046,  1.7022,  1.7198]), np.array([ 0.121 ,  0.127 ,  0.1214,  0.1284,  0.1356,  0.115 ,  0.1316,\n",
    "        0.1248,  0.1286,  0.1312,  0.1264,  0.1232,  0.1312,  0.127 ,\n",
    "        0.1248,  0.127 ,  0.132 ,  0.1232,  0.1312,  0.1296,  0.1244])]\n",
    ")\n",
    "\n",
    "\n",
    "Nb1Ns1_real = np.array([[  0.   ,   0.   ],\n",
    "       [  1.   ,   0.   ],\n",
    "       [  2.   ,   0.   ],\n",
    "       [  3.   ,   0.   ],\n",
    "       [  4.   ,   0.   ],\n",
    "       [  5.   ,   0.   ],\n",
    "       [  6.   ,   0.   ],\n",
    "       [  7.   ,   0.14 ],\n",
    "       [  8.   ,   0.76 ],\n",
    "       [  9.   ,   1.484],\n",
    "       [ 10.   ,   1.644],\n",
    "       [ 11.   ,   1.688],\n",
    "       [ 12.   ,   1.7256],\n",
    "       [ 20.   ,   1.724]])\n",
    "\n",
    "Nb2Ns0_real = np.array([[  0.   ,   0.   ],\n",
    "       [  2.   ,   0.   ],\n",
    "       [  4.   ,   0.   ],\n",
    "       [  6.   ,   0.   ],\n",
    "       [  7.   ,   0.   ],\n",
    "       [  8.   ,   0.   ],\n",
    "       [  9.   ,   0.02 ],\n",
    "       [ 10.   ,   0.5  ],\n",
    "       [ 11.   ,   1.496],\n",
    "       [ 11.5   ,   1.76 ],\n",
    "       [ 12.   ,   1.872],\n",
    "       [ 12.5   ,   1.952],\n",
    "       [ 13.   ,   1.988],\n",
    "       [ 14.   ,   2.   ],\n",
    "       [ 16.   ,   2.   ],\n",
    "       [ 18.   ,   2.   ],\n",
    "       [ 20.   ,   2.   ]])\n",
    "\n",
    "Nb0Ns2_real = np.array([[  0.  ,   0.0945454545455],\n",
    "                        [20.,   0.0945454545455]])\n",
    "#Nb0Ns2_real = np.array([[  0.  ,   0.06],\n",
    "#       [  2.  ,   0.04],\n",
    "#       [  4.  ,   0.02],\n",
    "#       [  6.  ,   0.02],\n",
    "#       [  8.  ,   0.  ],\n",
    "#       [ 12.  ,   0.  ],\n",
    "#       [ 14.  ,   0.  ],\n",
    "#       [ 18.  ,   0.  ],\n",
    "#       [ 20.  ,   0.06]])\n",
    "\n",
    "\n",
    "plt.figure(figsize=(6,4))\n",
    "colors = ['red', 'green', 'blue']\n",
    "for i in range(len(pairs)):\n",
    "  (Ns,Nb) = pairs[i]\n",
    "  plt.plot(SNR_HSI, 2*line_20_16[i],color=colors[i],linestyle='-',label='$T_{\\mathrm{LB}}$ - ('+str(Nb)+', '+str(Ns)+')')\n",
    "  plt.plot(SNR_HSI, line2_20_16[i],color=colors[i],linestyle='--',lw=2,label='$T_{\\mathrm{sim}}$ - ('+str(Nb)+', '+str(Ns)+')')\n",
    "plt.plot(SNR_HSI, np.zeros(len(SNR_HSI)), linestyle='-', color='cyan', label='$T_{\\mathrm{ref}}$ - QPSK')    \n",
    "plt.plot(Nb1Ns1_real[:,0],Nb1Ns1_real[:,1], 'gh:',ms=5,lw=3, label='$T_{\\mathrm{USRP}}$ - (1,1)')\n",
    "plt.plot(Nb2Ns0_real[:,0],Nb2Ns0_real[:,1], 'rs:',ms=5,lw=3, label='$T_{\\mathrm{USRP}}$ - (2,0)')\n",
    "plt.plot(Nb0Ns2_real[:,0],Nb0Ns2_real[:,1], 'bo:',ms=5,lw=3, label='$T_{\\mathrm{USRP}}$ - (0,2)')\n",
    "\n",
    "\n",
    "\n",
    "#double_arrowY(plt, 14, 0, 14, 1.724)\n",
    "double_arrowX(plt, 8.3, 1, 10.5, 1)\n",
    "\n",
    "#plt.text(12,0.4,'Throughput gain',  bbox=dict(facecolor='white', edgecolor='black', pad=10.0))\n",
    "plt.text(9,0.8,'SNR gain',  bbox=dict(facecolor='white', edgecolor='black', pad=6.0))\n",
    "\n",
    "plt.legend(loc=2,numpoints=1)\n",
    "plt.xlabel('$\\gamma_{HSI}$ [dB]')\n",
    "plt.ylabel('Throughput [bits/channel use]')\n",
    "plt.xticks(np.linspace(0,20,21))\n",
    "plt.yticks(np.linspace(0,2,11))\n",
    "plt.grid()\n",
    "#plt.title('Throughput for '+mapping+' mapping and Fixed $\\gamma_{MAC}$='+str(SNR_MAC[0])+'dB and $\\gamma_{BC}$='+str(SNR_BC[0])+'dB',y=1.02)\n",
    "plt.ylim([-0.05,2+0.05])\n",
    "plt.savefig('Throughput_HSI_'+mapping+'_MAC'+str(20)+'_BC'+str(16)+'_N'+str(sum(pairs[0]))+'.eps',bbox_inches='tight')\n",
    "plt.show()"
   ]
  },
  {
   "cell_type": "code",
   "execution_count": 54,
   "metadata": {
    "collapsed": false
   },
   "outputs": [
    {
     "data": {
      "image/png": "[encoded data removed]",
      "text/plain": [
       "<matplotlib.figure.Figure at 0xafefd20c>"
      ]
     },
     "metadata": {},
     "output_type": "display_data"
    }
   ],
   "source": [
    "#line2_16_20 = line2\n",
    "\n",
    "line_16_20= eval_LB([16], [20]) #Analytical lower bound\n",
    "line2_16_20 = np.array([np.array([  0.00000000e+00,   0.00000000e+00,   0.00000000e+00,\n",
    "         0.00000000e+00,   0.00000000e+00,   0.00000000e+00,\n",
    "         0.00000000e+00,   0.00000000e+00,   2.00000000e-04,\n",
    "         4.70000000e-02,   6.12000000e-01,   1.48320000e+00,\n",
    "         1.90160000e+00,   1.98300000e+00,   1.99940000e+00,\n",
    "         2.00000000e+00,   2.00000000e+00,   2.00000000e+00,\n",
    "         2.00000000e+00,   2.00000000e+00,   2.00000000e+00]), np.array([ 0.    ,  0.    ,  0.    ,  0.    ,  0.    ,  0.    ,  0.0254,\n",
    "        0.3172,  1.0868,  1.6658,  1.8702,  1.909 ,  1.913 ,  1.9124,\n",
    "        1.9138,  1.9128,  1.9168,  1.9136,  1.9096,  1.9172,  1.9174]), np.array([ 1.9204,  1.9136,  1.913 ,  1.9162,  1.9128,  1.9134,  1.921 ,\n",
    "        1.9166,  1.9162,  1.9188,  1.9204,  1.9168,  1.917 ,  1.9178,\n",
    "        1.9144,  1.9164,  1.9186,  1.916 ,  1.9146,  1.9176,  1.9208])]\n",
    ")\n",
    "\n",
    "# Plotting\n",
    "plt.figure(figsize=(6,4))\n",
    "colors = ['red', 'green', 'blue','magenta']\n",
    "for i in range(len(pairs)):\n",
    "  (Ns,Nb) = pairs[i]\n",
    "  plt.plot(SNR_HSI, 2*line_16_20[i],color=colors[i],linestyle='-',label='$T_{\\mathrm{LB}}$ - ('+str(Nb)+', '+str(Ns)+')')\n",
    "  plt.plot(SNR_HSI, line2_16_20[i],color=colors[i],linestyle='--',lw=2,label='$T_{\\mathrm{sim}}$ - ('+str(Nb)+', '+str(Ns)+')')\n",
    "plt.plot(SNR_HSI, np.zeros(len(SNR_HSI)), linestyle='-', color='cyan', label='$T_{\\mathrm{ref}}$ - QPSK')\n",
    "plt.legend(loc=4)\n",
    "plt.xlabel('$\\gamma_{HSI}$ [dB]')\n",
    "plt.ylabel('Throughput [bits/channel use]')\n",
    "plt.xticks(np.linspace(0,20,21))\n",
    "plt.yticks(np.linspace(0,2,11))\n",
    "plt.grid()\n",
    "double_arrowY(plt, 2.5, 0, 2.5, 1.915)\n",
    "#double_arrowY(plt, 13.5, 0, 13.5, 1.915)\n",
    "double_arrowX(plt, 8, 1, 10.5, 1)\n",
    "plt.text(3,0.4,'Throughput gain',  bbox=dict(facecolor='white', edgecolor='black', pad=6.0))\n",
    "#plt.text(14,1.65,'Throughput gain',  bbox=dict(facecolor='white', edgecolor='black', pad=10.0))\n",
    "plt.text(7,1.15,'SNR gain',  bbox=dict(facecolor='white', edgecolor='black', pad=6.0))\n",
    "\n",
    "#plt.title('Throughput for '+mapping+' mapping and Fixed $\\gamma_{MAC}$='+str(SNR_MAC[0])+'dB and $\\gamma_{BC}$='+str(SNR_BC[0])+'dB',y=1.02)\n",
    "plt.ylim([-0.05,2+0.05])\n",
    "plt.savefig('Throughput_HSI_'+mapping+'_MAC'+str(16)+'_BC'+str(20)+'_N'+str(sum(pairs[0]))+'.eps',bbox_inches='tight')\n",
    "plt.show()"
   ]
  },
  {
   "cell_type": "code",
   "execution_count": 53,
   "metadata": {
    "collapsed": false
   },
   "outputs": [
    {
     "data": {
      "image/png": "[encoded data removed]",
      "text/plain": [
       "<matplotlib.figure.Figure at 0xafd9a06c>"
      ]
     },
     "metadata": {},
     "output_type": "display_data"
    }
   ],
   "source": [
    "#line2_17_17 = line2\n",
    "line_17_17= eval_LB([17], [17]) #Analytical lower bound\n",
    "line2_17_17 = np.array([np.array([  0.00000000e+00,   0.00000000e+00,   0.00000000e+00,\n",
    "          0.00000000e+00,   0.00000000e+00,   0.00000000e+00,\n",
    "          0.00000000e+00,   0.00000000e+00,   2.00000000e-04,\n",
    "          4.70000000e-02,   6.12000000e-01,   1.48320000e+00,\n",
    "          1.90160000e+00,   1.98300000e+00,   1.99940000e+00,\n",
    "          2.00000000e+00,   2.00000000e+00,   2.00000000e+00,\n",
    "          2.00000000e+00,   2.00000000e+00,   2.00000000e+00]),\n",
    " np.array([ 0.    ,  0.    ,  0.    ,  0.    ,  0.    ,  0.    ,  0.0252,\n",
    "         0.3226,  1.1052,  1.6858,  1.8892,  1.9296,  1.936 ,  1.9412,\n",
    "         1.9402,  1.944 ,  1.943 ,  1.936 ,  1.9352,  1.9344,  1.937 ]),\n",
    " np.array([ 0.8188,  0.819 ,  0.8022,  0.8118,  0.8204, 0.8204,  0.8304,\n",
    "         0.819 ,  0.823 ,  0.8342,  0.8036,  0.825 ,  0.8152,  0.8084,\n",
    "         0.8188,  0.8128,  0.83  ,  0.8146,  0.8362,  0.828 ,  0.822 ])])\n",
    "\n",
    "# Plotting\n",
    "plt.figure(figsize=(6,4))\n",
    "colors = ['red', 'green', 'blue','magenta']\n",
    "for i in range(len(pairs)):\n",
    "  (Ns,Nb) = pairs[i]\n",
    "  plt.plot(SNR_HSI, 2*line_17_17[i],color=colors[i],linestyle='-',label='$T_{\\mathrm{LB}}$ - ('+str(Nb)+', '+str(Ns)+')')\n",
    "  plt.plot(SNR_HSI, line2_17_17[i],color=colors[i],linestyle='--',lw=2,label='$T_{\\mathrm{sim}}$ - ('+str(Nb)+', '+str(Ns)+')')\n",
    "plt.plot(SNR_HSI, np.zeros(len(SNR_HSI)), linestyle='-', color='cyan', label='$T_{\\mathrm{ref}}$ - QPSK')\n",
    "plt.legend(loc=4)\n",
    "plt.xlabel('$\\gamma_{HSI}$ [dB]')\n",
    "plt.ylabel('Throughput [bits/channel use]')\n",
    "plt.xticks(np.linspace(0,20,21))\n",
    "plt.yticks(np.linspace(0,2,11))\n",
    "plt.grid()\n",
    "double_arrowY(plt, 2.5, 0, 2.5, 0.8)\n",
    "#double_arrowY(plt, 11.5, 0, 11.5, 1.92)\n",
    "double_arrowX(plt, 8, 1, 10.5, 1)\n",
    "plt.text(3,0.4,'Throughput gain',  bbox=dict(facecolor='white', edgecolor='black', pad=6.0))\n",
    "#plt.text(12,1.65,'Throughput gain',  bbox=dict(facecolor='white', edgecolor='black', pad=10.0))\n",
    "plt.text(7,1.2,'SNR gain',  bbox=dict(facecolor='white', edgecolor='black', pad=6.0))\n",
    "\n",
    "#plt.title('Throughput for '+mapping+' mapping and Fixed $\\gamma_{MAC}$='+str(SNR_MAC[0])+'dB and $\\gamma_{BC}$='+str(SNR_BC[0])+'dB',y=1.02)\n",
    "plt.ylim([-0.05,2+0.05])\n",
    "plt.savefig('Throughput_HSI_'+mapping+'_MAC'+str(17)+'_BC'+str(17)+'_N'+str(sum(pairs[0]))+'.eps',bbox_inches='tight')\n",
    "plt.show()"
   ]
  },
  {
   "cell_type": "code",
   "execution_count": 24,
   "metadata": {
    "collapsed": false
   },
   "outputs": [
    {
     "name": "stdout",
     "output_type": "stream",
     "text": [
      "[array([  0.00000000e+00,   0.00000000e+00,   0.00000000e+00,\n",
      "         0.00000000e+00,   0.00000000e+00,   0.00000000e+00,\n",
      "         0.00000000e+00,   0.00000000e+00,   2.00000000e-04,\n",
      "         4.70000000e-02,   6.12000000e-01,   1.48320000e+00,\n",
      "         1.90160000e+00,   1.98300000e+00,   1.99940000e+00,\n",
      "         2.00000000e+00,   2.00000000e+00,   2.00000000e+00,\n",
      "         2.00000000e+00,   2.00000000e+00,   2.00000000e+00]), array([ 0.    ,  0.    ,  0.    ,  0.    ,  0.    ,  0.    ,  0.0254,\n",
      "        0.3172,  1.0868,  1.6658,  1.8702,  1.909 ,  1.913 ,  1.9124,\n",
      "        1.9138,  1.9128,  1.9168,  1.9136,  1.9096,  1.9172,  1.9174]), array([ 1.9204,  1.9136,  1.913 ,  1.9162,  1.9128,  1.9134,  1.921 ,\n",
      "        1.9166,  1.9162,  1.9188,  1.9204,  1.9168,  1.917 ,  1.9178,\n",
      "        1.9144,  1.9164,  1.9186,  1.916 ,  1.9146,  1.9176,  1.9208])]\n"
     ]
    }
   ],
   "source": [
    "print line2\n",
    "line2_16_20 = np.array([np.array([  0.00000000e+00,   0.00000000e+00,   0.00000000e+00,\n",
    "         0.00000000e+00,   0.00000000e+00,   0.00000000e+00,\n",
    "         0.00000000e+00,   0.00000000e+00,   2.00000000e-04,\n",
    "         4.70000000e-02,   6.12000000e-01,   1.48320000e+00,\n",
    "         1.90160000e+00,   1.98300000e+00,   1.99940000e+00,\n",
    "         2.00000000e+00,   2.00000000e+00,   2.00000000e+00,\n",
    "         2.00000000e+00,   2.00000000e+00,   2.00000000e+00]), np.array([ 0.    ,  0.    ,  0.    ,  0.    ,  0.    ,  0.    ,  0.0254,\n",
    "        0.3172,  1.0868,  1.6658,  1.8702,  1.909 ,  1.913 ,  1.9124,\n",
    "        1.9138,  1.9128,  1.9168,  1.9136,  1.9096,  1.9172,  1.9174]), np.array([ 1.9204,  1.9136,  1.913 ,  1.9162,  1.9128,  1.9134,  1.921 ,\n",
    "        1.9166,  1.9162,  1.9188,  1.9204,  1.9168,  1.917 ,  1.9178,\n",
    "        1.9144,  1.9164,  1.9186,  1.916 ,  1.9146,  1.9176,  1.9208])]\n",
    ")"
   ]
  },
  {
   "cell_type": "code",
   "execution_count": 7,
   "metadata": {
    "collapsed": false
   },
   "outputs": [
    {
     "data": {
      "text/plain": [
       "array([-0.66666667-0.66666667j, -0.66666667+0.66666667j,\n",
       "        0.66666667-0.66666667j,  0.66666667+0.66666667j])"
      ]
     },
     "execution_count": 7,
     "metadata": {},
     "output_type": "execute_result"
    }
   ],
   "source": [
    "basic_part"
   ]
  },
  {
   "cell_type": "code",
   "execution_count": 5,
   "metadata": {
    "collapsed": false
   },
   "outputs": [
    {
     "name": "stdout",
     "output_type": "stream",
     "text": [
      "0 1 4.0 inf 2.0000000001\n",
      "0 2 0.8 inf 0.4\n",
      "0 3 0.1904761904 inf 0.0952380952\n",
      "0 4 0.0470588235 inf 0.0235294117\n",
      "1 0 4.0 4.0 4.0\n",
      "1 1 0.8 3.2 0.6666666666\n",
      "1 2 0.1904761904 3.0476190473 0.1538461538\n",
      "1 3 0.0470588235 3.0117647061 0.037735849\n",
      "2 0 2.0000000001 2.0000000001 2.0000000001\n",
      "2 1 0.4444444444 1.777777778 0.4\n",
      "2 2 0.1081081081 1.7297297296 0.0952380952\n",
      "2 3 0.0268456376 1.7181208053 0.0235294117\n",
      "3 0 0.3636363636 0.3636363636 0.6666666666\n",
      "3 1 0.0888888889 0.3555555556 0.1538461538\n",
      "3 2 0.0220994475 0.3535911602 0.037735849\n",
      "4 0 0.2 0.2 0.4\n",
      "4 1 0.049382716 0.1975308642 0.0952380952\n",
      "4 2 0.0123076923 0.1969230769 0.0235294117\n",
      "5 0 0.0396039604 0.0396039604 0.1538461538\n",
      "5 1 0.0098765432 0.0395061728 0.037735849\n",
      "6 0 0.021978022 0.021978022 0.0952380952\n",
      "6 1 0.0054869684 0.0219478738 0.0235294117\n"
     ]
    },
    {
     "ename": "KeyboardInterrupt",
     "evalue": "",
     "output_type": "error",
     "traceback": [
      "\u001b[0;31m---------------------------------------------------------------------------\u001b[0m",
      "\u001b[0;31mKeyboardInterrupt\u001b[0m                         Traceback (most recent call last)",
      "\u001b[0;32m<ipython-input-5-6b816f0c0d05>\u001b[0m in \u001b[0;36m<module>\u001b[0;34m()\u001b[0m\n\u001b[1;32m      8\u001b[0m   \u001b[0mconstR\u001b[0m\u001b[0;34m,\u001b[0m \u001b[0malpha_BC\u001b[0m \u001b[0;34m=\u001b[0m \u001b[0mQAM\u001b[0m\u001b[0;34m(\u001b[0m\u001b[0mN\u001b[0m\u001b[0;34m)\u001b[0m\u001b[0;34m\u001b[0m\u001b[0m\n\u001b[1;32m      9\u001b[0m   \u001b[0;34m(\u001b[0m\u001b[0mk_BC\u001b[0m\u001b[0;34m,\u001b[0m \u001b[0mrho2_BC\u001b[0m\u001b[0;34m)\u001b[0m \u001b[0;34m=\u001b[0m \u001b[0meval_num_neigh\u001b[0m\u001b[0;34m(\u001b[0m\u001b[0mconstR\u001b[0m\u001b[0;34m,\u001b[0m \u001b[0malpha_BC\u001b[0m\u001b[0;34m)\u001b[0m \u001b[0;31m# BC min - dist\u001b[0m\u001b[0;34m\u001b[0m\u001b[0m\n\u001b[0;32m---> 10\u001b[0;31m   \u001b[0;34m(\u001b[0m\u001b[0mk_MAC\u001b[0m\u001b[0;34m,\u001b[0m \u001b[0mrho2_MAC\u001b[0m\u001b[0;34m)\u001b[0m \u001b[0;34m=\u001b[0m \u001b[0meval_num_neigh\u001b[0m\u001b[0;34m(\u001b[0m\u001b[0mrelay_const\u001b[0m\u001b[0;34m)\u001b[0m\u001b[0;34m\u001b[0m\u001b[0m\n\u001b[0m\u001b[1;32m     11\u001b[0m   \u001b[0;32mif\u001b[0m \u001b[0mNb\u001b[0m \u001b[0;34m>\u001b[0m \u001b[0;36m0\u001b[0m\u001b[0;34m:\u001b[0m\u001b[0;34m\u001b[0m\u001b[0m\n\u001b[1;32m     12\u001b[0m     \u001b[0;34m(\u001b[0m\u001b[0mk_HSI\u001b[0m\u001b[0;34m,\u001b[0m \u001b[0mrho2_HSI\u001b[0m\u001b[0;34m)\u001b[0m \u001b[0;34m=\u001b[0m \u001b[0meval_num_neigh\u001b[0m\u001b[0;34m(\u001b[0m\u001b[0mbasic_part\u001b[0m\u001b[0;34m)\u001b[0m\u001b[0;34m\u001b[0m\u001b[0m\n",
      "\u001b[0;32m/opt/doc/publ/EURASIP_2017/notebooks/lib/compare_QPSK.pyc\u001b[0m in \u001b[0;36meval_num_neigh\u001b[0;34m(const, alpha)\u001b[0m\n\u001b[1;32m     54\u001b[0m     \u001b[0mconstr_un\u001b[0m \u001b[0;34m=\u001b[0m \u001b[0mnp\u001b[0m\u001b[0;34m.\u001b[0m\u001b[0munique\u001b[0m\u001b[0;34m(\u001b[0m\u001b[0mnp\u001b[0m\u001b[0;34m.\u001b[0m\u001b[0mround\u001b[0m\u001b[0;34m(\u001b[0m\u001b[0mconstr\u001b[0m\u001b[0;34m,\u001b[0m\u001b[0;36m10\u001b[0m\u001b[0;34m)\u001b[0m\u001b[0;34m)\u001b[0m \u001b[0;31m# Unique constellation\u001b[0m\u001b[0;34m\u001b[0m\u001b[0m\n\u001b[1;32m     55\u001b[0m     dist = np.round(np.asarray([np.abs(constr_un[i] - constr_un[j])**2\\\n\u001b[0;32m---> 56\u001b[0;31m            for i in np.arange(0,len(constr_un)) for j in np.arange(0,len(constr_un)) if (i != j)]),10)\n\u001b[0m\u001b[1;32m     57\u001b[0m     \u001b[0;31m# Evaluation average number of nearest neighbours\u001b[0m\u001b[0;34m\u001b[0m\u001b[0;34m\u001b[0m\u001b[0m\n\u001b[1;32m     58\u001b[0m     \u001b[0mre_vals\u001b[0m \u001b[0;34m=\u001b[0m \u001b[0mnp\u001b[0m\u001b[0;34m.\u001b[0m\u001b[0munique\u001b[0m\u001b[0;34m(\u001b[0m\u001b[0mnp\u001b[0m\u001b[0;34m.\u001b[0m\u001b[0mreal\u001b[0m\u001b[0;34m(\u001b[0m\u001b[0mconstr_un\u001b[0m\u001b[0;34m)\u001b[0m\u001b[0;34m)\u001b[0m\u001b[0;34m\u001b[0m\u001b[0m\n",
      "\u001b[0;31mKeyboardInterrupt\u001b[0m: "
     ]
    }
   ],
   "source": [
    "N = 8\n",
    "tupples = np.asarray([(i,j) for i in range(0, N+1) for j in range(0, N-i+1) if i+2*j<=N])[1:]\n",
    "for i in range(len(tupples)):\n",
    "  Nb = tupples[i][0]\n",
    "  Ns = tupples[i][1]\n",
    "  (sourceA_const, sourceB_const, basic_part, relay_const, alpha) = const_design_XOR(Nb, Ns, h = 1)\n",
    "  N = Nb + 2 * Ns\n",
    "  constR, alpha_BC = QAM(N)\n",
    "  (k_BC, rho2_BC) = eval_num_neigh(constR, alpha_BC) # BC min - dist\n",
    "  (k_MAC, rho2_MAC) = eval_num_neigh(relay_const)\n",
    "  if Nb > 0:\n",
    "    (k_HSI, rho2_HSI) = eval_num_neigh(basic_part)\n",
    "  else: \n",
    "    rho2_HSI=np.inf\n",
    "  \n",
    "  print Nb,Ns, rho2_MAC, rho2_HSI, rho2_BC"
   ]
  },
  {
   "cell_type": "code",
   "execution_count": 6,
   "metadata": {
    "collapsed": false
   },
   "outputs": [
    {
     "ename": "ImportError",
     "evalue": "No module named capacity_eval",
     "output_type": "error",
     "traceback": [
      "\u001b[0;31m---------------------------------------------------------------------------\u001b[0m",
      "\u001b[0;31mImportError\u001b[0m                               Traceback (most recent call last)",
      "\u001b[0;32m<ipython-input-6-b2b51cf596ea>\u001b[0m in \u001b[0;36m<module>\u001b[0;34m()\u001b[0m\n\u001b[1;32m      1\u001b[0m \u001b[0;32mfrom\u001b[0m \u001b[0mscipy\u001b[0m\u001b[0;34m.\u001b[0m\u001b[0moptimize\u001b[0m \u001b[0;32mimport\u001b[0m \u001b[0mlinprog\u001b[0m\u001b[0;34m\u001b[0m\u001b[0m\n\u001b[0;32m----> 2\u001b[0;31m \u001b[0;32mfrom\u001b[0m \u001b[0mcapacity_eval\u001b[0m \u001b[0;32mimport\u001b[0m \u001b[0;34m*\u001b[0m\u001b[0;34m\u001b[0m\u001b[0m\n\u001b[0m\u001b[1;32m      3\u001b[0m \u001b[0;34m\u001b[0m\u001b[0m\n\u001b[1;32m      4\u001b[0m \u001b[0mNb\u001b[0m \u001b[0;34m=\u001b[0m \u001b[0;36m2\u001b[0m\u001b[0;34m\u001b[0m\u001b[0m\n\u001b[1;32m      5\u001b[0m \u001b[0mNs\u001b[0m \u001b[0;34m=\u001b[0m \u001b[0;36m1\u001b[0m\u001b[0;34m\u001b[0m\u001b[0m\n",
      "\u001b[0;31mImportError\u001b[0m: No module named capacity_eval"
     ]
    }
   ],
   "source": [
    "from scipy.optimize import linprog\n",
    "from capacity_eval import *\n",
    "\n",
    "Nb = 2\n",
    "Ns = 1\n",
    "M = 1e4\n",
    "gMAC = 10\n",
    "gHSI = 4.7\n",
    "#gHSI = 5.5\n",
    "gBC = 11.3\n",
    "\n",
    "\n",
    "cBC = eval_cap_BC(Nb, Ns, gBC, M)\n",
    "cHSI = eval_cap_HSI(Nb, Ns, gHSI, M)\n",
    "#cMAC = eval_MAC_rand_phase(Nb, Ns, gMAC, M1 = 300, M2 = 300)\n",
    "\n",
    "cMAC = eval_MAC(Nb, Ns, gMAC, M)\n",
    "#cMAC = np.array( [3.16984004,  2.5764985 ,  2.57675782,  1.51168887,  0.75597148,  0.75571739,  1.98341627])\n",
    "#cBC = 3.4487448266329639\n",
    "#cHSI = 1.613597068410328\n",
    "r3 = cMAC[0]\n",
    "r2As = cMAC[1]\n",
    "r2Bs = cMAC[2]\n",
    "r2b = cMAC[3]\n",
    "r1As = cMAC[4]\n",
    "r1Bs = cMAC[5]\n",
    "r1b = cMAC[6]\n",
    "\n",
    "Rbs = np.array([r2As,r2Bs]).min()\n",
    "Rbss = np.array([r3, cBC]).min()\n",
    "Rs = np.array([r1As, r1Bs]).min()\n",
    "Rb = np.array([r1b, cHSI]).min()\n",
    "Rs2 = r2b/2\n",
    "\n",
    "\n",
    "\n",
    "\n",
    "c = [-1, -1]\n",
    "A = [[2, 1], [1, 1], [1,0], [0,1]]\n",
    "\n",
    "b = [Rbss, Rbs, Rs, Rb]\n",
    "x0_bounds = (0, None)\n",
    "x1_bounds = (0, None)\n",
    "res = linprog(c, A_ub=A, b_ub=b, bounds=(x0_bounds, x1_bounds))\n",
    "plt.figure()\n",
    "plt.plot([0,r3/2.],[r3, 0],'k--', lw=2, label='MAC - Third Order')\n",
    "plt.plot([0,r2As],[r2As, 0],'k-.', lw=2, label='MAC - Second Order')\n",
    "plt.plot([Rs, Rs],[0, r1b],'k-', lw=2, label='MAC - First Order')\n",
    "#plt.plot([Rs2, Rs2],[0, r1b],'r--', lw=2, label='MAC - First Order 2')\n",
    "plt.plot([0,Rs],[r1b, r1b],'k-', lw=2)\n",
    "plt.plot([0,Rs],[cHSI,cHSI],'r-', lw=2, label='HSI')\n",
    "plt.plot([0,cBC/2.],[cBC, 0],'m--', lw=2, label='BC - $2^{N_R}$-QAM')\n",
    "\n",
    "\n",
    "plt.plot([res.items()[4][1][0]],[res.items()[4][1][1]],'mo', ms=15, label='Maximum $r_b+r_s$')\n",
    "#plt.plot([0.66],[1.5],'mx', ms=15,lw=5, label='Achived performance - LDPC')\n",
    "#plt.plot([0.71],[1.5],'b+', ms=15,lw=5, label='Achived performance - Turbo')\n",
    "\n",
    "plt.legend(numpoints=1)\n",
    "plt.xlabel('$r_s$')\n",
    "plt.ylabel('$r_b$') \n",
    "plt.title('Rate region for ($N_b,N_s$)=('+str(Nb)+','+str(Ns)+'), $\\gamma_{MAC=}$'+str(gMAC)+'dB, $\\gamma_{HSI=}$'+str(gHSI)+'dB, $\\gamma_{BC}$='+str(gBC)+'dB')\n",
    "plt.savefig('Rate_Regions_XOR_map_BC'+str(gBC)+'_MAC'+str(gMAC)+'_HSI'+str(gHSI)+'.eps')\n",
    "plt.show()"
   ]
  },
  {
   "cell_type": "code",
   "execution_count": 130,
   "metadata": {
    "collapsed": false
   },
   "outputs": [],
   "source": [
    "from scipy.optimize import linprog\n",
    "from capacity_eval import *\n",
    "\n",
    "Nb = 2\n",
    "Ns = 1\n",
    "M = 1e4\n",
    "gMAC = 7.5\n",
    "gHSI = 10\n",
    "#gHSI = 5.5\n",
    "gBC = 10\n",
    "\n",
    "\n",
    "cBC = eval_cap_BC(Nb, Ns, gBC, M)\n",
    "cHSI = eval_cap_HSI(Nb, Ns, gHSI, M)\n",
    "#cMAC = eval_MAC_rand_phase(Nb, Ns, gMAC, M1 = 300, M2 = 300)\n",
    "\n",
    "cMAC = eval_MAC(Nb, Ns, gMAC, M)\n",
    "#cMAC = np.array( [3.16984004,  2.5764985 ,  2.57675782,  1.51168887,  0.75597148,  0.75571739,  1.98341627])\n",
    "#cBC = 3.4487448266329639\n",
    "#cHSI = 1.613597068410328\n",
    "r3 = cMAC[0]\n",
    "r2As = cMAC[1]\n",
    "r2Bs = cMAC[2]\n",
    "r2b = cMAC[3]\n",
    "r1As = cMAC[4]\n",
    "r1Bs = cMAC[5]\n",
    "r1b = cMAC[6]\n",
    "\n",
    "Rbs = np.array([r2As,r2Bs]).min()\n",
    "Rbss = np.array([r3, cBC]).min()\n",
    "Rs = np.array([r1As, r1Bs]).min()\n",
    "Rb = np.array([r1b, cHSI]).min()\n",
    "Rs2 = r2b/2\n",
    "\n",
    "\n",
    "\n",
    "\n",
    "c = [-1, -1]\n",
    "A = [[2, 1], [1, 1], [1,0], [0,1]]\n",
    "\n",
    "b = [Rbss, Rbs, Rs, Rb]\n",
    "x0_bounds = (0, None)\n",
    "x1_bounds = (0, None)\n",
    "resX = linprog(c, A_ub=A, b_ub=b, bounds=(x0_bounds, x1_bounds))\n",
    "plt.figure()\n",
    "plt.plot([0,r3/2.],[r3, 0],'k--', lw=2, label='MAC - Third Order')\n",
    "plt.plot([0,r2As],[r2As, 0],'k-.', lw=2, label='MAC - Second Order')\n",
    "plt.plot([Rs, Rs],[0, np.array([r3, cBC]).max()],'k:', lw=2, label='MAC - First Order')\n",
    "plt.plot([0,Rbss],[r1b,r1b],'k:', lw=2)\n",
    "plt.plot([0,Rbss],[cHSI,cHSI],'r-', lw=2, label='HSI')\n",
    "plt.plot([0,cBC/2.],[cBC, 0],'m--', lw=2, label='BC - (conv. $2^{N_R}$-QAM)')\n",
    "\n",
    "\n",
    "plt.plot([resX.items()[4][1][0]],[resX.items()[4][1][1]],'mo', ms=15, label='Maximum $r_b+r_s$')\n",
    "#plt.plot([0.66],[1.5],'mx', ms=15,lw=5, label='Achived performance - LDPC')\n",
    "#plt.plot([0.71],[1.5],'b+', ms=15,lw=5, label='Achived performance - Turbo')\n",
    "\n",
    "plt.legend(numpoints=1)\n",
    "plt.xlabel('$r_s$')\n",
    "plt.ylabel('$r_b$') \n",
    "#plt.title('Rate region for ($N_b,N_s$)=('+str(Nb)+','+str(Ns)+'), $\\gamma_{MAC=}$'+str(gMAC)+'dB, $\\gamma_{HSI=}$'+str(gHSI)+'dB, $\\gamma_{BC}$='+str(gBC)+'dB')\n",
    "plt.savefig('Rate_Regions_XOR_map_BC'+str(gBC)+'_MAC'+str(gMAC)+'_HSI'+str(gHSI)+'.eps')\n",
    "plt.show()"
   ]
  },
  {
   "cell_type": "markdown",
   "metadata": {},
   "source": [
    "#### CUT-SET Bound rate adjustments"
   ]
  },
  {
   "cell_type": "code",
   "execution_count": 75,
   "metadata": {
    "collapsed": false
   },
   "outputs": [],
   "source": [
    "from scipy.optimize import linprog\n",
    "from capacity_eval import *\n",
    "\n",
    "Nb = 2\n",
    "Ns = 1\n",
    "M = 1e4\n",
    "gMAC = 10\n",
    "gHSI = 4.7\n",
    "#gHSI = 5.5\n",
    "gBC = 11.3\n",
    "\n",
    "Nb = 2\n",
    "Ns = 1\n",
    "M = 1e4\n",
    "gMAC = 5\n",
    "gHSI = 0\n",
    "#gHSI = 5.5\n",
    "gBC = 5\n",
    "\n",
    "cBC = eval_cap_BC(Nb, Ns, gBC, M)\n",
    "cHSI = eval_cap_HSI(Nb, Ns, gHSI, M)\n",
    "#cMAC = eval_MAC_rand_phase(Nb, Ns, gMAC, M1 = 300, M2 = 300)\n",
    "\n",
    "cMAC = eval_MAC(Nb, Ns, gMAC, M)\n",
    "#cMAC = np.array( [3.16984004,  2.5764985 ,  2.57675782,  1.51168887,  0.75597148,  0.75571739,  1.98341627])\n",
    "#cBC = 3.4487448266329639\n",
    "#cHSI = 1.613597068410328\n",
    "r3 = cMAC[0]\n",
    "r2As = cMAC[1]\n",
    "r2Bs = cMAC[2]\n",
    "r2b = cMAC[3]\n",
    "r1As = cMAC[4]\n",
    "r1Bs = cMAC[5]\n",
    "r1b = cMAC[6]\n",
    "\n",
    "Rbs = np.array([r2As,r2Bs]).min()\n",
    "Rbss = np.array([r3, cBC]).min()\n",
    "Rs = np.array([r1As, r1Bs]).min()\n",
    "Rb = np.array([r1b, cHSI]).min()\n",
    "Rs2 = r2b/2\n",
    "\n",
    "xmax = Rbss\n",
    "ymax = Rbss\n",
    "\n",
    "p1 = np.max([0,(Rbss-Rb)/2.])\n",
    "p2 = np.max([0,Rbss-2*Rs])\n",
    "\n",
    "c = [-1, -1]\n",
    "A = [[2, 1], [1, 1], [1,0], [0,1]]\n",
    "\n",
    "b = [Rbss, Rbs, Rs, Rb]\n",
    "x0_bounds = (0, None)\n",
    "x1_bounds = (0, None)\n",
    "resX = linprog(c, A_ub=A, b_ub=b, bounds=(x0_bounds, x1_bounds))\n",
    "ax = plt.figure(figsize=(10,10))\n",
    "\n",
    "#plt.fill([0,0,p1,np.min([Rbss/2,Rs]),np.min([Rbss/2,Rs])],[0,np.min([Rb, Rbss]),np.min([Rb, Rbss]),p2,0], fill='True', color='#ddddff')\n",
    "plt.fill([0,np.min([Rbss/2,Rs]),np.min([Rbss/2,Rs]),0],[0,0,np.min([Rb, Rbss]),np.min([Rb, Rbss])], fill='True', color='#ddddff')\n",
    "plt.plot([0,r3/2.],[r3, 0],'k--', lw=2, label='MAC - Third Order')\n",
    "plt.plot([0,r2As],[r2As, 0],'k-.', lw=2, label='MAC - Second Order')\n",
    "plt.plot([Rs, Rs],[0, ymax],'k:', lw=2, label='MAC - First Order')\n",
    "#plt.plot([Rs2, Rs2],[0, r1b],'r--', lw=2, label='MAC - First Order 2')\n",
    "plt.plot([0,xmax],[cHSI,cHSI],'r-', lw=2, label='HSI')\n",
    "plt.plot([0,xmax],[r1b, r1b],'k:', lw=2)\n",
    "plt.plot([0,cBC/2.],[cBC, 0],'m-', lw=2, label='BC - $2^{N_R}$-QAM')\n",
    "#plt.add_patch(Polygon([[0,0],[4,1.1],[6,2.5],[2,1.4]], closed=True, fill=False, hatch='/'))\n",
    "\n",
    "\n",
    "plt.plot([resX.items()[4][1][0]],[resX.items()[4][1][1]],'kx',mew=5, ms=15, label='Maximum $r_b+r_s$')\n",
    "#plt.plot([0.66],[1.5],'mo', ms=15,lw=5, label='Achieved performance - LDPC')\n",
    "plt.plot([0.34],[0.84],'mo', ms=15,lw=5, label='Achieved $r_b+r_s$') #  5  0  5\n",
    "#plt.plot([0.58],[1.8],'mo', ms=15,lw=5, label='Achieved $r_b+r_s$')  # 12  8 10 \n",
    "#plt.plot([0.71],[1.5],'b+', ms=15,lw=5, label='Achived performance - Turbo')\n",
    "\n",
    "plt.legend(numpoints=1)\n",
    "plt.xlabel('$r_s$', fontsize=18)\n",
    "plt.ylabel('$r_b$', fontsize=18)\n",
    "plt.xlim([0,xmax])\n",
    "plt.ylim([0,ymax])\n",
    "plt.title('$\\gamma_{MAC=}$'+str(gMAC)+'dB, $\\gamma_{HSI=}$'+str(gHSI)+'dB, $\\gamma_{BC}$='+str(gBC)+'dB', fontsize=16)\n",
    "plt.savefig('Rate_Regions_XOR_map_BC'+str(gBC)+'_MAC'+str(gMAC)+'_HSI'+str(gHSI)+'.eps', bbox_inches='tight')\n",
    "#plt.savefig('Rate_Regions_XOR_map_BC'+str(gBC)+'_MAC'+str(gMAC)+'_HSI'+str(gHSI)+'.eps')\n",
    "plt.show()"
   ]
  },
  {
   "cell_type": "code",
   "execution_count": 175,
   "metadata": {
    "collapsed": false
   },
   "outputs": [
    {
     "name": "stdout",
     "output_type": "stream",
     "text": [
      "  status: 0\n",
      "   slack: array([ 0.16454502,  0.38957251,  0.        ,  0.        ])\n",
      " success: True\n",
      "     fun: -1.2731988159720324\n",
      "       x: array([ 0.37250992,  0.90068889])\n",
      " message: 'Optimization terminated successfully.'\n",
      "     nit: 2\n"
     ]
    }
   ],
   "source": [
    "#import six\n",
    "#plt.fill([0,0,np.min([Rbss/2, Rs]),0],[0,np.min([Rb, Rbss]),0,0], fill='True', color='#eeeeff', hatch='\\\\')\n",
    "#plt.fill([0,0,Rs,np.min([Rbss/2,Rs])],[0,np.min([Rb, Rbss]),p2,0], fill='True', color='#ddddff')\n",
    "plt.fill([0,np.min([Rbss/2,Rs]),np.min([Rbss/2,Rs]),0],[0,0,np.min([Rb, Rbss]),np.min([Rb, Rbss])], fill='True', color='#ddddff')\n",
    "plt.show() \n",
    "print resX"
   ]
  },
  {
   "cell_type": "markdown",
   "metadata": {},
   "source": [
    "#### Drawing Coded adaptive MAC regions"
   ]
  },
  {
   "cell_type": "code",
   "execution_count": 6,
   "metadata": {
    "collapsed": false
   },
   "outputs": [],
   "source": [
    "run capacity_eval"
   ]
  },
  {
   "cell_type": "code",
   "execution_count": 7,
   "metadata": {
    "collapsed": false
   },
   "outputs": [
    {
     "name": "stdout",
     "output_type": "stream",
     "text": [
      "evaluating capacity for the pair (0, 1)\n",
      "BC completed\n",
      "HSI completed\n",
      "MAC completed\n",
      "evaluating capacity for the pair (0, 2)\n",
      "BC completed\n",
      "HSI completed\n",
      "MAC completed\n",
      "evaluating capacity for the pair (1, 0)\n",
      "BC completed\n",
      "HSI completed\n",
      "MAC completed\n",
      "evaluating capacity for the pair (1, 1)\n",
      "BC completed\n",
      "HSI completed\n",
      "MAC completed\n",
      "evaluating capacity for the pair (2, 0)\n",
      "BC completed\n",
      "HSI completed\n",
      "MAC completed\n",
      "evaluating capacity for the pair (2, 1)\n",
      "BC completed\n",
      "HSI completed\n",
      "MAC completed\n",
      "evaluating capacity for the pair (3, 0)\n",
      "BC completed\n",
      "HSI completed\n",
      "MAC completed\n",
      "evaluating capacity for the pair (4, 0)\n",
      "BC completed\n",
      "HSI completed\n",
      "MAC completed\n"
     ]
    }
   ],
   "source": [
    "SNR_MAC = np.linspace(-5,20,26)\n",
    "SNR_BC = np.array([7.5,15])\n",
    "SNR_HSI = np.linspace(-5,20,26)\n",
    "N = 4\n",
    "\n",
    "tuples = np.asarray([(i,j) for i in range(0, N+1) for j in range(0, N-i+1) if i+2*j<=N])[1:]\n",
    "ll = len(tuples)\n",
    "cap_BC = []\n",
    "cap_HSI = []\n",
    "cap_MAC = []\n",
    "for i in range(5):\n",
    "  (Nb, Ns) = tuples[i]\n",
    "  print 'evaluating capacity for the pair', (Nb, Ns)\n",
    "  cap_BC.append(Parallel(n_jobs=8)(delayed(eval_cap_BC)(Nb, Ns, SNR, M=1e4) for  SNR in SNR_BC))\n",
    "  print 'BC completed'\n",
    "  cap_HSI.append(Parallel(n_jobs=8)(delayed(eval_cap_HSI)(Nb, Ns, SNR, M=1e4) for  SNR in SNR_HSI))\n",
    "  print 'HSI completed'\n",
    "  cap_MAC.append(Parallel(n_jobs=8)(delayed(eval_MAC_ef)(Nb, Ns, SNR, M=1e4) for  SNR in SNR_MAC))\n",
    "  print 'MAC completed'\n",
    "\n",
    "for i in range(5,ll):\n",
    "  (Nb, Ns) = tuples[i]\n",
    "  print 'evaluating capacity for the pair', (Nb, Ns)\n",
    "  cap_BC.append(Parallel(n_jobs=8)(delayed(eval_cap_BC)(Nb, Ns, SNR, M=1e4) for  SNR in SNR_BC))\n",
    "  print 'BC completed'\n",
    "  cap_HSI.append(Parallel(n_jobs=8)(delayed(eval_cap_HSI)(Nb, Ns, SNR, M=1e4) for  SNR in SNR_HSI))\n",
    "  print 'HSI completed'\n",
    "  cap_MAC.append(Parallel(n_jobs=8)(delayed(eval_MAC_ef)(Nb, Ns, SNR, M=1e3) for  SNR in SNR_MAC))\n",
    "  print 'MAC completed'"
   ]
  },
  {
   "cell_type": "code",
   "execution_count": 8,
   "metadata": {
    "collapsed": false
   },
   "outputs": [],
   "source": [
    "N = len(tuples)\n",
    "res = (Parallel(n_jobs=8)(delayed(cap_inner_rb_rs)\\\n",
    "                          (i, np.asarray(cap_MAC), np.asarray(cap_BC), np.asarray(cap_HSI), N, SNR_MAC, SNR_BC, SNR_HSI)\\\n",
    "                          for i in range(len(SNR_MAC))))"
   ]
  },
  {
   "cell_type": "code",
   "execution_count": 9,
   "metadata": {
    "collapsed": false
   },
   "outputs": [
    {
     "name": "stdout",
     "output_type": "stream",
     "text": [
      "(26, 2, 26, 8, 2)\n",
      "(26, 2, 26) (26, 2, 26)\n",
      "(26, 2, 26)\n"
     ]
    }
   ],
   "source": [
    "ress = np.asarray(res)\n",
    "print np.shape(np.asarray(ress))\n",
    "\n",
    "adapt = np.max(ress[:,:,:,:,0]+ress[:,:,:,:,1],axis=3)\n",
    "args = np.argmax(ress[:,:,:,:,0]+ress[:,:,:,:,1],axis=3)\n",
    "print np.shape(adapt), np.shape(args)\n",
    "\n",
    "adapt_rB = np.asarray([ress[i, j, k, args[i,j,k],1] for i in range(26) for j in range(2) for k in range(26)]).reshape(26,2,26)\n",
    "adapt_rS = np.asarray([ress[i, j, k, args[i,j,k],0] for i in range(26) for j in range(2) for k in range(26)]).reshape(26,2,26)\n",
    "\n",
    "print adapt_rB.shape"
   ]
  },
  {
   "cell_type": "code",
   "execution_count": 13,
   "metadata": {
    "collapsed": false
   },
   "outputs": [
    {
     "name": "stderr",
     "output_type": "stream",
     "text": [
      "/usr/lib64/python2.7/site-packages/matplotlib/collections.py:650: FutureWarning: elementwise comparison failed; returning scalar instead, but in the future will perform elementwise comparison\n",
      "  if self._edgecolors_original != str('face'):\n",
      "/usr/lib64/python2.7/site-packages/matplotlib/collections.py:590: FutureWarning: elementwise comparison failed; returning scalar instead, but in the future will perform elementwise comparison\n",
      "  if self._edgecolors == str('face'):\n"
     ]
    }
   ],
   "source": [
    "plt.figure()\n",
    "ind = 0\n",
    "rb1 = adapt_rB[:,ind,:].transpose()\n",
    "rs1 = adapt_rS[:,ind,:].transpose()\n",
    "act = adapt[:,ind,:].transpose()#adapt_rB[:,0,:] + adapt_rS[:,1,:]\n",
    "\n",
    "plt.imshow(rb1[-1::-1,:],\\\n",
    "extent=[np.min(SNR_MAC), np.max(SNR_MAC), np.min(SNR_HSI),np.max(SNR_HSI)],vmin=0, vmax=4) # xmin, xmax, ymin, ymax\n",
    "plt.colorbar()\n",
    "plt.xlabel('$\\gamma_{MAC}$ [dB]',fontsize=16)\n",
    "plt.ylabel('$\\gamma_{HSI}$ [dB]',fontsize=16)\n",
    "plt.title('Basic Part, $\\gamma_{BC}='+str(SNR_BC[ind])+'dB$',fontsize=16)\n",
    "levels(plt,SNR_MAC, SNR_HSI, tuples, args[:,ind,:].transpose())\n",
    "plt.savefig('Adaptive_Maps_basic_BC_'+str(SNR_BC[ind])+'.eps',bbox_inches='tight')\n",
    "\n",
    "plt.figure()\n",
    "plt.imshow(rs1[-1::-1,:],\\\n",
    "extent=[np.min(SNR_MAC), np.max(SNR_MAC), np.min(SNR_HSI),np.max(SNR_HSI)],vmin=0, vmax=4) # xmin, xmax, ymin, ymax\n",
    "plt.colorbar()\n",
    "plt.xlabel('$\\gamma_{MAC}$ [dB]',fontsize=16)\n",
    "plt.ylabel('$\\gamma_{HSI}$ [dB]',fontsize=16)\n",
    "plt.title('Superposed Part, $\\gamma_{BC}='+str(SNR_BC[ind])+'dB$',fontsize=16)\n",
    "levels(plt,SNR_MAC, SNR_HSI, tuples,args[:,ind,:].transpose())\n",
    "plt.savefig('Adaptive_Maps_superposed_BC_'+str(SNR_BC[ind])+'.eps',bbox_inches='tight')\n",
    "\n",
    "plt.figure()\n",
    "plt.imshow(act[-1::-1,:],\\\n",
    "extent=[np.min(SNR_MAC), np.max(SNR_MAC), np.min(SNR_HSI),np.max(SNR_HSI)],vmin=0, vmax=4) # xmin, xmax, ymin, ymax\n",
    "plt.colorbar()\n",
    "plt.xlabel('$\\gamma_{MAC}$ [dB]',fontsize=16)\n",
    "plt.ylabel('$\\gamma_{HSI}$ [dB]',fontsize=16)\n",
    "plt.title('$\\gamma_{BC}='+str(SNR_BC[ind])+'dB$',fontsize=16)\n",
    "levels(plt,SNR_MAC, SNR_HSI, tuples, args[:,ind,:].transpose())\n",
    "plt.savefig('Adaptive_Maps_overall_BC_'+str(SNR_BC[ind])+'.eps',bbox_inches='tight')\n",
    "\n",
    "plt.show()"
   ]
  },
  {
   "cell_type": "code",
   "execution_count": 8,
   "metadata": {
    "collapsed": false
   },
   "outputs": [],
   "source": [
    "aa = [adapt[:,0,:].transpose(), adapt[:,1,:].transpose()]"
   ]
  },
  {
   "cell_type": "code",
   "execution_count": 12,
   "metadata": {
    "collapsed": false
   },
   "outputs": [],
   "source": [
    "def levels(plt,SNR_MAC, SNR_HSI, tuples, args):\n",
    "#  levs = [0,1,2,3,4,5,6]    \n",
    "  levs = [0,1,2,3,4,5,6,7,8,9,10,11,12,13,14]    \n",
    "  CS = plt.contour(args,len(levs),\\\n",
    "                levels=levs, colors='k',\\\n",
    "                extent=[np.min(SNR_MAC), np.max(SNR_MAC), np.min(SNR_HSI),np.max(SNR_HSI)])\n",
    "  zc = CS.collections\n",
    "  plt.setp(zc, linewidth=2)\n",
    "  for i in range(len(tuples)):\n",
    "    if len(np.nonzero(args == i)[0] > 0):        \n",
    "      x = np.nonzero(args== i)[1][0]\n",
    "      y = np.nonzero(args == i)[0][0]\n",
    "      Nb = tuples[i, 0]\n",
    "      Ns = tuples[i, 1]\n",
    "#    print Nb,Ns\n",
    "      s = \"\".join(('(',str(Nb),',',str(Ns),')'))\n",
    "      line = np.arange(np.min(SNR_MAC), np.max(SNR_MAC),(SNR_MAC[-1]-SNR_MAC[0])/len(SNR_MAC))\n",
    "    #plt.text(line[x],line[y],s,backgroundcolor='white')\n",
    "#      plt.text(SNR_MAC[x],SNR_HSI[y],s,backgroundcolor='white')\n",
    "  plt.text(2,10,'(2,0)',backgroundcolor='white')\n",
    "  plt.text(-3,-3,'(0,2)',backgroundcolor='white')\n",
    "  plt.text(10,-3,'(1,1)',backgroundcolor='white')\n",
    "  plt.text(12,3,'(2,1)',backgroundcolor='white')\n",
    "  plt.text(15,15,'(4,0)',backgroundcolor='white')\n",
    "  #plt.text(2,10,'(2,0)',backgroundcolor='white')\n"
   ]
  },
  {
   "cell_type": "code",
   "execution_count": 37,
   "metadata": {
    "collapsed": true
   },
   "outputs": [],
   "source": [
    "ind = 0 # SNR_BC = 7.5\n",
    "\n",
    "def levels(plt,SNR_MAC, SNR_HSI, tuples, args):\n",
    "#  levs = [0,1,2,3,4,5,6]\n",
    "  levs = [0,2,4,6]\n",
    "#  levs = [0,1,2,3,4,5,6,7,8,9,10,11,12,13,14]    \n",
    "  CS = plt.contour(args,len(levs),\\\n",
    "                levels=levs, colors='k',\\\n",
    "                extent=[np.min(SNR_MAC), np.max(SNR_MAC), np.min(SNR_HSI),np.max(SNR_HSI)])\n",
    "  zc = CS.collections\n",
    "  plt.setp(zc, linewidth=6)\n",
    "  for i in range(len(tuples)):\n",
    "    if len(np.nonzero(args == i)[0] > 0):        \n",
    "      x = np.nonzero(args== i)[1][0]\n",
    "      y = np.nonzero(args == i)[0][0]\n",
    "      Nb = tuples[i, 0]\n",
    "      Ns = tuples[i, 1]\n",
    "#    print Nb,Ns\n",
    "      s = \"\".join(('(',str(Nb),',',str(Ns),')'))\n",
    "      line = np.arange(np.min(SNR_MAC), np.max(SNR_MAC),(SNR_MAC[-1]-SNR_MAC[0])/len(SNR_MAC))\n",
    "    #plt.text(line[x],line[y],s,backgroundcolor='white')\n",
    "#      plt.text(SNR_MAC[x],SNR_HSI[y],s,backgroundcolor='white')\n",
    "  plt.text(2,10,'(2,0)',backgroundcolor='white')\n",
    "  plt.text(-3,-3,'(0,2)',backgroundcolor='white')\n",
    "  plt.text(10,-3,'(1,1)',backgroundcolor='white')\n",
    "  plt.text(12,3,'(2,1)',backgroundcolor='white')\n",
    "  plt.text(15,15,'(4,0)',backgroundcolor='white')\n",
    "  #plt.text(2,10,'(2,0)',backgroundcolor='white')\n",
    "\n",
    "plt.figure()\n",
    "plt.imshow(act[-1::-1,:],\\\n",
    "extent=[np.min(SNR_MAC), np.max(SNR_MAC), np.min(SNR_HSI),np.max(SNR_HSI)],vmin=0, vmax=4) # xmin, xmax, ymin, ymax\n",
    "plt.colorbar()\n",
    "plt.xlabel('$\\gamma_{MAC}$ [dB]',fontsize=16)\n",
    "plt.ylabel('$\\gamma_{HSI}$ [dB]',fontsize=16)\n",
    "plt.title('$\\gamma_{BC}='+str(SNR_BC[ind])+'dB$',fontsize=16)\n",
    "levels(plt,SNR_MAC, SNR_HSI, tuples, args[:,ind,:].transpose())\n",
    "plt.savefig('Adaptive_Maps_overall_BC_'+str(SNR_BC[ind])+'.eps',bbox_inches='tight')\n",
    "\n",
    "plt.show()"
   ]
  },
  {
   "cell_type": "code",
   "execution_count": 35,
   "metadata": {
    "collapsed": false
   },
   "outputs": [],
   "source": [
    "plt.imshow(args[-1::-1,0,:])\n",
    "plt.show()"
   ]
  },
  {
   "cell_type": "code",
   "execution_count": 30,
   "metadata": {
    "collapsed": false
   },
   "outputs": [
    {
     "data": {
      "text/plain": [
       "array([1, 3, 4, 5, 7])"
      ]
     },
     "execution_count": 30,
     "metadata": {},
     "output_type": "execute_result"
    }
   ],
   "source": [
    "np.unique(args)\n",
    "#args[249,0,100]"
   ]
  },
  {
   "cell_type": "code",
   "execution_count": 82,
   "metadata": {
    "collapsed": false
   },
   "outputs": [
    {
     "data": {
      "text/plain": [
       "[0.0, 1.9687658422846086]"
      ]
     },
     "execution_count": 82,
     "metadata": {},
     "output_type": "execute_result"
    }
   ],
   "source": [
    "[ress[200,0,200,7,0],ress[249,0,200,7,1]]"
   ]
  },
  {
   "cell_type": "code",
   "execution_count": 83,
   "metadata": {
    "collapsed": false
   },
   "outputs": [
    {
     "data": {
      "text/plain": [
       "[0.0, 1.9687658422846086]"
      ]
     },
     "execution_count": 83,
     "metadata": {},
     "output_type": "execute_result"
    }
   ],
   "source": [
    "[ress[200,0,200,5,0],ress[200,0,200,5,1]]"
   ]
  },
  {
   "cell_type": "code",
   "execution_count": 77,
   "metadata": {
    "collapsed": false
   },
   "outputs": [
    {
     "data": {
      "text/plain": [
       "1.8200481590096378"
      ]
     },
     "execution_count": 77,
     "metadata": {},
     "output_type": "execute_result"
    }
   ],
   "source": [
    "0.1487176832749707+1.6713304757346672"
   ]
  },
  {
   "cell_type": "code",
   "execution_count": 78,
   "metadata": {
    "collapsed": false
   },
   "outputs": [
    {
     "data": {
      "text/plain": [
       "7"
      ]
     },
     "execution_count": 78,
     "metadata": {},
     "output_type": "execute_result"
    }
   ],
   "source": [
    "np.argmax(ress[:,:,:,:,0]+ress[:,:,:,:,1],axis=3)[249,0,100]"
   ]
  },
  {
   "cell_type": "code",
   "execution_count": 96,
   "metadata": {
    "collapsed": false
   },
   "outputs": [],
   "source": [
    "#  f = open('ress.dat','w')\n",
    "#  pickle.dump(ress, f)\n",
    "#  f.close()"
   ]
  },
  {
   "cell_type": "code",
   "execution_count": 33,
   "metadata": {
    "collapsed": false
   },
   "outputs": [],
   "source": [
    "\n"
   ]
  },
  {
   "cell_type": "code",
   "execution_count": 54,
   "metadata": {
    "collapsed": false
   },
   "outputs": [],
   "source": []
  },
  {
   "cell_type": "code",
   "execution_count": 56,
   "metadata": {
    "collapsed": false
   },
   "outputs": [
    {
     "data": {
      "text/plain": [
       "(31, 31, 31, 15, 2)"
      ]
     },
     "execution_count": 56,
     "metadata": {},
     "output_type": "execute_result"
    }
   ],
   "source": [
    "np.shape(ress)"
   ]
  },
  {
   "cell_type": "code",
   "execution_count": 58,
   "metadata": {
    "collapsed": false
   },
   "outputs": [],
   "source": [
    "SNR_MAC = np.linspace(-5,20,250)\n",
    "SNR_BC = np.array([7.5,15])\n",
    "SNR_HSI = np.linspace(-5,20,250)"
   ]
  },
  {
   "cell_type": "code",
   "execution_count": 41,
   "metadata": {
    "collapsed": false
   },
   "outputs": [
    {
     "data": {
      "text/plain": [
       "(8, 250, 7)"
      ]
     },
     "execution_count": 41,
     "metadata": {},
     "output_type": "execute_result"
    }
   ],
   "source": [
    "np.asarray(cap_MAC).shape"
   ]
  },
  {
   "cell_type": "code",
   "execution_count": null,
   "metadata": {
    "collapsed": false
   },
   "outputs": [],
   "source": [
    "cap_HSI"
   ]
  },
  {
   "cell_type": "code",
   "execution_count": 4,
   "metadata": {
    "collapsed": false
   },
   "outputs": [],
   "source": [
    "data = open('table.dat', 'rb')\n",
    "strategy, tupples, SNR_HSI, SNR_MAC, SNR_BC = pickle.load(data)\n",
    "data.close()"
   ]
  },
  {
   "cell_type": "code",
   "execution_count": 5,
   "metadata": {
    "collapsed": false
   },
   "outputs": [
    {
     "data": {
      "text/plain": [
       "(30, 30, 30)"
      ]
     },
     "execution_count": 5,
     "metadata": {},
     "output_type": "execute_result"
    }
   ],
   "source": [
    "strategy.shape"
   ]
  },
  {
   "cell_type": "code",
   "execution_count": 31,
   "metadata": {
    "collapsed": false
   },
   "outputs": [],
   "source": [
    "plt.imshow(strategy[-1::-1,:,21])\n",
    "plt.colorbar()\n",
    "\n",
    "plt.figure()\n",
    "plt.imshow(max_trough[-1::-1,:,21])\n",
    "plt.colorbar()\n",
    "plt.show()"
   ]
  },
  {
   "cell_type": "code",
   "execution_count": 27,
   "metadata": {
    "collapsed": false
   },
   "outputs": [
    {
     "data": {
      "text/plain": [
       "(8, 30, 30, 30)"
      ]
     },
     "execution_count": 27,
     "metadata": {},
     "output_type": "execute_result"
    }
   ],
   "source": [
    "np.asarray(through).shape"
   ]
  },
  {
   "cell_type": "code",
   "execution_count": 30,
   "metadata": {
    "collapsed": false
   },
   "outputs": [],
   "source": [
    "  tupples = np.asarray([(i,j) for i in range(0, N+1) for j in range(0, N-i+1) if i+2*j<=N])[1:] # all feassible Nb,Ns tupples\n",
    "  through = []\n",
    "  for [Nb, Ns] in tupples:\n",
    "      through.append(2*Throughput_Eval_range_all(Nb, Ns, SNR_MAC, SNR_HSI, SNR_BC, 'XOR',768, h=1., D='single'))\n",
    "  strategy = np.zeros([len(SNR_BC), len(SNR_HSI), len(SNR_MAC)],int)\n",
    "  for i in range(len(through)):\n",
    "    act_range = np.hstack([np.arange(0, i), np.arange(i+1, len(through))])  \n",
    "    x,y,z = np.nonzero(through[i]>=(np.max(np.asarray(through)[act_range,:,:,:], axis=0)))\n",
    "    for j in range(len(x)):\n",
    "      strategy[x[j], y[j],z[j]] = i \n",
    "  max_trough = np.max(np.asarray(through), axis = 0)\n",
    " "
   ]
  },
  {
   "cell_type": "code",
   "execution_count": 63,
   "metadata": {
    "collapsed": false
   },
   "outputs": [
    {
     "name": "stdout",
     "output_type": "stream",
     "text": [
      "(31, 31, 31, 15, 2)\n",
      "(31, 31, 31) (31, 31, 31)\n",
      "(31, 31, 31)\n"
     ]
    }
   ],
   "source": [
    "import pickle\n",
    "\n",
    "SNR_MAC = np.linspace(0,30,31)\n",
    "SNR_BC = np.linspace(0,30,31)\n",
    "SNR_HSI = np.linspace(0,30,31)\n",
    "N = 6\n",
    "tuples = np.asarray([(i,j) for i in range(0, N+1) for j in range(0, N-i+1) if i+2*j<=N])[1:]\n",
    "adaptive_map = pickle.load(open('adaptive_coded_maps.dat','r'))\n",
    "\n",
    "#ress = np.asarray(res)\n",
    "print np.shape(np.asarray(adaptive_map))\n",
    "\n",
    "adapt = np.max(adaptive_map[:,:,:,:,0]+adaptive_map[:,:,:,:,1],axis=3)\n",
    "args = np.argmax(adaptive_map[:,:,:,:,0]+adaptive_map[:,:,:,:,1],axis=3)\n",
    "print np.shape(adapt), np.shape(args)\n",
    "\n",
    "adapt_rB = np.asarray([ress[i, j, k, args[i,j,k],1] for i in range(31) for j in range(31) for k in range(31)]).reshape(31,31,31)\n",
    "adapt_rS = np.asarray([ress[i, j, k, args[i,j,k],0] for i in range(31) for j in range(31) for k in range(31)]).reshape(31,31,31)\n",
    "\n",
    "print adapt_rB.shape\n",
    "\n",
    "test = np.asarray([np.sum(adaptive_map[i,i,i,:-3,:],axis=1) for i in range(31)])\n",
    "plt.plot(test)\n",
    "plt.show()"
   ]
  },
  {
   "cell_type": "code",
   "execution_count": 8,
   "metadata": {
    "collapsed": false
   },
   "outputs": [
    {
     "data": {
      "image/png": "[encoded data removed]",
      "text/plain": [
       "<matplotlib.figure.Figure at 0xaf12aeac>"
      ]
     },
     "metadata": {},
     "output_type": "display_data"
    }
   ],
   "source": [
    "from scipy.optimize import linprog\n",
    "from capacity_eval import *\n",
    "\n",
    "Nb = 2\n",
    "Ns = 1\n",
    "M = 1e4\n",
    "gMAC = 12\n",
    "gHSI = 8\n",
    "#gHSI = 5.5\n",
    "gBC = 10\n",
    "\n",
    "\n",
    "cBC = eval_cap_BC(Nb, Ns, gBC, M)\n",
    "cHSI = eval_cap_HSI(Nb, Ns, gHSI, M)\n",
    "#cMAC = eval_MAC_rand_phase(Nb, Ns, gMAC, M1 = 300, M2 = 300)\n",
    "\n",
    "cMAC = eval_MAC(Nb, Ns, gMAC, M)\n",
    "#cMAC = np.array( [3.16984004,  2.5764985 ,  2.57675782,  1.51168887,  0.75597148,  0.75571739,  1.98341627])\n",
    "#cBC = 3.4487448266329639\n",
    "#cHSI = 1.613597068410328\n",
    "r3 = cMAC[0]\n",
    "r2As = cMAC[1]\n",
    "r2Bs = cMAC[2]\n",
    "r2b = cMAC[3]\n",
    "r1As = cMAC[4]\n",
    "r1Bs = cMAC[5]\n",
    "r1b = cMAC[6]\n",
    "\n",
    "Rbs = np.array([r2As,r2Bs]).min()\n",
    "Rbss = np.array([r3, cBC]).min()\n",
    "Rs = np.array([r1As, r1Bs]).min()\n",
    "Rb = np.array([r1b, cHSI]).min()\n",
    "Rs2 = r2b/2\n",
    "\n",
    "\n",
    "\n",
    "\n",
    "c = [-1, -1]\n",
    "A = [[2, 1], [1, 1], [1,0], [0,1]]\n",
    "\n",
    "b = [Rbss, Rbs, Rs, Rb]\n",
    "x0_bounds = (0, None)\n",
    "x1_bounds = (0, None)\n",
    "res = linprog(c, A_ub=A, b_ub=b, bounds=(x0_bounds, x1_bounds))\n",
    "plt.figure(figsize=(5,5))\n",
    "plt.plot([0,r3/2.],[r3, 0],'k--', lw=2, label='MAC - Third Order')\n",
    "plt.plot([0,r2As],[r2As, 0],'k-.', lw=2, label='MAC - Second Order')\n",
    "plt.plot([Rs, Rs],[0, 3.2],'k:', lw=2, label='MAC - First Order')\n",
    "#plt.plot([Rs2, Rs2],[0, r1b],'r--', lw=2, label='MAC - First Order 2')\n",
    "plt.plot([0,3.2],[r1b, r1b],'k:', lw=2)\n",
    "plt.plot([0,3.2],[cHSI,cHSI],'r-', lw=2, label='HSI')\n",
    "plt.plot([0,cBC/2.],[cBC, 0],'m-', lw=2, label='BC - $2^{N_R}$-QAM')\n",
    "\n",
    "plt.fill_between([0, res.items()[4][1][0], Rs], [cHSI, res.items()[4][1][1], cBC-2*Rs], [0,0,0], color='lightblue')\n",
    "plt.plot([res.items()[4][1][0]],[res.items()[4][1][1]],'kx', ms=12, mew=4, label='Maximum $r_b+r_s$')\n",
    "#plt.plot([0.66],[1.5],'mx', ms=15,lw=5, label='Achived performance - LDPC')\n",
    "plt.plot([0.58],[1.76],'mo', fillstyle='full', ms=12,lw=5, label='Achived $r_b+r_s$')\n",
    "\n",
    "plt.xlim([0,3.2])\n",
    "plt.ylim([0,3.2])\n",
    "plt.legend(numpoints=1)\n",
    "plt.xlabel('$r_s$')\n",
    "plt.ylabel('$r_b$') \n",
    "plt.title('$\\gamma_{MAC=}$'+str(gMAC)+'dB, $\\gamma_{HSI=}$'+str(gHSI)+'dB, $\\gamma_{BC}$='+str(gBC)+'dB')\n",
    "plt.savefig('Rate_Regions_XOR_map_BC'+str(gBC)+'_MAC'+str(gMAC)+'_HSI'+str(gHSI)+'.eps')\n",
    "plt.show()"
   ]
  },
  {
   "cell_type": "code",
   "execution_count": 9,
   "metadata": {
    "collapsed": false
   },
   "outputs": [
    {
     "data": {
      "image/png": "[encoded data removed]",
      "text/plain": [
       "<matplotlib.figure.Figure at 0xaef7cc4c>"
      ]
     },
     "metadata": {},
     "output_type": "display_data"
    }
   ],
   "source": [
    "Nb = 2\n",
    "Ns = 1\n",
    "M = 1e4\n",
    "gMAC = 5\n",
    "gHSI = 0\n",
    "#gHSI = 5.5\n",
    "gBC = 5\n",
    "\n",
    "\n",
    "cBC = eval_cap_BC(Nb, Ns, gBC, M)\n",
    "cHSI = eval_cap_HSI(Nb, Ns, gHSI, M)\n",
    "#cMAC = eval_MAC_rand_phase(Nb, Ns, gMAC, M1 = 300, M2 = 300)\n",
    "\n",
    "cMAC = eval_MAC(Nb, Ns, gMAC, M)\n",
    "#cMAC = np.array( [3.16984004,  2.5764985 ,  2.57675782,  1.51168887,  0.75597148,  0.75571739,  1.98341627])\n",
    "#cBC = 3.4487448266329639\n",
    "#cHSI = 1.613597068410328\n",
    "r3 = cMAC[0]\n",
    "r2As = cMAC[1]\n",
    "r2Bs = cMAC[2]\n",
    "r2b = cMAC[3]\n",
    "r1As = cMAC[4]\n",
    "r1Bs = cMAC[5]\n",
    "r1b = cMAC[6]\n",
    "\n",
    "Rbs = np.array([r2As,r2Bs]).min()\n",
    "Rbss = np.array([r3, cBC]).min()\n",
    "Rs = np.array([r1As, r1Bs]).min()\n",
    "Rb = np.array([r1b, cHSI]).min()\n",
    "Rs2 = r2b/2\n",
    "\n",
    "\n",
    "\n",
    "\n",
    "c = [-1, -1]\n",
    "A = [[2, 1], [1, 1], [1,0], [0,1]]\n",
    "\n",
    "b = [Rbss, Rbs, Rs, Rb]\n",
    "x0_bounds = (0, None)\n",
    "x1_bounds = (0, None)\n",
    "res = linprog(c, A_ub=A, b_ub=b, bounds=(x0_bounds, x1_bounds))\n",
    "plt.figure(figsize=(5,5))\n",
    "plt.plot([0,r3/2.],[r3, 0],'k--', lw=2, label='MAC - Third Order')\n",
    "plt.plot([0,r2As],[r2As, 0],'k-.', lw=2, label='MAC - Second Order')\n",
    "plt.plot([Rs, Rs],[0, 1.8],'k:', lw=2, label='MAC - First Order')\n",
    "#plt.plot([Rs2, Rs2],[0, r1b],'r--', lw=2, label='MAC - First Order 2')\n",
    "plt.plot([0,1.8],[r1b, r1b],'k:', lw=2)\n",
    "plt.plot([0,1.8],[cHSI,cHSI],'r-', lw=2, label='HSI')\n",
    "plt.plot([0,cBC/2.],[cBC, 0],'m-', lw=2, label='BC - $2^{N_R}$-QAM')\n",
    "\n",
    "plt.fill_between([0, res.items()[4][1][0], Rs], [cHSI, res.items()[4][1][1], cBC-2*Rs], [0,0,0], color='lightblue')\n",
    "plt.plot([res.items()[4][1][0]],[res.items()[4][1][1]],'kx', ms=12, mew=4, label='Maximum $r_b+r_s$')\n",
    "#plt.plot([0.66],[1.5],'mx', ms=15,lw=5, label='Achived performance - LDPC')\n",
    "plt.plot([0.33],[0.8],'mo', fillstyle='full', ms=12,lw=5, label='Achived $r_b+r_s$')\n",
    "\n",
    "plt.xlim([0,1.8])\n",
    "plt.ylim([0,1.8])\n",
    "plt.legend(numpoints=1)\n",
    "plt.xlabel('$r_s$')\n",
    "plt.ylabel('$r_b$') \n",
    "plt.title('$\\gamma_{MAC=}$'+str(gMAC)+'dB, $\\gamma_{HSI=}$'+str(gHSI)+'dB, $\\gamma_{BC}$='+str(gBC)+'dB')\n",
    "plt.savefig('Rate_Regions_XOR_map_BC'+str(gBC)+'_MAC'+str(gMAC)+'_HSI'+str(gHSI)+'.eps')\n",
    "plt.show()"
   ]
  },
  {
   "cell_type": "code",
   "execution_count": null,
   "metadata": {
    "collapsed": true
   },
   "outputs": [],
   "source": []
  }
 ],
 "metadata": {
  "kernelspec": {
   "display_name": "Python 2",
   "language": "python",
   "name": "python2"
  },
  "language_info": {
   "codemirror_mode": {
    "name": "ipython",
    "version": 2
   },
   "file_extension": ".py",
   "mimetype": "text/x-python",
   "name": "python",
   "nbconvert_exporter": "python",
   "pygments_lexer": "ipython2",
   "version": "2.7.12"
  }
 },
 "nbformat": 4,
 "nbformat_minor": 0
}
